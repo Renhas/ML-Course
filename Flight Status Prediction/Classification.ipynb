{
 "cells": [
  {
   "cell_type": "markdown",
   "metadata": {},
   "source": [
    "# About"
   ]
  },
  {
   "cell_type": "markdown",
   "metadata": {},
   "source": [
    "Ноутбук посвящён решению задачи классификации статуса авиарейсов (отменён или нет) на основе [информации](https://www.kaggle.com/datasets/robikscube/flight-delay-dataset-20182022/data?select=Combined_Flights_2022.csv) о более чем 4 миллионах рейсов за 2022 год. \n",
    "\n",
    "Изначально датасет содержит 61 столбец:\n",
    "1. `FlightDate` - Дата рейса (гггг-мм-дд)\n",
    "2. `Airline` - Авиакомпания\n",
    "3. `Origin` - Аэропорт отправления \n",
    "4. `Dest` - Аэропорт назначения \n",
    "5. `Cancelled` - Статус отмены рейса\n",
    "6. `Diverted` - Статус перенаправления рейса\n",
    "7. `CRSDepTime` - Запланированное время отправления (ччмм)\n",
    "8. `DepTime` - Фактическое время отправления\n",
    "9. `DepDelayMinutes` - Задержка отправления в минутах. Ранние вылеты установлены в 0\n",
    "10. `DepDelay` - Задержка отправления в минутах. Ранние вылеты представлены отрицательными значениями\n",
    "11. `ArrTime` - Фактическое время прибытия\n",
    "12. `ArrDelayMinutes` - Задержка прибытия в минутах. Ранние прибытия установлены в 0\n",
    "13. `AirTime` - Длительность полёта в минутах (с момента взлёта до момента приземления)\n",
    "14. `CRSElapsedTime` - Запланированная длительность полёта в минутах (с начала движения до полной остановки)\n",
    "15. `ActualElapsedTime` - Фактическая длительность полёта в минутах (с начала движения до полной остановки)\n",
    "16. `Distance` - Расстояние в милях\n",
    "17. `Year` - Год\n",
    "18. `Quarter` - Квартал\n",
    "19. `Month` - Месяц\n",
    "20. `DayofMonth` - День месяца\n",
    "21. `DayOfWeek` - День недели\n",
    "22. `Marketing_Airline_Network` - Код авикомпании, продающей билеты\n",
    "23. `Operated_or_Branded_Code_Share_Partners` - Код авикомпании или группы авиакомпаний, осуществляющих рейсы под единым брендом\n",
    "24. `DOT_ID_Marketing_Airline` - Уникальный ID, присвоенный Министерством транспорта США, авиакомпании, которая занимается продажей билетов и маркетингом\n",
    "25. `IATA_Code_Marketing_Airline` - Код, назначаемый Международной ассоциацией воздушного транспорта, авикомпании, которая занимается продажей билетов и маркетингом. Один и тот же код может быть назначен разным перевозчикам в разное время, потому не обязан быть уникальным\n",
    "26. `Flight_Number_Marketing_Airline` - Номер рейса в рамках авикомпании, занимающейся маркетингом\n",
    "27. `Operating_Airline` - Уникальный код перевозчика\n",
    "28. `DOT_ID_Operating_Airline` - Уникальный ID авикомпании, занимающейся непосредсвенной перевозкой пассажиров\n",
    "29. `IATA_Code_Operating_Airline` - Код (возможно не уникальный) компании, занимающейся непосредственной перевозчкой пассажиров\n",
    "30. `Tail_Number` - Уникальный регистрационный номер самолёта, чаще всего наносится на хвостовую часть фюзеляжа\n",
    "31. `Flight_Number_Operating_Airline` - Номер рейса в рамках авикомпании, осуществляющей перевозку\n",
    "32. `OriginAirportID` - ID аэропорта отправления, присвоенный Министерством транспорта США\n",
    "33. `OriginAirportSeqID` - ID аэропорта отправления для упорядочивания аэропортов. Отражает лишь относительный порядок аэропортов, может быть не уникален и меняться в зависимости от сортировки аэропортов\n",
    "34. `OriginCityMarketID` - ID города\\региона, в котором находится аэропорт отправления. Используется для группировки аэропортов, обслуживающих один городской рынок \n",
    "35. `OriginCityName` - Название города, в котором находится аэропорт отправления\n",
    "36. `OriginState` - Код штата (сокращенное название), в котором находится аэропорт отправления\n",
    "37. `OriginStateFips` - Код штата (числовой, официальный код), в котором находится аэропорт отправления\n",
    "38. `OriginStateName` - Название штата, в котором находится аэропорт отправления\n",
    "39. `OriginWac` - Коордианты аэропорта отправления по системе WAC\n",
    "40. `DestAirportID` - ID аэропорта назначения, присвоенный Министерством транспорта США\n",
    "41. `DestAirportSeqID` - ID аэропорта назначения для упорядочивания аэропортов\n",
    "42. `DestCityMarketID` - ID города\\региона, в котором находится аэропорт назначения\n",
    "43. `DestCityName` - Название города, в котором находится аэропорт назначения\n",
    "44. `DestState` - Код штата (сокращенное название), в котором находится аэропорт назначения\n",
    "45. `DestStateFips` - Код штата (числовой, официальный код), в котором находится аэропорт назначения\n",
    "46. `DestStateName` - Название штата, в котором находится аэропорт назначения\n",
    "47. `DestWac` - Коордианты аэропорта назначения по системе WAC\n",
    "48. `DepDel15` - Индикатор 15+ минутной задержки отправления (True - задержка на 15 и более минут)\n",
    "49. `DepartureDelayGroups` - Интервал задержки отправления. Интервалы формируются каждые 15 минут до 180\n",
    "50. `DepTimeBlk` - Блок времени (почасовой) отправления, в который попадает рейс\n",
    "51. `TaxiOut` - Время в минутах, прошедшее с момента начала движения самолёта от стоянки до момента взлёта\n",
    "52. `WheelsOff` - Момент времени, когда самолёт начал лететь\n",
    "53. `WheelsOn` - Момент времени, когда самолёт приземлился\n",
    "54. `TaxiIn` - Время в минутах, прошедшее с момента приземления до полной остановки\n",
    "55. `CRSArrTime` - Запланированное время прибытия\n",
    "56. `ArrDelay` - Задержка прибытия в минутах. Ранние прибытия представлены отрицательными значениями\n",
    "57. `ArrDel15` - Индикатор 15+ минутной задержки прибытия\n",
    "58. `ArrivalDelayGroups` - Интервал задержки прибытия. Интервалы формируются каждые 15 минут до 180\n",
    "59. `ArrTimeBlk` - Блок времени (почасовой) прибытия, в который попадает рейс\n",
    "60. `DistanceGroup` - Интервал расстояния (по 250 миль)\n",
    "61. `DivAirportLandings` - Количество перенаправлений рейса"
   ]
  },
  {
   "cell_type": "markdown",
   "metadata": {},
   "source": [
    "# Packages"
   ]
  },
  {
   "cell_type": "code",
   "execution_count": 126,
   "metadata": {},
   "outputs": [],
   "source": [
    "import numpy as np\n",
    "\n",
    "# Metrics\n",
    "from sklearn.metrics import (\n",
    "    f1_score, roc_auc_score, precision_score, recall_score,\n",
    "    RocCurveDisplay, ConfusionMatrixDisplay\n",
    ")\n",
    "\n",
    "# Models\n",
    "from sklearn.neighbors import KNeighborsClassifier\n",
    "from sklearn.ensemble import RandomForestClassifier\n",
    "from sklearn.tree import DecisionTreeClassifier\n",
    "\n",
    "# Data\n",
    "import os\n",
    "import shutil\n",
    "import zipfile\n",
    "import kagglehub\n",
    "from sklearn.preprocessing import StandardScaler, TargetEncoder, OneHotEncoder\n",
    "from sklearn.model_selection import train_test_split, GridSearchCV, cross_validate\n",
    "import pandas as pd\n",
    "\n",
    "# Visualization\n",
    "import matplotlib.pyplot as plt\n",
    "import seaborn as sns"
   ]
  },
  {
   "cell_type": "code",
   "execution_count": 2,
   "metadata": {},
   "outputs": [],
   "source": [
    "def unzip(file_path, delete=True):\n",
    "    with zipfile.ZipFile(file_path, \"r\") as f:\n",
    "        f.extractall()\n",
    "    if delete:\n",
    "        os.remove(file_path)"
   ]
  },
  {
   "cell_type": "markdown",
   "metadata": {},
   "source": [
    "# Dataset"
   ]
  },
  {
   "cell_type": "code",
   "execution_count": 3,
   "metadata": {},
   "outputs": [],
   "source": [
    "if not os.path.exists(\"./Combined_Flights_2022.csv\"):\n",
    "    path = kagglehub.dataset_download(\"robikscube/flight-delay-dataset-20182022\", path=\"Combined_Flights_2022.csv\")\n",
    "    path = shutil.move(path, f\"./Combined_Flights_2022.csv.zip\")\n",
    "    unzip(path)"
   ]
  },
  {
   "cell_type": "code",
   "execution_count": 4,
   "metadata": {},
   "outputs": [],
   "source": [
    "if not os.path.exists(\"./Airlines.csv\"):\n",
    "    path = kagglehub.dataset_download(\"robikscube/flight-delay-dataset-20182022\", path=\"Airlines.csv\")\n",
    "    shutil.move(path, f\"./Airlines.csv\")"
   ]
  },
  {
   "cell_type": "code",
   "execution_count": 5,
   "metadata": {},
   "outputs": [],
   "source": [
    "dt = pd.read_csv(\"Combined_Flights_2022.csv\")"
   ]
  },
  {
   "cell_type": "code",
   "execution_count": 6,
   "metadata": {},
   "outputs": [
    {
     "data": {
      "text/html": [
       "<div>\n",
       "<style scoped>\n",
       "    .dataframe tbody tr th:only-of-type {\n",
       "        vertical-align: middle;\n",
       "    }\n",
       "\n",
       "    .dataframe tbody tr th {\n",
       "        vertical-align: top;\n",
       "    }\n",
       "\n",
       "    .dataframe thead th {\n",
       "        text-align: right;\n",
       "    }\n",
       "</style>\n",
       "<table border=\"1\" class=\"dataframe\">\n",
       "  <thead>\n",
       "    <tr style=\"text-align: right;\">\n",
       "      <th></th>\n",
       "      <th>FlightDate</th>\n",
       "      <th>Airline</th>\n",
       "      <th>Origin</th>\n",
       "      <th>Dest</th>\n",
       "      <th>Cancelled</th>\n",
       "      <th>Diverted</th>\n",
       "      <th>CRSDepTime</th>\n",
       "      <th>DepTime</th>\n",
       "      <th>DepDelayMinutes</th>\n",
       "      <th>DepDelay</th>\n",
       "      <th>...</th>\n",
       "      <th>WheelsOff</th>\n",
       "      <th>WheelsOn</th>\n",
       "      <th>TaxiIn</th>\n",
       "      <th>CRSArrTime</th>\n",
       "      <th>ArrDelay</th>\n",
       "      <th>ArrDel15</th>\n",
       "      <th>ArrivalDelayGroups</th>\n",
       "      <th>ArrTimeBlk</th>\n",
       "      <th>DistanceGroup</th>\n",
       "      <th>DivAirportLandings</th>\n",
       "    </tr>\n",
       "  </thead>\n",
       "  <tbody>\n",
       "    <tr>\n",
       "      <th>0</th>\n",
       "      <td>2022-04-04</td>\n",
       "      <td>Commutair Aka Champlain Enterprises, Inc.</td>\n",
       "      <td>GJT</td>\n",
       "      <td>DEN</td>\n",
       "      <td>False</td>\n",
       "      <td>False</td>\n",
       "      <td>1133</td>\n",
       "      <td>1123.0</td>\n",
       "      <td>0.0</td>\n",
       "      <td>-10.0</td>\n",
       "      <td>...</td>\n",
       "      <td>1140.0</td>\n",
       "      <td>1220.0</td>\n",
       "      <td>8.0</td>\n",
       "      <td>1245</td>\n",
       "      <td>-17.0</td>\n",
       "      <td>0.0</td>\n",
       "      <td>-2.0</td>\n",
       "      <td>1200-1259</td>\n",
       "      <td>1</td>\n",
       "      <td>0</td>\n",
       "    </tr>\n",
       "    <tr>\n",
       "      <th>1</th>\n",
       "      <td>2022-04-04</td>\n",
       "      <td>Commutair Aka Champlain Enterprises, Inc.</td>\n",
       "      <td>HRL</td>\n",
       "      <td>IAH</td>\n",
       "      <td>False</td>\n",
       "      <td>False</td>\n",
       "      <td>732</td>\n",
       "      <td>728.0</td>\n",
       "      <td>0.0</td>\n",
       "      <td>-4.0</td>\n",
       "      <td>...</td>\n",
       "      <td>744.0</td>\n",
       "      <td>839.0</td>\n",
       "      <td>9.0</td>\n",
       "      <td>849</td>\n",
       "      <td>-1.0</td>\n",
       "      <td>0.0</td>\n",
       "      <td>-1.0</td>\n",
       "      <td>0800-0859</td>\n",
       "      <td>2</td>\n",
       "      <td>0</td>\n",
       "    </tr>\n",
       "    <tr>\n",
       "      <th>2</th>\n",
       "      <td>2022-04-04</td>\n",
       "      <td>Commutair Aka Champlain Enterprises, Inc.</td>\n",
       "      <td>DRO</td>\n",
       "      <td>DEN</td>\n",
       "      <td>False</td>\n",
       "      <td>False</td>\n",
       "      <td>1529</td>\n",
       "      <td>1514.0</td>\n",
       "      <td>0.0</td>\n",
       "      <td>-15.0</td>\n",
       "      <td>...</td>\n",
       "      <td>1535.0</td>\n",
       "      <td>1622.0</td>\n",
       "      <td>14.0</td>\n",
       "      <td>1639</td>\n",
       "      <td>-3.0</td>\n",
       "      <td>0.0</td>\n",
       "      <td>-1.0</td>\n",
       "      <td>1600-1659</td>\n",
       "      <td>2</td>\n",
       "      <td>0</td>\n",
       "    </tr>\n",
       "    <tr>\n",
       "      <th>3</th>\n",
       "      <td>2022-04-04</td>\n",
       "      <td>Commutair Aka Champlain Enterprises, Inc.</td>\n",
       "      <td>IAH</td>\n",
       "      <td>GPT</td>\n",
       "      <td>False</td>\n",
       "      <td>False</td>\n",
       "      <td>1435</td>\n",
       "      <td>1430.0</td>\n",
       "      <td>0.0</td>\n",
       "      <td>-5.0</td>\n",
       "      <td>...</td>\n",
       "      <td>1446.0</td>\n",
       "      <td>1543.0</td>\n",
       "      <td>4.0</td>\n",
       "      <td>1605</td>\n",
       "      <td>-18.0</td>\n",
       "      <td>0.0</td>\n",
       "      <td>-2.0</td>\n",
       "      <td>1600-1659</td>\n",
       "      <td>2</td>\n",
       "      <td>0</td>\n",
       "    </tr>\n",
       "    <tr>\n",
       "      <th>4</th>\n",
       "      <td>2022-04-04</td>\n",
       "      <td>Commutair Aka Champlain Enterprises, Inc.</td>\n",
       "      <td>DRO</td>\n",
       "      <td>DEN</td>\n",
       "      <td>False</td>\n",
       "      <td>False</td>\n",
       "      <td>1135</td>\n",
       "      <td>1135.0</td>\n",
       "      <td>0.0</td>\n",
       "      <td>0.0</td>\n",
       "      <td>...</td>\n",
       "      <td>1154.0</td>\n",
       "      <td>1243.0</td>\n",
       "      <td>8.0</td>\n",
       "      <td>1245</td>\n",
       "      <td>6.0</td>\n",
       "      <td>0.0</td>\n",
       "      <td>0.0</td>\n",
       "      <td>1200-1259</td>\n",
       "      <td>2</td>\n",
       "      <td>0</td>\n",
       "    </tr>\n",
       "  </tbody>\n",
       "</table>\n",
       "<p>5 rows × 61 columns</p>\n",
       "</div>"
      ],
      "text/plain": [
       "   FlightDate                                    Airline Origin Dest  \\\n",
       "0  2022-04-04  Commutair Aka Champlain Enterprises, Inc.    GJT  DEN   \n",
       "1  2022-04-04  Commutair Aka Champlain Enterprises, Inc.    HRL  IAH   \n",
       "2  2022-04-04  Commutair Aka Champlain Enterprises, Inc.    DRO  DEN   \n",
       "3  2022-04-04  Commutair Aka Champlain Enterprises, Inc.    IAH  GPT   \n",
       "4  2022-04-04  Commutair Aka Champlain Enterprises, Inc.    DRO  DEN   \n",
       "\n",
       "   Cancelled  Diverted  CRSDepTime  DepTime  DepDelayMinutes  DepDelay  ...  \\\n",
       "0      False     False        1133   1123.0              0.0     -10.0  ...   \n",
       "1      False     False         732    728.0              0.0      -4.0  ...   \n",
       "2      False     False        1529   1514.0              0.0     -15.0  ...   \n",
       "3      False     False        1435   1430.0              0.0      -5.0  ...   \n",
       "4      False     False        1135   1135.0              0.0       0.0  ...   \n",
       "\n",
       "   WheelsOff  WheelsOn  TaxiIn  CRSArrTime  ArrDelay  ArrDel15  \\\n",
       "0     1140.0    1220.0     8.0        1245     -17.0       0.0   \n",
       "1      744.0     839.0     9.0         849      -1.0       0.0   \n",
       "2     1535.0    1622.0    14.0        1639      -3.0       0.0   \n",
       "3     1446.0    1543.0     4.0        1605     -18.0       0.0   \n",
       "4     1154.0    1243.0     8.0        1245       6.0       0.0   \n",
       "\n",
       "   ArrivalDelayGroups  ArrTimeBlk  DistanceGroup  DivAirportLandings  \n",
       "0                -2.0   1200-1259              1                   0  \n",
       "1                -1.0   0800-0859              2                   0  \n",
       "2                -1.0   1600-1659              2                   0  \n",
       "3                -2.0   1600-1659              2                   0  \n",
       "4                 0.0   1200-1259              2                   0  \n",
       "\n",
       "[5 rows x 61 columns]"
      ]
     },
     "execution_count": 6,
     "metadata": {},
     "output_type": "execute_result"
    }
   ],
   "source": [
    "dt.head(5)"
   ]
  },
  {
   "cell_type": "markdown",
   "metadata": {},
   "source": [
    "## Useless features"
   ]
  },
  {
   "cell_type": "markdown",
   "metadata": {},
   "source": [
    "В датасете представлены бесполезные для задачи признаки, которые было бы неплохо удалить из рассмотрения."
   ]
  },
  {
   "cell_type": "markdown",
   "metadata": {},
   "source": [
    "### Date"
   ]
  },
  {
   "cell_type": "markdown",
   "metadata": {},
   "source": [
    "`Year` - бесполезен, т.к. рассматриваются данные только за 2022 год. В датасете он нужен для анализа рейсов в разные года"
   ]
  },
  {
   "cell_type": "code",
   "execution_count": 7,
   "metadata": {},
   "outputs": [
    {
     "data": {
      "text/plain": [
       "array([2022])"
      ]
     },
     "execution_count": 7,
     "metadata": {},
     "output_type": "execute_result"
    }
   ],
   "source": [
    "dt[\"Year\"].unique()"
   ]
  },
  {
   "cell_type": "markdown",
   "metadata": {},
   "source": [
    "`FlightDate` - бесполезен, т.к. идентичные данные представлены в столбцах `Year`, `Month` и `DayofMonth`"
   ]
  },
  {
   "cell_type": "code",
   "execution_count": 8,
   "metadata": {},
   "outputs": [
    {
     "data": {
      "text/html": [
       "<div>\n",
       "<style scoped>\n",
       "    .dataframe tbody tr th:only-of-type {\n",
       "        vertical-align: middle;\n",
       "    }\n",
       "\n",
       "    .dataframe tbody tr th {\n",
       "        vertical-align: top;\n",
       "    }\n",
       "\n",
       "    .dataframe thead th {\n",
       "        text-align: right;\n",
       "    }\n",
       "</style>\n",
       "<table border=\"1\" class=\"dataframe\">\n",
       "  <thead>\n",
       "    <tr style=\"text-align: right;\">\n",
       "      <th></th>\n",
       "      <th>FlightDate</th>\n",
       "      <th>Year</th>\n",
       "      <th>Month</th>\n",
       "      <th>DayofMonth</th>\n",
       "    </tr>\n",
       "  </thead>\n",
       "  <tbody>\n",
       "    <tr>\n",
       "      <th>0</th>\n",
       "      <td>2022-04-04</td>\n",
       "      <td>2022</td>\n",
       "      <td>4</td>\n",
       "      <td>4</td>\n",
       "    </tr>\n",
       "    <tr>\n",
       "      <th>1</th>\n",
       "      <td>2022-04-04</td>\n",
       "      <td>2022</td>\n",
       "      <td>4</td>\n",
       "      <td>4</td>\n",
       "    </tr>\n",
       "    <tr>\n",
       "      <th>2</th>\n",
       "      <td>2022-04-04</td>\n",
       "      <td>2022</td>\n",
       "      <td>4</td>\n",
       "      <td>4</td>\n",
       "    </tr>\n",
       "    <tr>\n",
       "      <th>3</th>\n",
       "      <td>2022-04-04</td>\n",
       "      <td>2022</td>\n",
       "      <td>4</td>\n",
       "      <td>4</td>\n",
       "    </tr>\n",
       "    <tr>\n",
       "      <th>4</th>\n",
       "      <td>2022-04-04</td>\n",
       "      <td>2022</td>\n",
       "      <td>4</td>\n",
       "      <td>4</td>\n",
       "    </tr>\n",
       "    <tr>\n",
       "      <th>...</th>\n",
       "      <td>...</td>\n",
       "      <td>...</td>\n",
       "      <td>...</td>\n",
       "      <td>...</td>\n",
       "    </tr>\n",
       "    <tr>\n",
       "      <th>4078313</th>\n",
       "      <td>2022-03-31</td>\n",
       "      <td>2022</td>\n",
       "      <td>3</td>\n",
       "      <td>31</td>\n",
       "    </tr>\n",
       "    <tr>\n",
       "      <th>4078314</th>\n",
       "      <td>2022-03-17</td>\n",
       "      <td>2022</td>\n",
       "      <td>3</td>\n",
       "      <td>17</td>\n",
       "    </tr>\n",
       "    <tr>\n",
       "      <th>4078315</th>\n",
       "      <td>2022-03-08</td>\n",
       "      <td>2022</td>\n",
       "      <td>3</td>\n",
       "      <td>8</td>\n",
       "    </tr>\n",
       "    <tr>\n",
       "      <th>4078316</th>\n",
       "      <td>2022-03-25</td>\n",
       "      <td>2022</td>\n",
       "      <td>3</td>\n",
       "      <td>25</td>\n",
       "    </tr>\n",
       "    <tr>\n",
       "      <th>4078317</th>\n",
       "      <td>2022-03-07</td>\n",
       "      <td>2022</td>\n",
       "      <td>3</td>\n",
       "      <td>7</td>\n",
       "    </tr>\n",
       "  </tbody>\n",
       "</table>\n",
       "<p>4078318 rows × 4 columns</p>\n",
       "</div>"
      ],
      "text/plain": [
       "         FlightDate  Year  Month  DayofMonth\n",
       "0        2022-04-04  2022      4           4\n",
       "1        2022-04-04  2022      4           4\n",
       "2        2022-04-04  2022      4           4\n",
       "3        2022-04-04  2022      4           4\n",
       "4        2022-04-04  2022      4           4\n",
       "...             ...   ...    ...         ...\n",
       "4078313  2022-03-31  2022      3          31\n",
       "4078314  2022-03-17  2022      3          17\n",
       "4078315  2022-03-08  2022      3           8\n",
       "4078316  2022-03-25  2022      3          25\n",
       "4078317  2022-03-07  2022      3           7\n",
       "\n",
       "[4078318 rows x 4 columns]"
      ]
     },
     "execution_count": 8,
     "metadata": {},
     "output_type": "execute_result"
    }
   ],
   "source": [
    "dt[[\"FlightDate\", \"Year\", \"Month\", \"DayofMonth\"]]"
   ]
  },
  {
   "cell_type": "markdown",
   "metadata": {},
   "source": [
    "`Quarter` по факту является неким обобщением `Month` и не несёт никакой доп. информации, поэтому его также можно удалить из рассмотрения."
   ]
  },
  {
   "cell_type": "code",
   "execution_count": 9,
   "metadata": {},
   "outputs": [
    {
     "data": {
      "text/html": [
       "<div>\n",
       "<style scoped>\n",
       "    .dataframe tbody tr th:only-of-type {\n",
       "        vertical-align: middle;\n",
       "    }\n",
       "\n",
       "    .dataframe tbody tr th {\n",
       "        vertical-align: top;\n",
       "    }\n",
       "\n",
       "    .dataframe thead th {\n",
       "        text-align: right;\n",
       "    }\n",
       "</style>\n",
       "<table border=\"1\" class=\"dataframe\">\n",
       "  <thead>\n",
       "    <tr style=\"text-align: right;\">\n",
       "      <th></th>\n",
       "      <th>Quarter</th>\n",
       "      <th>Month</th>\n",
       "    </tr>\n",
       "  </thead>\n",
       "  <tbody>\n",
       "    <tr>\n",
       "      <th>0</th>\n",
       "      <td>2</td>\n",
       "      <td>4</td>\n",
       "    </tr>\n",
       "    <tr>\n",
       "      <th>1</th>\n",
       "      <td>2</td>\n",
       "      <td>4</td>\n",
       "    </tr>\n",
       "    <tr>\n",
       "      <th>2</th>\n",
       "      <td>2</td>\n",
       "      <td>4</td>\n",
       "    </tr>\n",
       "    <tr>\n",
       "      <th>3</th>\n",
       "      <td>2</td>\n",
       "      <td>4</td>\n",
       "    </tr>\n",
       "    <tr>\n",
       "      <th>4</th>\n",
       "      <td>2</td>\n",
       "      <td>4</td>\n",
       "    </tr>\n",
       "    <tr>\n",
       "      <th>...</th>\n",
       "      <td>...</td>\n",
       "      <td>...</td>\n",
       "    </tr>\n",
       "    <tr>\n",
       "      <th>4078313</th>\n",
       "      <td>1</td>\n",
       "      <td>3</td>\n",
       "    </tr>\n",
       "    <tr>\n",
       "      <th>4078314</th>\n",
       "      <td>1</td>\n",
       "      <td>3</td>\n",
       "    </tr>\n",
       "    <tr>\n",
       "      <th>4078315</th>\n",
       "      <td>1</td>\n",
       "      <td>3</td>\n",
       "    </tr>\n",
       "    <tr>\n",
       "      <th>4078316</th>\n",
       "      <td>1</td>\n",
       "      <td>3</td>\n",
       "    </tr>\n",
       "    <tr>\n",
       "      <th>4078317</th>\n",
       "      <td>1</td>\n",
       "      <td>3</td>\n",
       "    </tr>\n",
       "  </tbody>\n",
       "</table>\n",
       "<p>4078318 rows × 2 columns</p>\n",
       "</div>"
      ],
      "text/plain": [
       "         Quarter  Month\n",
       "0              2      4\n",
       "1              2      4\n",
       "2              2      4\n",
       "3              2      4\n",
       "4              2      4\n",
       "...          ...    ...\n",
       "4078313        1      3\n",
       "4078314        1      3\n",
       "4078315        1      3\n",
       "4078316        1      3\n",
       "4078317        1      3\n",
       "\n",
       "[4078318 rows x 2 columns]"
      ]
     },
     "execution_count": 9,
     "metadata": {},
     "output_type": "execute_result"
    }
   ],
   "source": [
    "dt[[\"Quarter\", \"Month\"]]"
   ]
  },
  {
   "cell_type": "code",
   "execution_count": 10,
   "metadata": {},
   "outputs": [
    {
     "data": {
      "text/plain": [
       "True"
      ]
     },
     "execution_count": 10,
     "metadata": {},
     "output_type": "execute_result"
    }
   ],
   "source": [
    "calculated = (dt[\"Month\"] - 1) // 3 + 1\n",
    "all(dt[\"Quarter\"] == calculated)"
   ]
  },
  {
   "cell_type": "markdown",
   "metadata": {},
   "source": [
    "### Times"
   ]
  },
  {
   "cell_type": "markdown",
   "metadata": {},
   "source": [
    "Признак `AirTime` линейно выражается через столбцы `ActualElapsedTime`, `TaxiOut` и `TaxiIn` (из первого вычесть последние), поэтому его можно также удалить из рассмотрения."
   ]
  },
  {
   "cell_type": "code",
   "execution_count": 11,
   "metadata": {},
   "outputs": [
    {
     "data": {
      "text/html": [
       "<div>\n",
       "<style scoped>\n",
       "    .dataframe tbody tr th:only-of-type {\n",
       "        vertical-align: middle;\n",
       "    }\n",
       "\n",
       "    .dataframe tbody tr th {\n",
       "        vertical-align: top;\n",
       "    }\n",
       "\n",
       "    .dataframe thead th {\n",
       "        text-align: right;\n",
       "    }\n",
       "</style>\n",
       "<table border=\"1\" class=\"dataframe\">\n",
       "  <thead>\n",
       "    <tr style=\"text-align: right;\">\n",
       "      <th></th>\n",
       "      <th>AirTime</th>\n",
       "      <th>CRSElapsedTime</th>\n",
       "      <th>ActualElapsedTime</th>\n",
       "      <th>TaxiOut</th>\n",
       "      <th>TaxiIn</th>\n",
       "    </tr>\n",
       "  </thead>\n",
       "  <tbody>\n",
       "    <tr>\n",
       "      <th>0</th>\n",
       "      <td>40.0</td>\n",
       "      <td>72.0</td>\n",
       "      <td>65.0</td>\n",
       "      <td>17.0</td>\n",
       "      <td>8.0</td>\n",
       "    </tr>\n",
       "    <tr>\n",
       "      <th>1</th>\n",
       "      <td>55.0</td>\n",
       "      <td>77.0</td>\n",
       "      <td>80.0</td>\n",
       "      <td>16.0</td>\n",
       "      <td>9.0</td>\n",
       "    </tr>\n",
       "    <tr>\n",
       "      <th>2</th>\n",
       "      <td>47.0</td>\n",
       "      <td>70.0</td>\n",
       "      <td>82.0</td>\n",
       "      <td>21.0</td>\n",
       "      <td>14.0</td>\n",
       "    </tr>\n",
       "    <tr>\n",
       "      <th>3</th>\n",
       "      <td>57.0</td>\n",
       "      <td>90.0</td>\n",
       "      <td>77.0</td>\n",
       "      <td>16.0</td>\n",
       "      <td>4.0</td>\n",
       "    </tr>\n",
       "    <tr>\n",
       "      <th>4</th>\n",
       "      <td>49.0</td>\n",
       "      <td>70.0</td>\n",
       "      <td>76.0</td>\n",
       "      <td>19.0</td>\n",
       "      <td>8.0</td>\n",
       "    </tr>\n",
       "    <tr>\n",
       "      <th>...</th>\n",
       "      <td>...</td>\n",
       "      <td>...</td>\n",
       "      <td>...</td>\n",
       "      <td>...</td>\n",
       "      <td>...</td>\n",
       "    </tr>\n",
       "    <tr>\n",
       "      <th>4078313</th>\n",
       "      <td>NaN</td>\n",
       "      <td>185.0</td>\n",
       "      <td>NaN</td>\n",
       "      <td>17.0</td>\n",
       "      <td>32.0</td>\n",
       "    </tr>\n",
       "    <tr>\n",
       "      <th>4078314</th>\n",
       "      <td>NaN</td>\n",
       "      <td>129.0</td>\n",
       "      <td>NaN</td>\n",
       "      <td>NaN</td>\n",
       "      <td>NaN</td>\n",
       "    </tr>\n",
       "    <tr>\n",
       "      <th>4078315</th>\n",
       "      <td>135.0</td>\n",
       "      <td>158.0</td>\n",
       "      <td>161.0</td>\n",
       "      <td>19.0</td>\n",
       "      <td>7.0</td>\n",
       "    </tr>\n",
       "    <tr>\n",
       "      <th>4078316</th>\n",
       "      <td>NaN</td>\n",
       "      <td>86.0</td>\n",
       "      <td>NaN</td>\n",
       "      <td>25.0</td>\n",
       "      <td>6.0</td>\n",
       "    </tr>\n",
       "    <tr>\n",
       "      <th>4078317</th>\n",
       "      <td>NaN</td>\n",
       "      <td>99.0</td>\n",
       "      <td>NaN</td>\n",
       "      <td>13.0</td>\n",
       "      <td>4.0</td>\n",
       "    </tr>\n",
       "  </tbody>\n",
       "</table>\n",
       "<p>4078318 rows × 5 columns</p>\n",
       "</div>"
      ],
      "text/plain": [
       "         AirTime  CRSElapsedTime  ActualElapsedTime  TaxiOut  TaxiIn\n",
       "0           40.0            72.0               65.0     17.0     8.0\n",
       "1           55.0            77.0               80.0     16.0     9.0\n",
       "2           47.0            70.0               82.0     21.0    14.0\n",
       "3           57.0            90.0               77.0     16.0     4.0\n",
       "4           49.0            70.0               76.0     19.0     8.0\n",
       "...          ...             ...                ...      ...     ...\n",
       "4078313      NaN           185.0                NaN     17.0    32.0\n",
       "4078314      NaN           129.0                NaN      NaN     NaN\n",
       "4078315    135.0           158.0              161.0     19.0     7.0\n",
       "4078316      NaN            86.0                NaN     25.0     6.0\n",
       "4078317      NaN            99.0                NaN     13.0     4.0\n",
       "\n",
       "[4078318 rows x 5 columns]"
      ]
     },
     "execution_count": 11,
     "metadata": {},
     "output_type": "execute_result"
    }
   ],
   "source": [
    "dt[[\"AirTime\", \"CRSElapsedTime\", \"ActualElapsedTime\", \"TaxiOut\", \"TaxiIn\"]]"
   ]
  },
  {
   "cell_type": "markdown",
   "metadata": {},
   "source": [
    "Признаки `WheelsOff` и `WheelsOn` линейно зависят от пар (`DepTime`, `TaxiOut`) и (`ArrTime`, `WheelsOn`) соответственно. Следовательно, данные два признака также можно удалить из рассмотрения."
   ]
  },
  {
   "cell_type": "code",
   "execution_count": 12,
   "metadata": {},
   "outputs": [
    {
     "data": {
      "text/html": [
       "<div>\n",
       "<style scoped>\n",
       "    .dataframe tbody tr th:only-of-type {\n",
       "        vertical-align: middle;\n",
       "    }\n",
       "\n",
       "    .dataframe tbody tr th {\n",
       "        vertical-align: top;\n",
       "    }\n",
       "\n",
       "    .dataframe thead th {\n",
       "        text-align: right;\n",
       "    }\n",
       "</style>\n",
       "<table border=\"1\" class=\"dataframe\">\n",
       "  <thead>\n",
       "    <tr style=\"text-align: right;\">\n",
       "      <th></th>\n",
       "      <th>DepTime</th>\n",
       "      <th>TaxiOut</th>\n",
       "      <th>WheelsOff</th>\n",
       "      <th>ArrTime</th>\n",
       "      <th>TaxiIn</th>\n",
       "      <th>WheelsOn</th>\n",
       "    </tr>\n",
       "  </thead>\n",
       "  <tbody>\n",
       "    <tr>\n",
       "      <th>0</th>\n",
       "      <td>1123.0</td>\n",
       "      <td>17.0</td>\n",
       "      <td>1140.0</td>\n",
       "      <td>1228.0</td>\n",
       "      <td>8.0</td>\n",
       "      <td>1220.0</td>\n",
       "    </tr>\n",
       "    <tr>\n",
       "      <th>1</th>\n",
       "      <td>728.0</td>\n",
       "      <td>16.0</td>\n",
       "      <td>744.0</td>\n",
       "      <td>848.0</td>\n",
       "      <td>9.0</td>\n",
       "      <td>839.0</td>\n",
       "    </tr>\n",
       "    <tr>\n",
       "      <th>2</th>\n",
       "      <td>1514.0</td>\n",
       "      <td>21.0</td>\n",
       "      <td>1535.0</td>\n",
       "      <td>1636.0</td>\n",
       "      <td>14.0</td>\n",
       "      <td>1622.0</td>\n",
       "    </tr>\n",
       "    <tr>\n",
       "      <th>3</th>\n",
       "      <td>1430.0</td>\n",
       "      <td>16.0</td>\n",
       "      <td>1446.0</td>\n",
       "      <td>1547.0</td>\n",
       "      <td>4.0</td>\n",
       "      <td>1543.0</td>\n",
       "    </tr>\n",
       "    <tr>\n",
       "      <th>4</th>\n",
       "      <td>1135.0</td>\n",
       "      <td>19.0</td>\n",
       "      <td>1154.0</td>\n",
       "      <td>1251.0</td>\n",
       "      <td>8.0</td>\n",
       "      <td>1243.0</td>\n",
       "    </tr>\n",
       "    <tr>\n",
       "      <th>...</th>\n",
       "      <td>...</td>\n",
       "      <td>...</td>\n",
       "      <td>...</td>\n",
       "      <td>...</td>\n",
       "      <td>...</td>\n",
       "      <td>...</td>\n",
       "    </tr>\n",
       "    <tr>\n",
       "      <th>4078313</th>\n",
       "      <td>2014.0</td>\n",
       "      <td>17.0</td>\n",
       "      <td>2031.0</td>\n",
       "      <td>234.0</td>\n",
       "      <td>32.0</td>\n",
       "      <td>202.0</td>\n",
       "    </tr>\n",
       "    <tr>\n",
       "      <th>4078314</th>\n",
       "      <td>1817.0</td>\n",
       "      <td>NaN</td>\n",
       "      <td>NaN</td>\n",
       "      <td>NaN</td>\n",
       "      <td>NaN</td>\n",
       "      <td>NaN</td>\n",
       "    </tr>\n",
       "    <tr>\n",
       "      <th>4078315</th>\n",
       "      <td>2318.0</td>\n",
       "      <td>19.0</td>\n",
       "      <td>2337.0</td>\n",
       "      <td>59.0</td>\n",
       "      <td>7.0</td>\n",
       "      <td>52.0</td>\n",
       "    </tr>\n",
       "    <tr>\n",
       "      <th>4078316</th>\n",
       "      <td>2322.0</td>\n",
       "      <td>25.0</td>\n",
       "      <td>2347.0</td>\n",
       "      <td>939.0</td>\n",
       "      <td>6.0</td>\n",
       "      <td>933.0</td>\n",
       "    </tr>\n",
       "    <tr>\n",
       "      <th>4078317</th>\n",
       "      <td>1148.0</td>\n",
       "      <td>13.0</td>\n",
       "      <td>1201.0</td>\n",
       "      <td>1556.0</td>\n",
       "      <td>4.0</td>\n",
       "      <td>1552.0</td>\n",
       "    </tr>\n",
       "  </tbody>\n",
       "</table>\n",
       "<p>4078318 rows × 6 columns</p>\n",
       "</div>"
      ],
      "text/plain": [
       "         DepTime  TaxiOut  WheelsOff  ArrTime  TaxiIn  WheelsOn\n",
       "0         1123.0     17.0     1140.0   1228.0     8.0    1220.0\n",
       "1          728.0     16.0      744.0    848.0     9.0     839.0\n",
       "2         1514.0     21.0     1535.0   1636.0    14.0    1622.0\n",
       "3         1430.0     16.0     1446.0   1547.0     4.0    1543.0\n",
       "4         1135.0     19.0     1154.0   1251.0     8.0    1243.0\n",
       "...          ...      ...        ...      ...     ...       ...\n",
       "4078313   2014.0     17.0     2031.0    234.0    32.0     202.0\n",
       "4078314   1817.0      NaN        NaN      NaN     NaN       NaN\n",
       "4078315   2318.0     19.0     2337.0     59.0     7.0      52.0\n",
       "4078316   2322.0     25.0     2347.0    939.0     6.0     933.0\n",
       "4078317   1148.0     13.0     1201.0   1556.0     4.0    1552.0\n",
       "\n",
       "[4078318 rows x 6 columns]"
      ]
     },
     "execution_count": 12,
     "metadata": {},
     "output_type": "execute_result"
    }
   ],
   "source": [
    "dt[[\"DepTime\", \"TaxiOut\", \"WheelsOff\", \"ArrTime\", \"TaxiIn\", \"WheelsOn\"]]"
   ]
  },
  {
   "cell_type": "markdown",
   "metadata": {},
   "source": [
    "Признаки `DepTimeBlk` и `ArrTimeBlk` напрямую зависят от `DepTime` и `ArrTime` соответственно, при этом они не несут никакой доп. информации. Поэтому их также следует удалить из рассмотрения"
   ]
  },
  {
   "cell_type": "code",
   "execution_count": 13,
   "metadata": {},
   "outputs": [
    {
     "data": {
      "text/html": [
       "<div>\n",
       "<style scoped>\n",
       "    .dataframe tbody tr th:only-of-type {\n",
       "        vertical-align: middle;\n",
       "    }\n",
       "\n",
       "    .dataframe tbody tr th {\n",
       "        vertical-align: top;\n",
       "    }\n",
       "\n",
       "    .dataframe thead th {\n",
       "        text-align: right;\n",
       "    }\n",
       "</style>\n",
       "<table border=\"1\" class=\"dataframe\">\n",
       "  <thead>\n",
       "    <tr style=\"text-align: right;\">\n",
       "      <th></th>\n",
       "      <th>DepTime</th>\n",
       "      <th>DepTimeBlk</th>\n",
       "      <th>ArrTime</th>\n",
       "      <th>ArrTimeBlk</th>\n",
       "    </tr>\n",
       "  </thead>\n",
       "  <tbody>\n",
       "    <tr>\n",
       "      <th>0</th>\n",
       "      <td>1123.0</td>\n",
       "      <td>1100-1159</td>\n",
       "      <td>1228.0</td>\n",
       "      <td>1200-1259</td>\n",
       "    </tr>\n",
       "    <tr>\n",
       "      <th>1</th>\n",
       "      <td>728.0</td>\n",
       "      <td>0700-0759</td>\n",
       "      <td>848.0</td>\n",
       "      <td>0800-0859</td>\n",
       "    </tr>\n",
       "    <tr>\n",
       "      <th>2</th>\n",
       "      <td>1514.0</td>\n",
       "      <td>1500-1559</td>\n",
       "      <td>1636.0</td>\n",
       "      <td>1600-1659</td>\n",
       "    </tr>\n",
       "    <tr>\n",
       "      <th>3</th>\n",
       "      <td>1430.0</td>\n",
       "      <td>1400-1459</td>\n",
       "      <td>1547.0</td>\n",
       "      <td>1600-1659</td>\n",
       "    </tr>\n",
       "    <tr>\n",
       "      <th>4</th>\n",
       "      <td>1135.0</td>\n",
       "      <td>1100-1159</td>\n",
       "      <td>1251.0</td>\n",
       "      <td>1200-1259</td>\n",
       "    </tr>\n",
       "    <tr>\n",
       "      <th>...</th>\n",
       "      <td>...</td>\n",
       "      <td>...</td>\n",
       "      <td>...</td>\n",
       "      <td>...</td>\n",
       "    </tr>\n",
       "    <tr>\n",
       "      <th>4078313</th>\n",
       "      <td>2014.0</td>\n",
       "      <td>1900-1959</td>\n",
       "      <td>234.0</td>\n",
       "      <td>2300-2359</td>\n",
       "    </tr>\n",
       "    <tr>\n",
       "      <th>4078314</th>\n",
       "      <td>1817.0</td>\n",
       "      <td>1700-1759</td>\n",
       "      <td>NaN</td>\n",
       "      <td>1900-1959</td>\n",
       "    </tr>\n",
       "    <tr>\n",
       "      <th>4078315</th>\n",
       "      <td>2318.0</td>\n",
       "      <td>1700-1759</td>\n",
       "      <td>59.0</td>\n",
       "      <td>1800-1859</td>\n",
       "    </tr>\n",
       "    <tr>\n",
       "      <th>4078316</th>\n",
       "      <td>2322.0</td>\n",
       "      <td>2100-2159</td>\n",
       "      <td>939.0</td>\n",
       "      <td>2200-2259</td>\n",
       "    </tr>\n",
       "    <tr>\n",
       "      <th>4078317</th>\n",
       "      <td>1148.0</td>\n",
       "      <td>1100-1159</td>\n",
       "      <td>1556.0</td>\n",
       "      <td>1300-1359</td>\n",
       "    </tr>\n",
       "  </tbody>\n",
       "</table>\n",
       "<p>4078318 rows × 4 columns</p>\n",
       "</div>"
      ],
      "text/plain": [
       "         DepTime DepTimeBlk  ArrTime ArrTimeBlk\n",
       "0         1123.0  1100-1159   1228.0  1200-1259\n",
       "1          728.0  0700-0759    848.0  0800-0859\n",
       "2         1514.0  1500-1559   1636.0  1600-1659\n",
       "3         1430.0  1400-1459   1547.0  1600-1659\n",
       "4         1135.0  1100-1159   1251.0  1200-1259\n",
       "...          ...        ...      ...        ...\n",
       "4078313   2014.0  1900-1959    234.0  2300-2359\n",
       "4078314   1817.0  1700-1759      NaN  1900-1959\n",
       "4078315   2318.0  1700-1759     59.0  1800-1859\n",
       "4078316   2322.0  2100-2159    939.0  2200-2259\n",
       "4078317   1148.0  1100-1159   1556.0  1300-1359\n",
       "\n",
       "[4078318 rows x 4 columns]"
      ]
     },
     "execution_count": 13,
     "metadata": {},
     "output_type": "execute_result"
    }
   ],
   "source": [
    "dt[[\"DepTime\", \"DepTimeBlk\", \"ArrTime\", \"ArrTimeBlk\"]]"
   ]
  },
  {
   "cell_type": "markdown",
   "metadata": {},
   "source": [
    "`ActualElapsedTime` можно вычислить исходя из `CRSElapsedTime` и разницы между `DepDelay` и `ArrDelay`, поэтому его также можно удалить из рассмотрения"
   ]
  },
  {
   "cell_type": "markdown",
   "metadata": {},
   "source": [
    "### Delays"
   ]
  },
  {
   "cell_type": "markdown",
   "metadata": {},
   "source": [
    "`DepDelayMinutes` является по сути \"усечённой\" версией `DepDelay`, где отрицательныеы значения заменены на 0. В то же время `DepTime` (фактическое время) можно вычислить, зная `CRSDepTime` (запланирование время) и `DepDelay` (разница между фактическим и запланированным). Поэтому признаки `DepDelayMinutes` и `DepTime` можно удалить из рассмотрения.\n",
    "\n",
    "Аналогично с `ArrDelayMinutes` и `ArrTime`."
   ]
  },
  {
   "cell_type": "markdown",
   "metadata": {},
   "source": [
    "Корреляционная матрица наглядно иллюстрирует сильную зависимость между столбцами. Особенно между `DepDelay` и `DepDelayMinutes`."
   ]
  },
  {
   "cell_type": "code",
   "execution_count": 14,
   "metadata": {},
   "outputs": [
    {
     "data": {
      "text/html": [
       "<div>\n",
       "<style scoped>\n",
       "    .dataframe tbody tr th:only-of-type {\n",
       "        vertical-align: middle;\n",
       "    }\n",
       "\n",
       "    .dataframe tbody tr th {\n",
       "        vertical-align: top;\n",
       "    }\n",
       "\n",
       "    .dataframe thead th {\n",
       "        text-align: right;\n",
       "    }\n",
       "</style>\n",
       "<table border=\"1\" class=\"dataframe\">\n",
       "  <thead>\n",
       "    <tr style=\"text-align: right;\">\n",
       "      <th></th>\n",
       "      <th>CRSDepTime</th>\n",
       "      <th>DepTime</th>\n",
       "      <th>DepDelay</th>\n",
       "      <th>DepDelayMinutes</th>\n",
       "    </tr>\n",
       "  </thead>\n",
       "  <tbody>\n",
       "    <tr>\n",
       "      <th>CRSDepTime</th>\n",
       "      <td>1.000000</td>\n",
       "      <td>0.945412</td>\n",
       "      <td>0.100803</td>\n",
       "      <td>0.094627</td>\n",
       "    </tr>\n",
       "    <tr>\n",
       "      <th>DepTime</th>\n",
       "      <td>0.945412</td>\n",
       "      <td>1.000000</td>\n",
       "      <td>0.125364</td>\n",
       "      <td>0.117571</td>\n",
       "    </tr>\n",
       "    <tr>\n",
       "      <th>DepDelay</th>\n",
       "      <td>0.100803</td>\n",
       "      <td>0.125364</td>\n",
       "      <td>1.000000</td>\n",
       "      <td>0.997938</td>\n",
       "    </tr>\n",
       "    <tr>\n",
       "      <th>DepDelayMinutes</th>\n",
       "      <td>0.094627</td>\n",
       "      <td>0.117571</td>\n",
       "      <td>0.997938</td>\n",
       "      <td>1.000000</td>\n",
       "    </tr>\n",
       "  </tbody>\n",
       "</table>\n",
       "</div>"
      ],
      "text/plain": [
       "                 CRSDepTime   DepTime  DepDelay  DepDelayMinutes\n",
       "CRSDepTime         1.000000  0.945412  0.100803         0.094627\n",
       "DepTime            0.945412  1.000000  0.125364         0.117571\n",
       "DepDelay           0.100803  0.125364  1.000000         0.997938\n",
       "DepDelayMinutes    0.094627  0.117571  0.997938         1.000000"
      ]
     },
     "execution_count": 14,
     "metadata": {},
     "output_type": "execute_result"
    }
   ],
   "source": [
    "dt[[\"CRSDepTime\", \"DepTime\", \"DepDelay\", \"DepDelayMinutes\"]].corr()"
   ]
  },
  {
   "cell_type": "markdown",
   "metadata": {},
   "source": [
    "Признаки `DepDel15` и `DepartureDelayGroups` являются видоизменёнными вариантами `DepDelay`. Первый отображает, является ли `DepDelay` больше и равным 15 по абсолютному значению. Второй - определяет номер интервала времени, в котором находится `DepDelay`. Данные два признака можно удалить из рассмотрения.\n",
    "\n",
    "Аналогично с `ArrDel15` и `ArrivalDelayGroups`."
   ]
  },
  {
   "cell_type": "code",
   "execution_count": 15,
   "metadata": {},
   "outputs": [
    {
     "data": {
      "text/html": [
       "<div>\n",
       "<style scoped>\n",
       "    .dataframe tbody tr th:only-of-type {\n",
       "        vertical-align: middle;\n",
       "    }\n",
       "\n",
       "    .dataframe tbody tr th {\n",
       "        vertical-align: top;\n",
       "    }\n",
       "\n",
       "    .dataframe thead th {\n",
       "        text-align: right;\n",
       "    }\n",
       "</style>\n",
       "<table border=\"1\" class=\"dataframe\">\n",
       "  <thead>\n",
       "    <tr style=\"text-align: right;\">\n",
       "      <th></th>\n",
       "      <th>DepDelay</th>\n",
       "      <th>DepDel15</th>\n",
       "      <th>DepartureDelayGroups</th>\n",
       "    </tr>\n",
       "  </thead>\n",
       "  <tbody>\n",
       "    <tr>\n",
       "      <th>0</th>\n",
       "      <td>-10.0</td>\n",
       "      <td>0.0</td>\n",
       "      <td>-1.0</td>\n",
       "    </tr>\n",
       "    <tr>\n",
       "      <th>1</th>\n",
       "      <td>-4.0</td>\n",
       "      <td>0.0</td>\n",
       "      <td>-1.0</td>\n",
       "    </tr>\n",
       "    <tr>\n",
       "      <th>2</th>\n",
       "      <td>-15.0</td>\n",
       "      <td>0.0</td>\n",
       "      <td>-1.0</td>\n",
       "    </tr>\n",
       "    <tr>\n",
       "      <th>3</th>\n",
       "      <td>-5.0</td>\n",
       "      <td>0.0</td>\n",
       "      <td>-1.0</td>\n",
       "    </tr>\n",
       "    <tr>\n",
       "      <th>4</th>\n",
       "      <td>0.0</td>\n",
       "      <td>0.0</td>\n",
       "      <td>0.0</td>\n",
       "    </tr>\n",
       "    <tr>\n",
       "      <th>...</th>\n",
       "      <td>...</td>\n",
       "      <td>...</td>\n",
       "      <td>...</td>\n",
       "    </tr>\n",
       "    <tr>\n",
       "      <th>4078313</th>\n",
       "      <td>25.0</td>\n",
       "      <td>1.0</td>\n",
       "      <td>1.0</td>\n",
       "    </tr>\n",
       "    <tr>\n",
       "      <th>4078314</th>\n",
       "      <td>44.0</td>\n",
       "      <td>1.0</td>\n",
       "      <td>2.0</td>\n",
       "    </tr>\n",
       "    <tr>\n",
       "      <th>4078315</th>\n",
       "      <td>378.0</td>\n",
       "      <td>1.0</td>\n",
       "      <td>12.0</td>\n",
       "    </tr>\n",
       "    <tr>\n",
       "      <th>4078316</th>\n",
       "      <td>113.0</td>\n",
       "      <td>1.0</td>\n",
       "      <td>7.0</td>\n",
       "    </tr>\n",
       "    <tr>\n",
       "      <th>4078317</th>\n",
       "      <td>-6.0</td>\n",
       "      <td>0.0</td>\n",
       "      <td>-1.0</td>\n",
       "    </tr>\n",
       "  </tbody>\n",
       "</table>\n",
       "<p>4078318 rows × 3 columns</p>\n",
       "</div>"
      ],
      "text/plain": [
       "         DepDelay  DepDel15  DepartureDelayGroups\n",
       "0           -10.0       0.0                  -1.0\n",
       "1            -4.0       0.0                  -1.0\n",
       "2           -15.0       0.0                  -1.0\n",
       "3            -5.0       0.0                  -1.0\n",
       "4             0.0       0.0                   0.0\n",
       "...           ...       ...                   ...\n",
       "4078313      25.0       1.0                   1.0\n",
       "4078314      44.0       1.0                   2.0\n",
       "4078315     378.0       1.0                  12.0\n",
       "4078316     113.0       1.0                   7.0\n",
       "4078317      -6.0       0.0                  -1.0\n",
       "\n",
       "[4078318 rows x 3 columns]"
      ]
     },
     "execution_count": 15,
     "metadata": {},
     "output_type": "execute_result"
    }
   ],
   "source": [
    "dt[[\"DepDelay\", \"DepDel15\", \"DepartureDelayGroups\"]]"
   ]
  },
  {
   "cell_type": "code",
   "execution_count": 16,
   "metadata": {},
   "outputs": [
    {
     "data": {
      "text/html": [
       "<div>\n",
       "<style scoped>\n",
       "    .dataframe tbody tr th:only-of-type {\n",
       "        vertical-align: middle;\n",
       "    }\n",
       "\n",
       "    .dataframe tbody tr th {\n",
       "        vertical-align: top;\n",
       "    }\n",
       "\n",
       "    .dataframe thead th {\n",
       "        text-align: right;\n",
       "    }\n",
       "</style>\n",
       "<table border=\"1\" class=\"dataframe\">\n",
       "  <thead>\n",
       "    <tr style=\"text-align: right;\">\n",
       "      <th></th>\n",
       "      <th>DepDelay</th>\n",
       "      <th>DepDel15</th>\n",
       "      <th>DepartureDelayGroups</th>\n",
       "    </tr>\n",
       "  </thead>\n",
       "  <tbody>\n",
       "    <tr>\n",
       "      <th>DepDelay</th>\n",
       "      <td>1.000000</td>\n",
       "      <td>0.547853</td>\n",
       "      <td>0.822921</td>\n",
       "    </tr>\n",
       "    <tr>\n",
       "      <th>DepDel15</th>\n",
       "      <td>0.547853</td>\n",
       "      <td>1.000000</td>\n",
       "      <td>0.751096</td>\n",
       "    </tr>\n",
       "    <tr>\n",
       "      <th>DepartureDelayGroups</th>\n",
       "      <td>0.822921</td>\n",
       "      <td>0.751096</td>\n",
       "      <td>1.000000</td>\n",
       "    </tr>\n",
       "  </tbody>\n",
       "</table>\n",
       "</div>"
      ],
      "text/plain": [
       "                      DepDelay  DepDel15  DepartureDelayGroups\n",
       "DepDelay              1.000000  0.547853              0.822921\n",
       "DepDel15              0.547853  1.000000              0.751096\n",
       "DepartureDelayGroups  0.822921  0.751096              1.000000"
      ]
     },
     "execution_count": 16,
     "metadata": {},
     "output_type": "execute_result"
    }
   ],
   "source": [
    "dt[[\"DepDelay\", \"DepDel15\", \"DepartureDelayGroups\"]].corr()"
   ]
  },
  {
   "cell_type": "markdown",
   "metadata": {},
   "source": [
    "### Distance"
   ]
  },
  {
   "cell_type": "markdown",
   "metadata": {},
   "source": [
    "Признак `DistanceGroup` напрямую зависит от `Distance`, поэтому его также можно удалить"
   ]
  },
  {
   "cell_type": "code",
   "execution_count": 17,
   "metadata": {},
   "outputs": [
    {
     "data": {
      "text/html": [
       "<div>\n",
       "<style scoped>\n",
       "    .dataframe tbody tr th:only-of-type {\n",
       "        vertical-align: middle;\n",
       "    }\n",
       "\n",
       "    .dataframe tbody tr th {\n",
       "        vertical-align: top;\n",
       "    }\n",
       "\n",
       "    .dataframe thead th {\n",
       "        text-align: right;\n",
       "    }\n",
       "</style>\n",
       "<table border=\"1\" class=\"dataframe\">\n",
       "  <thead>\n",
       "    <tr style=\"text-align: right;\">\n",
       "      <th></th>\n",
       "      <th>Distance</th>\n",
       "      <th>DistanceGroup</th>\n",
       "    </tr>\n",
       "  </thead>\n",
       "  <tbody>\n",
       "    <tr>\n",
       "      <th>0</th>\n",
       "      <td>212.0</td>\n",
       "      <td>1</td>\n",
       "    </tr>\n",
       "    <tr>\n",
       "      <th>1</th>\n",
       "      <td>295.0</td>\n",
       "      <td>2</td>\n",
       "    </tr>\n",
       "    <tr>\n",
       "      <th>2</th>\n",
       "      <td>251.0</td>\n",
       "      <td>2</td>\n",
       "    </tr>\n",
       "    <tr>\n",
       "      <th>3</th>\n",
       "      <td>376.0</td>\n",
       "      <td>2</td>\n",
       "    </tr>\n",
       "    <tr>\n",
       "      <th>4</th>\n",
       "      <td>251.0</td>\n",
       "      <td>2</td>\n",
       "    </tr>\n",
       "    <tr>\n",
       "      <th>...</th>\n",
       "      <td>...</td>\n",
       "      <td>...</td>\n",
       "    </tr>\n",
       "    <tr>\n",
       "      <th>4078313</th>\n",
       "      <td>1167.0</td>\n",
       "      <td>5</td>\n",
       "    </tr>\n",
       "    <tr>\n",
       "      <th>4078314</th>\n",
       "      <td>529.0</td>\n",
       "      <td>3</td>\n",
       "    </tr>\n",
       "    <tr>\n",
       "      <th>4078315</th>\n",
       "      <td>723.0</td>\n",
       "      <td>3</td>\n",
       "    </tr>\n",
       "    <tr>\n",
       "      <th>4078316</th>\n",
       "      <td>319.0</td>\n",
       "      <td>2</td>\n",
       "    </tr>\n",
       "    <tr>\n",
       "      <th>4078317</th>\n",
       "      <td>416.0</td>\n",
       "      <td>2</td>\n",
       "    </tr>\n",
       "  </tbody>\n",
       "</table>\n",
       "<p>4078318 rows × 2 columns</p>\n",
       "</div>"
      ],
      "text/plain": [
       "         Distance  DistanceGroup\n",
       "0           212.0              1\n",
       "1           295.0              2\n",
       "2           251.0              2\n",
       "3           376.0              2\n",
       "4           251.0              2\n",
       "...           ...            ...\n",
       "4078313    1167.0              5\n",
       "4078314     529.0              3\n",
       "4078315     723.0              3\n",
       "4078316     319.0              2\n",
       "4078317     416.0              2\n",
       "\n",
       "[4078318 rows x 2 columns]"
      ]
     },
     "execution_count": 17,
     "metadata": {},
     "output_type": "execute_result"
    }
   ],
   "source": [
    "dt[[\"Distance\", \"DistanceGroup\"]]"
   ]
  },
  {
   "cell_type": "markdown",
   "metadata": {},
   "source": [
    "Так как расстояние зависит от времени полёта (чисто логически :D), взглянем на корреляцию между ними "
   ]
  },
  {
   "cell_type": "code",
   "execution_count": 18,
   "metadata": {},
   "outputs": [
    {
     "data": {
      "text/html": [
       "<div>\n",
       "<style scoped>\n",
       "    .dataframe tbody tr th:only-of-type {\n",
       "        vertical-align: middle;\n",
       "    }\n",
       "\n",
       "    .dataframe tbody tr th {\n",
       "        vertical-align: top;\n",
       "    }\n",
       "\n",
       "    .dataframe thead th {\n",
       "        text-align: right;\n",
       "    }\n",
       "</style>\n",
       "<table border=\"1\" class=\"dataframe\">\n",
       "  <thead>\n",
       "    <tr style=\"text-align: right;\">\n",
       "      <th></th>\n",
       "      <th>Distance</th>\n",
       "      <th>CRSElapsedTime</th>\n",
       "    </tr>\n",
       "  </thead>\n",
       "  <tbody>\n",
       "    <tr>\n",
       "      <th>Distance</th>\n",
       "      <td>1.000000</td>\n",
       "      <td>0.982038</td>\n",
       "    </tr>\n",
       "    <tr>\n",
       "      <th>CRSElapsedTime</th>\n",
       "      <td>0.982038</td>\n",
       "      <td>1.000000</td>\n",
       "    </tr>\n",
       "  </tbody>\n",
       "</table>\n",
       "</div>"
      ],
      "text/plain": [
       "                Distance  CRSElapsedTime\n",
       "Distance        1.000000        0.982038\n",
       "CRSElapsedTime  0.982038        1.000000"
      ]
     },
     "execution_count": 18,
     "metadata": {},
     "output_type": "execute_result"
    }
   ],
   "source": [
    "dt[[\"Distance\", \"CRSElapsedTime\"]].corr()"
   ]
  },
  {
   "cell_type": "markdown",
   "metadata": {},
   "source": [
    "Корреляция крайне велика, поэтому разумно будет удалить `Distance` из рассмотрения"
   ]
  },
  {
   "cell_type": "markdown",
   "metadata": {},
   "source": [
    "### Airlines"
   ]
  },
  {
   "cell_type": "markdown",
   "metadata": {},
   "source": [
    "Признак `Airline` совпадает с признаком `Operating_Airline`. Только в одном случае - это названия, в другом - коды. Можно убедиться в этом, воспользовавшись таблицей соответствия кодов названиям.\n",
    "\n",
    "В связи с этим столбец `Airline` можно удалить. "
   ]
  },
  {
   "cell_type": "code",
   "execution_count": 19,
   "metadata": {},
   "outputs": [],
   "source": [
    "airline_codes = pd.read_csv(\"Airlines.csv\")"
   ]
  },
  {
   "cell_type": "code",
   "execution_count": 20,
   "metadata": {},
   "outputs": [
    {
     "data": {
      "text/html": [
       "<div>\n",
       "<style scoped>\n",
       "    .dataframe tbody tr th:only-of-type {\n",
       "        vertical-align: middle;\n",
       "    }\n",
       "\n",
       "    .dataframe tbody tr th {\n",
       "        vertical-align: top;\n",
       "    }\n",
       "\n",
       "    .dataframe thead th {\n",
       "        text-align: right;\n",
       "    }\n",
       "</style>\n",
       "<table border=\"1\" class=\"dataframe\">\n",
       "  <thead>\n",
       "    <tr style=\"text-align: right;\">\n",
       "      <th></th>\n",
       "      <th>Code</th>\n",
       "      <th>Description</th>\n",
       "    </tr>\n",
       "  </thead>\n",
       "  <tbody>\n",
       "    <tr>\n",
       "      <th>0</th>\n",
       "      <td>02Q</td>\n",
       "      <td>Titan Airways</td>\n",
       "    </tr>\n",
       "    <tr>\n",
       "      <th>1</th>\n",
       "      <td>04Q</td>\n",
       "      <td>Tradewind Aviation</td>\n",
       "    </tr>\n",
       "    <tr>\n",
       "      <th>2</th>\n",
       "      <td>05Q</td>\n",
       "      <td>Comlux Aviation, AG</td>\n",
       "    </tr>\n",
       "    <tr>\n",
       "      <th>3</th>\n",
       "      <td>06Q</td>\n",
       "      <td>Master Top Linhas Aereas Ltd.</td>\n",
       "    </tr>\n",
       "    <tr>\n",
       "      <th>4</th>\n",
       "      <td>07Q</td>\n",
       "      <td>Flair Airlines Ltd.</td>\n",
       "    </tr>\n",
       "  </tbody>\n",
       "</table>\n",
       "</div>"
      ],
      "text/plain": [
       "  Code                    Description\n",
       "0  02Q                  Titan Airways\n",
       "1  04Q             Tradewind Aviation\n",
       "2  05Q            Comlux Aviation, AG\n",
       "3  06Q  Master Top Linhas Aereas Ltd.\n",
       "4  07Q            Flair Airlines Ltd."
      ]
     },
     "execution_count": 20,
     "metadata": {},
     "output_type": "execute_result"
    }
   ],
   "source": [
    "airline_codes.head(5)"
   ]
  },
  {
   "cell_type": "code",
   "execution_count": 21,
   "metadata": {},
   "outputs": [
    {
     "data": {
      "text/html": [
       "<div>\n",
       "<style scoped>\n",
       "    .dataframe tbody tr th:only-of-type {\n",
       "        vertical-align: middle;\n",
       "    }\n",
       "\n",
       "    .dataframe tbody tr th {\n",
       "        vertical-align: top;\n",
       "    }\n",
       "\n",
       "    .dataframe thead th {\n",
       "        text-align: right;\n",
       "    }\n",
       "</style>\n",
       "<table border=\"1\" class=\"dataframe\">\n",
       "  <thead>\n",
       "    <tr style=\"text-align: right;\">\n",
       "      <th></th>\n",
       "      <th>Airline</th>\n",
       "      <th>Operating_Airline</th>\n",
       "    </tr>\n",
       "  </thead>\n",
       "  <tbody>\n",
       "    <tr>\n",
       "      <th>0</th>\n",
       "      <td>Commutair Aka Champlain Enterprises, Inc.</td>\n",
       "      <td>C5</td>\n",
       "    </tr>\n",
       "    <tr>\n",
       "      <th>1</th>\n",
       "      <td>Commutair Aka Champlain Enterprises, Inc.</td>\n",
       "      <td>C5</td>\n",
       "    </tr>\n",
       "    <tr>\n",
       "      <th>2</th>\n",
       "      <td>Commutair Aka Champlain Enterprises, Inc.</td>\n",
       "      <td>C5</td>\n",
       "    </tr>\n",
       "    <tr>\n",
       "      <th>3</th>\n",
       "      <td>Commutair Aka Champlain Enterprises, Inc.</td>\n",
       "      <td>C5</td>\n",
       "    </tr>\n",
       "    <tr>\n",
       "      <th>4</th>\n",
       "      <td>Commutair Aka Champlain Enterprises, Inc.</td>\n",
       "      <td>C5</td>\n",
       "    </tr>\n",
       "  </tbody>\n",
       "</table>\n",
       "</div>"
      ],
      "text/plain": [
       "                                     Airline Operating_Airline\n",
       "0  Commutair Aka Champlain Enterprises, Inc.                C5\n",
       "1  Commutair Aka Champlain Enterprises, Inc.                C5\n",
       "2  Commutair Aka Champlain Enterprises, Inc.                C5\n",
       "3  Commutair Aka Champlain Enterprises, Inc.                C5\n",
       "4  Commutair Aka Champlain Enterprises, Inc.                C5"
      ]
     },
     "execution_count": 21,
     "metadata": {},
     "output_type": "execute_result"
    }
   ],
   "source": [
    "airlines = dt[[\"Airline\", \"Operating_Airline\"]]\n",
    "airlines.head(5)"
   ]
  },
  {
   "cell_type": "code",
   "execution_count": 22,
   "metadata": {},
   "outputs": [
    {
     "data": {
      "text/html": [
       "<div>\n",
       "<style scoped>\n",
       "    .dataframe tbody tr th:only-of-type {\n",
       "        vertical-align: middle;\n",
       "    }\n",
       "\n",
       "    .dataframe tbody tr th {\n",
       "        vertical-align: top;\n",
       "    }\n",
       "\n",
       "    .dataframe thead th {\n",
       "        text-align: right;\n",
       "    }\n",
       "</style>\n",
       "<table border=\"1\" class=\"dataframe\">\n",
       "  <thead>\n",
       "    <tr style=\"text-align: right;\">\n",
       "      <th></th>\n",
       "      <th>Airline</th>\n",
       "      <th>Operating_Airline</th>\n",
       "      <th>Description</th>\n",
       "    </tr>\n",
       "  </thead>\n",
       "  <tbody>\n",
       "    <tr>\n",
       "      <th>0</th>\n",
       "      <td>Commutair Aka Champlain Enterprises, Inc.</td>\n",
       "      <td>C5</td>\n",
       "      <td>Commutair Aka Champlain Enterprises, Inc.</td>\n",
       "    </tr>\n",
       "    <tr>\n",
       "      <th>1</th>\n",
       "      <td>Commutair Aka Champlain Enterprises, Inc.</td>\n",
       "      <td>C5</td>\n",
       "      <td>Commutair Aka Champlain Enterprises, Inc.</td>\n",
       "    </tr>\n",
       "    <tr>\n",
       "      <th>2</th>\n",
       "      <td>Commutair Aka Champlain Enterprises, Inc.</td>\n",
       "      <td>C5</td>\n",
       "      <td>Commutair Aka Champlain Enterprises, Inc.</td>\n",
       "    </tr>\n",
       "    <tr>\n",
       "      <th>3</th>\n",
       "      <td>Commutair Aka Champlain Enterprises, Inc.</td>\n",
       "      <td>C5</td>\n",
       "      <td>Commutair Aka Champlain Enterprises, Inc.</td>\n",
       "    </tr>\n",
       "    <tr>\n",
       "      <th>4</th>\n",
       "      <td>Commutair Aka Champlain Enterprises, Inc.</td>\n",
       "      <td>C5</td>\n",
       "      <td>Commutair Aka Champlain Enterprises, Inc.</td>\n",
       "    </tr>\n",
       "  </tbody>\n",
       "</table>\n",
       "</div>"
      ],
      "text/plain": [
       "                                     Airline Operating_Airline  \\\n",
       "0  Commutair Aka Champlain Enterprises, Inc.                C5   \n",
       "1  Commutair Aka Champlain Enterprises, Inc.                C5   \n",
       "2  Commutair Aka Champlain Enterprises, Inc.                C5   \n",
       "3  Commutair Aka Champlain Enterprises, Inc.                C5   \n",
       "4  Commutair Aka Champlain Enterprises, Inc.                C5   \n",
       "\n",
       "                                 Description  \n",
       "0  Commutair Aka Champlain Enterprises, Inc.  \n",
       "1  Commutair Aka Champlain Enterprises, Inc.  \n",
       "2  Commutair Aka Champlain Enterprises, Inc.  \n",
       "3  Commutair Aka Champlain Enterprises, Inc.  \n",
       "4  Commutair Aka Champlain Enterprises, Inc.  "
      ]
     },
     "execution_count": 22,
     "metadata": {},
     "output_type": "execute_result"
    }
   ],
   "source": [
    "merged = airlines.merge(airline_codes, left_on=\"Operating_Airline\", right_on=\"Code\")\n",
    "merged = merged.reindex(columns=[*list(airlines.columns), \"Description\"])\n",
    "merged.head(5)"
   ]
  },
  {
   "cell_type": "code",
   "execution_count": 23,
   "metadata": {},
   "outputs": [
    {
     "data": {
      "text/plain": [
       "True"
      ]
     },
     "execution_count": 23,
     "metadata": {},
     "output_type": "execute_result"
    }
   ],
   "source": [
    "all(merged[\"Airline\"] == merged[\"Description\"])"
   ]
  },
  {
   "cell_type": "markdown",
   "metadata": {},
   "source": [
    "Взглянем теперь на различные коды компаний"
   ]
  },
  {
   "cell_type": "code",
   "execution_count": 24,
   "metadata": {},
   "outputs": [
    {
     "data": {
      "text/html": [
       "<div>\n",
       "<style scoped>\n",
       "    .dataframe tbody tr th:only-of-type {\n",
       "        vertical-align: middle;\n",
       "    }\n",
       "\n",
       "    .dataframe tbody tr th {\n",
       "        vertical-align: top;\n",
       "    }\n",
       "\n",
       "    .dataframe thead th {\n",
       "        text-align: right;\n",
       "    }\n",
       "</style>\n",
       "<table border=\"1\" class=\"dataframe\">\n",
       "  <thead>\n",
       "    <tr style=\"text-align: right;\">\n",
       "      <th></th>\n",
       "      <th>Marketing_Airline_Network</th>\n",
       "      <th>DOT_ID_Marketing_Airline</th>\n",
       "      <th>IATA_Code_Marketing_Airline</th>\n",
       "      <th>Operated_or_Branded_Code_Share_Partners</th>\n",
       "    </tr>\n",
       "  </thead>\n",
       "  <tbody>\n",
       "    <tr>\n",
       "      <th>0</th>\n",
       "      <td>UA</td>\n",
       "      <td>19977</td>\n",
       "      <td>UA</td>\n",
       "      <td>UA_CODESHARE</td>\n",
       "    </tr>\n",
       "    <tr>\n",
       "      <th>1</th>\n",
       "      <td>UA</td>\n",
       "      <td>19977</td>\n",
       "      <td>UA</td>\n",
       "      <td>UA_CODESHARE</td>\n",
       "    </tr>\n",
       "    <tr>\n",
       "      <th>2</th>\n",
       "      <td>UA</td>\n",
       "      <td>19977</td>\n",
       "      <td>UA</td>\n",
       "      <td>UA_CODESHARE</td>\n",
       "    </tr>\n",
       "    <tr>\n",
       "      <th>3</th>\n",
       "      <td>UA</td>\n",
       "      <td>19977</td>\n",
       "      <td>UA</td>\n",
       "      <td>UA_CODESHARE</td>\n",
       "    </tr>\n",
       "    <tr>\n",
       "      <th>4</th>\n",
       "      <td>UA</td>\n",
       "      <td>19977</td>\n",
       "      <td>UA</td>\n",
       "      <td>UA_CODESHARE</td>\n",
       "    </tr>\n",
       "  </tbody>\n",
       "</table>\n",
       "</div>"
      ],
      "text/plain": [
       "  Marketing_Airline_Network  DOT_ID_Marketing_Airline  \\\n",
       "0                        UA                     19977   \n",
       "1                        UA                     19977   \n",
       "2                        UA                     19977   \n",
       "3                        UA                     19977   \n",
       "4                        UA                     19977   \n",
       "\n",
       "  IATA_Code_Marketing_Airline Operated_or_Branded_Code_Share_Partners  \n",
       "0                          UA                            UA_CODESHARE  \n",
       "1                          UA                            UA_CODESHARE  \n",
       "2                          UA                            UA_CODESHARE  \n",
       "3                          UA                            UA_CODESHARE  \n",
       "4                          UA                            UA_CODESHARE  "
      ]
     },
     "execution_count": 24,
     "metadata": {},
     "output_type": "execute_result"
    }
   ],
   "source": [
    "dt[[\"Marketing_Airline_Network\", \"DOT_ID_Marketing_Airline\", \"IATA_Code_Marketing_Airline\", \"Operated_or_Branded_Code_Share_Partners\"]].head(5)"
   ]
  },
  {
   "cell_type": "code",
   "execution_count": 25,
   "metadata": {},
   "outputs": [
    {
     "name": "stdout",
     "output_type": "stream",
     "text": [
      "Code: UA, DOT_IDs: [19977], IATA codes: ['UA'], Part codes: ['UA_CODESHARE' 'UA']\n",
      "Code: WN, DOT_IDs: [19393], IATA codes: ['WN'], Part codes: ['WN']\n",
      "Code: AA, DOT_IDs: [19805], IATA codes: ['AA'], Part codes: ['AA_CODESHARE' 'AA']\n",
      "Code: DL, DOT_IDs: [19790], IATA codes: ['DL'], Part codes: ['DL_CODESHARE' 'DL']\n",
      "Code: AS, DOT_IDs: [19930], IATA codes: ['AS'], Part codes: ['AS' 'AS_CODESHARE']\n",
      "Code: B6, DOT_IDs: [20409], IATA codes: ['B6'], Part codes: ['B6']\n",
      "Code: F9, DOT_IDs: [20436], IATA codes: ['F9'], Part codes: ['F9']\n",
      "Code: G4, DOT_IDs: [20368], IATA codes: ['G4'], Part codes: ['G4']\n",
      "Code: HA, DOT_IDs: [19690], IATA codes: ['HA'], Part codes: ['HA']\n",
      "Code: NK, DOT_IDs: [20416], IATA codes: ['NK'], Part codes: ['NK']\n"
     ]
    }
   ],
   "source": [
    "for code in dt[\"Marketing_Airline_Network\"].unique():\n",
    "    mask = dt[\"Marketing_Airline_Network\"] == code\n",
    "    dot_id = dt[\"DOT_ID_Marketing_Airline\"][mask]\n",
    "    iata = dt[\"IATA_Code_Marketing_Airline\"][mask]\n",
    "    partners = dt[\"Operated_or_Branded_Code_Share_Partners\"][mask]\n",
    "    print(f\"Code: {code}, DOT_IDs: {dot_id.unique()}, IATA codes: {iata.unique()}, Part codes: {partners.unique()}\")"
   ]
  },
  {
   "cell_type": "markdown",
   "metadata": {},
   "source": [
    "Как видно, признаки `DOT_ID_Marketing_Airline` и `IATA_Code_Marketing_Airline` можно не рассматривать, так как они однозначно соответсвуют `Marketing_Airline_Network`"
   ]
  },
  {
   "cell_type": "markdown",
   "metadata": {},
   "source": [
    "Аналогично с `DOT_ID_Operating_Airline` и `IATA_Code_Operating_Airline`"
   ]
  },
  {
   "cell_type": "code",
   "execution_count": 26,
   "metadata": {},
   "outputs": [
    {
     "name": "stdout",
     "output_type": "stream",
     "text": [
      "Code: C5, DOT_IDs: [20445], IATA codes: ['C5'], Part codes: ['UA_CODESHARE']\n",
      "Code: G7, DOT_IDs: [20500], IATA codes: ['G7'], Part codes: ['UA_CODESHARE']\n",
      "Code: ZW, DOT_IDs: [20046], IATA codes: ['ZW'], Part codes: ['UA_CODESHARE']\n",
      "Code: YV, DOT_IDs: [20378], IATA codes: ['YV'], Part codes: ['UA_CODESHARE' 'AA_CODESHARE']\n",
      "Code: WN, DOT_IDs: [19393], IATA codes: ['WN'], Part codes: ['WN']\n",
      "Code: YX, DOT_IDs: [20452], IATA codes: ['YX'], Part codes: ['AA_CODESHARE' 'DL_CODESHARE' 'UA_CODESHARE']\n",
      "Code: 9E, DOT_IDs: [20363], IATA codes: ['9E'], Part codes: ['DL_CODESHARE']\n",
      "Code: AA, DOT_IDs: [19805], IATA codes: ['AA'], Part codes: ['AA']\n",
      "Code: PT, DOT_IDs: [20427], IATA codes: ['PT'], Part codes: ['AA_CODESHARE']\n",
      "Code: OO, DOT_IDs: [20304], IATA codes: ['OO'], Part codes: ['AA_CODESHARE' 'AS_CODESHARE' 'UA_CODESHARE' 'DL_CODESHARE']\n",
      "Code: AS, DOT_IDs: [19930], IATA codes: ['AS'], Part codes: ['AS']\n",
      "Code: B6, DOT_IDs: [20409], IATA codes: ['B6'], Part codes: ['B6']\n",
      "Code: DL, DOT_IDs: [19790], IATA codes: ['DL'], Part codes: ['DL']\n",
      "Code: F9, DOT_IDs: [20436], IATA codes: ['F9'], Part codes: ['F9']\n",
      "Code: G4, DOT_IDs: [20368], IATA codes: ['G4'], Part codes: ['G4']\n",
      "Code: HA, DOT_IDs: [19690], IATA codes: ['HA'], Part codes: ['HA']\n",
      "Code: MQ, DOT_IDs: [20398], IATA codes: ['MQ'], Part codes: ['AA_CODESHARE']\n",
      "Code: NK, DOT_IDs: [20416], IATA codes: ['NK'], Part codes: ['NK']\n",
      "Code: OH, DOT_IDs: [20397], IATA codes: ['OH'], Part codes: ['AA_CODESHARE']\n",
      "Code: QX, DOT_IDs: [19687], IATA codes: ['QX'], Part codes: ['AS_CODESHARE']\n",
      "Code: UA, DOT_IDs: [19977], IATA codes: ['UA'], Part codes: ['UA']\n"
     ]
    }
   ],
   "source": [
    "for code in dt[\"Operating_Airline\"].unique():\n",
    "    mask = dt[\"Operating_Airline\"] == code\n",
    "    dot_id = dt[\"DOT_ID_Operating_Airline\"][mask]\n",
    "    iata = dt[\"IATA_Code_Operating_Airline\"][mask]\n",
    "    partners = dt[\"Operated_or_Branded_Code_Share_Partners\"][mask]\n",
    "    print(f\"Code: {code}, DOT_IDs: {dot_id.unique()}, IATA codes: {iata.unique()}, Part codes: {partners.unique()}\")"
   ]
  },
  {
   "cell_type": "markdown",
   "metadata": {},
   "source": [
    "Рассмотрим номера рейсов"
   ]
  },
  {
   "cell_type": "code",
   "execution_count": 27,
   "metadata": {},
   "outputs": [
    {
     "data": {
      "text/html": [
       "<div>\n",
       "<style scoped>\n",
       "    .dataframe tbody tr th:only-of-type {\n",
       "        vertical-align: middle;\n",
       "    }\n",
       "\n",
       "    .dataframe tbody tr th {\n",
       "        vertical-align: top;\n",
       "    }\n",
       "\n",
       "    .dataframe thead th {\n",
       "        text-align: right;\n",
       "    }\n",
       "</style>\n",
       "<table border=\"1\" class=\"dataframe\">\n",
       "  <thead>\n",
       "    <tr style=\"text-align: right;\">\n",
       "      <th></th>\n",
       "      <th>Flight_Number_Marketing_Airline</th>\n",
       "      <th>Flight_Number_Operating_Airline</th>\n",
       "    </tr>\n",
       "  </thead>\n",
       "  <tbody>\n",
       "    <tr>\n",
       "      <th>0</th>\n",
       "      <td>4301</td>\n",
       "      <td>4301</td>\n",
       "    </tr>\n",
       "    <tr>\n",
       "      <th>1</th>\n",
       "      <td>4299</td>\n",
       "      <td>4299</td>\n",
       "    </tr>\n",
       "    <tr>\n",
       "      <th>2</th>\n",
       "      <td>4298</td>\n",
       "      <td>4298</td>\n",
       "    </tr>\n",
       "    <tr>\n",
       "      <th>3</th>\n",
       "      <td>4296</td>\n",
       "      <td>4296</td>\n",
       "    </tr>\n",
       "    <tr>\n",
       "      <th>4</th>\n",
       "      <td>4295</td>\n",
       "      <td>4295</td>\n",
       "    </tr>\n",
       "    <tr>\n",
       "      <th>...</th>\n",
       "      <td>...</td>\n",
       "      <td>...</td>\n",
       "    </tr>\n",
       "    <tr>\n",
       "      <th>4078313</th>\n",
       "      <td>3621</td>\n",
       "      <td>3621</td>\n",
       "    </tr>\n",
       "    <tr>\n",
       "      <th>4078314</th>\n",
       "      <td>3437</td>\n",
       "      <td>3437</td>\n",
       "    </tr>\n",
       "    <tr>\n",
       "      <th>4078315</th>\n",
       "      <td>3413</td>\n",
       "      <td>3413</td>\n",
       "    </tr>\n",
       "    <tr>\n",
       "      <th>4078316</th>\n",
       "      <td>3450</td>\n",
       "      <td>3450</td>\n",
       "    </tr>\n",
       "    <tr>\n",
       "      <th>4078317</th>\n",
       "      <td>3585</td>\n",
       "      <td>3585</td>\n",
       "    </tr>\n",
       "  </tbody>\n",
       "</table>\n",
       "<p>4078318 rows × 2 columns</p>\n",
       "</div>"
      ],
      "text/plain": [
       "         Flight_Number_Marketing_Airline  Flight_Number_Operating_Airline\n",
       "0                                   4301                             4301\n",
       "1                                   4299                             4299\n",
       "2                                   4298                             4298\n",
       "3                                   4296                             4296\n",
       "4                                   4295                             4295\n",
       "...                                  ...                              ...\n",
       "4078313                             3621                             3621\n",
       "4078314                             3437                             3437\n",
       "4078315                             3413                             3413\n",
       "4078316                             3450                             3450\n",
       "4078317                             3585                             3585\n",
       "\n",
       "[4078318 rows x 2 columns]"
      ]
     },
     "execution_count": 27,
     "metadata": {},
     "output_type": "execute_result"
    }
   ],
   "source": [
    "dt[[\"Flight_Number_Marketing_Airline\", \"Flight_Number_Operating_Airline\"]]"
   ]
  },
  {
   "cell_type": "code",
   "execution_count": 28,
   "metadata": {},
   "outputs": [
    {
     "data": {
      "text/plain": [
       "4078150"
      ]
     },
     "execution_count": 28,
     "metadata": {},
     "output_type": "execute_result"
    }
   ],
   "source": [
    "mask = dt[\"Flight_Number_Marketing_Airline\"] == dt[\"Flight_Number_Operating_Airline\"]\n",
    "sum(mask)"
   ]
  },
  {
   "cell_type": "code",
   "execution_count": 29,
   "metadata": {},
   "outputs": [
    {
     "data": {
      "text/html": [
       "<div>\n",
       "<style scoped>\n",
       "    .dataframe tbody tr th:only-of-type {\n",
       "        vertical-align: middle;\n",
       "    }\n",
       "\n",
       "    .dataframe tbody tr th {\n",
       "        vertical-align: top;\n",
       "    }\n",
       "\n",
       "    .dataframe thead th {\n",
       "        text-align: right;\n",
       "    }\n",
       "</style>\n",
       "<table border=\"1\" class=\"dataframe\">\n",
       "  <thead>\n",
       "    <tr style=\"text-align: right;\">\n",
       "      <th></th>\n",
       "      <th>Flight_Number_Marketing_Airline</th>\n",
       "      <th>Flight_Number_Operating_Airline</th>\n",
       "    </tr>\n",
       "  </thead>\n",
       "  <tbody>\n",
       "    <tr>\n",
       "      <th>Flight_Number_Marketing_Airline</th>\n",
       "      <td>1.00000</td>\n",
       "      <td>0.99998</td>\n",
       "    </tr>\n",
       "    <tr>\n",
       "      <th>Flight_Number_Operating_Airline</th>\n",
       "      <td>0.99998</td>\n",
       "      <td>1.00000</td>\n",
       "    </tr>\n",
       "  </tbody>\n",
       "</table>\n",
       "</div>"
      ],
      "text/plain": [
       "                                 Flight_Number_Marketing_Airline  \\\n",
       "Flight_Number_Marketing_Airline                          1.00000   \n",
       "Flight_Number_Operating_Airline                          0.99998   \n",
       "\n",
       "                                 Flight_Number_Operating_Airline  \n",
       "Flight_Number_Marketing_Airline                          0.99998  \n",
       "Flight_Number_Operating_Airline                          1.00000  "
      ]
     },
     "execution_count": 29,
     "metadata": {},
     "output_type": "execute_result"
    }
   ],
   "source": [
    "dt[[\"Flight_Number_Marketing_Airline\", \"Flight_Number_Operating_Airline\"]].corr()"
   ]
  },
  {
   "cell_type": "markdown",
   "metadata": {},
   "source": [
    "Видно, что данные два признака практически не различаются (менее 200 объектов, у которых они разлчичны). Поэтому разумнее будет удалить `Flight_Number_Marketing_Airline`"
   ]
  },
  {
   "cell_type": "markdown",
   "metadata": {},
   "source": [
    "### Airports"
   ]
  },
  {
   "cell_type": "markdown",
   "metadata": {},
   "source": [
    "Рассмотрим ID аэропортов"
   ]
  },
  {
   "cell_type": "code",
   "execution_count": 30,
   "metadata": {},
   "outputs": [
    {
     "data": {
      "text/html": [
       "<div>\n",
       "<style scoped>\n",
       "    .dataframe tbody tr th:only-of-type {\n",
       "        vertical-align: middle;\n",
       "    }\n",
       "\n",
       "    .dataframe tbody tr th {\n",
       "        vertical-align: top;\n",
       "    }\n",
       "\n",
       "    .dataframe thead th {\n",
       "        text-align: right;\n",
       "    }\n",
       "</style>\n",
       "<table border=\"1\" class=\"dataframe\">\n",
       "  <thead>\n",
       "    <tr style=\"text-align: right;\">\n",
       "      <th></th>\n",
       "      <th>OriginAirportID</th>\n",
       "      <th>OriginAirportSeqID</th>\n",
       "      <th>DestAirportID</th>\n",
       "      <th>DestAirportSeqID</th>\n",
       "    </tr>\n",
       "  </thead>\n",
       "  <tbody>\n",
       "    <tr>\n",
       "      <th>0</th>\n",
       "      <td>11921</td>\n",
       "      <td>1192102</td>\n",
       "      <td>11292</td>\n",
       "      <td>1129202</td>\n",
       "    </tr>\n",
       "    <tr>\n",
       "      <th>1</th>\n",
       "      <td>12206</td>\n",
       "      <td>1220605</td>\n",
       "      <td>12266</td>\n",
       "      <td>1226603</td>\n",
       "    </tr>\n",
       "    <tr>\n",
       "      <th>2</th>\n",
       "      <td>11413</td>\n",
       "      <td>1141307</td>\n",
       "      <td>11292</td>\n",
       "      <td>1129202</td>\n",
       "    </tr>\n",
       "    <tr>\n",
       "      <th>3</th>\n",
       "      <td>12266</td>\n",
       "      <td>1226603</td>\n",
       "      <td>11973</td>\n",
       "      <td>1197302</td>\n",
       "    </tr>\n",
       "    <tr>\n",
       "      <th>4</th>\n",
       "      <td>11413</td>\n",
       "      <td>1141307</td>\n",
       "      <td>11292</td>\n",
       "      <td>1129202</td>\n",
       "    </tr>\n",
       "  </tbody>\n",
       "</table>\n",
       "</div>"
      ],
      "text/plain": [
       "   OriginAirportID  OriginAirportSeqID  DestAirportID  DestAirportSeqID\n",
       "0            11921             1192102          11292           1129202\n",
       "1            12206             1220605          12266           1226603\n",
       "2            11413             1141307          11292           1129202\n",
       "3            12266             1226603          11973           1197302\n",
       "4            11413             1141307          11292           1129202"
      ]
     },
     "execution_count": 30,
     "metadata": {},
     "output_type": "execute_result"
    }
   ],
   "source": [
    "dt[[\"OriginAirportID\", \"OriginAirportSeqID\", \"DestAirportID\", \"DestAirportSeqID\"]].head(5)"
   ]
  },
  {
   "cell_type": "code",
   "execution_count": 31,
   "metadata": {},
   "outputs": [
    {
     "data": {
      "text/html": [
       "<div>\n",
       "<style scoped>\n",
       "    .dataframe tbody tr th:only-of-type {\n",
       "        vertical-align: middle;\n",
       "    }\n",
       "\n",
       "    .dataframe tbody tr th {\n",
       "        vertical-align: top;\n",
       "    }\n",
       "\n",
       "    .dataframe thead th {\n",
       "        text-align: right;\n",
       "    }\n",
       "</style>\n",
       "<table border=\"1\" class=\"dataframe\">\n",
       "  <thead>\n",
       "    <tr style=\"text-align: right;\">\n",
       "      <th></th>\n",
       "      <th>OriginAirportID</th>\n",
       "      <th>OriginAirportSeqID</th>\n",
       "      <th>DestAirportID</th>\n",
       "      <th>DestAirportSeqID</th>\n",
       "    </tr>\n",
       "  </thead>\n",
       "  <tbody>\n",
       "    <tr>\n",
       "      <th>OriginAirportID</th>\n",
       "      <td>1.00000</td>\n",
       "      <td>1.00000</td>\n",
       "      <td>0.00589</td>\n",
       "      <td>0.00589</td>\n",
       "    </tr>\n",
       "    <tr>\n",
       "      <th>OriginAirportSeqID</th>\n",
       "      <td>1.00000</td>\n",
       "      <td>1.00000</td>\n",
       "      <td>0.00589</td>\n",
       "      <td>0.00589</td>\n",
       "    </tr>\n",
       "    <tr>\n",
       "      <th>DestAirportID</th>\n",
       "      <td>0.00589</td>\n",
       "      <td>0.00589</td>\n",
       "      <td>1.00000</td>\n",
       "      <td>1.00000</td>\n",
       "    </tr>\n",
       "    <tr>\n",
       "      <th>DestAirportSeqID</th>\n",
       "      <td>0.00589</td>\n",
       "      <td>0.00589</td>\n",
       "      <td>1.00000</td>\n",
       "      <td>1.00000</td>\n",
       "    </tr>\n",
       "  </tbody>\n",
       "</table>\n",
       "</div>"
      ],
      "text/plain": [
       "                    OriginAirportID  OriginAirportSeqID  DestAirportID  \\\n",
       "OriginAirportID             1.00000             1.00000        0.00589   \n",
       "OriginAirportSeqID          1.00000             1.00000        0.00589   \n",
       "DestAirportID               0.00589             0.00589        1.00000   \n",
       "DestAirportSeqID            0.00589             0.00589        1.00000   \n",
       "\n",
       "                    DestAirportSeqID  \n",
       "OriginAirportID              0.00589  \n",
       "OriginAirportSeqID           0.00589  \n",
       "DestAirportID                1.00000  \n",
       "DestAirportSeqID             1.00000  "
      ]
     },
     "execution_count": 31,
     "metadata": {},
     "output_type": "execute_result"
    }
   ],
   "source": [
    "dt[[\"OriginAirportID\", \"OriginAirportSeqID\", \"DestAirportID\", \"DestAirportSeqID\"]].corr()"
   ]
  },
  {
   "cell_type": "markdown",
   "metadata": {},
   "source": [
    "Видно, что `OriginAirportSeqID` и `DestAirportSeqID` можно смело удалять из рассмотрения. "
   ]
  },
  {
   "cell_type": "code",
   "execution_count": 32,
   "metadata": {},
   "outputs": [
    {
     "data": {
      "text/html": [
       "<div>\n",
       "<style scoped>\n",
       "    .dataframe tbody tr th:only-of-type {\n",
       "        vertical-align: middle;\n",
       "    }\n",
       "\n",
       "    .dataframe tbody tr th {\n",
       "        vertical-align: top;\n",
       "    }\n",
       "\n",
       "    .dataframe thead th {\n",
       "        text-align: right;\n",
       "    }\n",
       "</style>\n",
       "<table border=\"1\" class=\"dataframe\">\n",
       "  <thead>\n",
       "    <tr style=\"text-align: right;\">\n",
       "      <th></th>\n",
       "      <th>Origin</th>\n",
       "      <th>OriginAirportID</th>\n",
       "    </tr>\n",
       "  </thead>\n",
       "  <tbody>\n",
       "    <tr>\n",
       "      <th>0</th>\n",
       "      <td>GJT</td>\n",
       "      <td>11921</td>\n",
       "    </tr>\n",
       "    <tr>\n",
       "      <th>1</th>\n",
       "      <td>HRL</td>\n",
       "      <td>12206</td>\n",
       "    </tr>\n",
       "    <tr>\n",
       "      <th>2</th>\n",
       "      <td>DRO</td>\n",
       "      <td>11413</td>\n",
       "    </tr>\n",
       "    <tr>\n",
       "      <th>3</th>\n",
       "      <td>IAH</td>\n",
       "      <td>12266</td>\n",
       "    </tr>\n",
       "    <tr>\n",
       "      <th>4</th>\n",
       "      <td>DRO</td>\n",
       "      <td>11413</td>\n",
       "    </tr>\n",
       "    <tr>\n",
       "      <th>...</th>\n",
       "      <td>...</td>\n",
       "      <td>...</td>\n",
       "    </tr>\n",
       "    <tr>\n",
       "      <th>4078313</th>\n",
       "      <td>MSY</td>\n",
       "      <td>13495</td>\n",
       "    </tr>\n",
       "    <tr>\n",
       "      <th>4078314</th>\n",
       "      <td>CLT</td>\n",
       "      <td>11057</td>\n",
       "    </tr>\n",
       "    <tr>\n",
       "      <th>4078315</th>\n",
       "      <td>ALB</td>\n",
       "      <td>10257</td>\n",
       "    </tr>\n",
       "    <tr>\n",
       "      <th>4078316</th>\n",
       "      <td>EWR</td>\n",
       "      <td>11618</td>\n",
       "    </tr>\n",
       "    <tr>\n",
       "      <th>4078317</th>\n",
       "      <td>EWR</td>\n",
       "      <td>11618</td>\n",
       "    </tr>\n",
       "  </tbody>\n",
       "</table>\n",
       "<p>4078318 rows × 2 columns</p>\n",
       "</div>"
      ],
      "text/plain": [
       "        Origin  OriginAirportID\n",
       "0          GJT            11921\n",
       "1          HRL            12206\n",
       "2          DRO            11413\n",
       "3          IAH            12266\n",
       "4          DRO            11413\n",
       "...        ...              ...\n",
       "4078313    MSY            13495\n",
       "4078314    CLT            11057\n",
       "4078315    ALB            10257\n",
       "4078316    EWR            11618\n",
       "4078317    EWR            11618\n",
       "\n",
       "[4078318 rows x 2 columns]"
      ]
     },
     "execution_count": 32,
     "metadata": {},
     "output_type": "execute_result"
    }
   ],
   "source": [
    "dt[[\"Origin\", \"OriginAirportID\"]]"
   ]
  },
  {
   "cell_type": "code",
   "execution_count": 33,
   "metadata": {},
   "outputs": [
    {
     "data": {
      "text/plain": [
       "Origin             375\n",
       "OriginAirportID    375\n",
       "dtype: int64"
      ]
     },
     "execution_count": 33,
     "metadata": {},
     "output_type": "execute_result"
    }
   ],
   "source": [
    "dt[[\"Origin\", \"OriginAirportID\"]].nunique()"
   ]
  },
  {
   "cell_type": "markdown",
   "metadata": {},
   "source": [
    "`Origin` можно удалить, т.к. никакой новой информации по сравнению с ID он не несёт. Аналогично с `Dest`"
   ]
  },
  {
   "cell_type": "markdown",
   "metadata": {},
   "source": [
    "### Cities"
   ]
  },
  {
   "cell_type": "code",
   "execution_count": 34,
   "metadata": {},
   "outputs": [
    {
     "data": {
      "text/html": [
       "<div>\n",
       "<style scoped>\n",
       "    .dataframe tbody tr th:only-of-type {\n",
       "        vertical-align: middle;\n",
       "    }\n",
       "\n",
       "    .dataframe tbody tr th {\n",
       "        vertical-align: top;\n",
       "    }\n",
       "\n",
       "    .dataframe thead th {\n",
       "        text-align: right;\n",
       "    }\n",
       "</style>\n",
       "<table border=\"1\" class=\"dataframe\">\n",
       "  <thead>\n",
       "    <tr style=\"text-align: right;\">\n",
       "      <th></th>\n",
       "      <th>OriginCityMarketID</th>\n",
       "      <th>OriginCityName</th>\n",
       "    </tr>\n",
       "  </thead>\n",
       "  <tbody>\n",
       "    <tr>\n",
       "      <th>0</th>\n",
       "      <td>31921</td>\n",
       "      <td>Grand Junction, CO</td>\n",
       "    </tr>\n",
       "    <tr>\n",
       "      <th>1</th>\n",
       "      <td>32206</td>\n",
       "      <td>Harlingen/San Benito, TX</td>\n",
       "    </tr>\n",
       "    <tr>\n",
       "      <th>2</th>\n",
       "      <td>30285</td>\n",
       "      <td>Durango, CO</td>\n",
       "    </tr>\n",
       "    <tr>\n",
       "      <th>3</th>\n",
       "      <td>31453</td>\n",
       "      <td>Houston, TX</td>\n",
       "    </tr>\n",
       "    <tr>\n",
       "      <th>4</th>\n",
       "      <td>30285</td>\n",
       "      <td>Durango, CO</td>\n",
       "    </tr>\n",
       "    <tr>\n",
       "      <th>...</th>\n",
       "      <td>...</td>\n",
       "      <td>...</td>\n",
       "    </tr>\n",
       "    <tr>\n",
       "      <th>4078313</th>\n",
       "      <td>33495</td>\n",
       "      <td>New Orleans, LA</td>\n",
       "    </tr>\n",
       "    <tr>\n",
       "      <th>4078314</th>\n",
       "      <td>31057</td>\n",
       "      <td>Charlotte, NC</td>\n",
       "    </tr>\n",
       "    <tr>\n",
       "      <th>4078315</th>\n",
       "      <td>30257</td>\n",
       "      <td>Albany, NY</td>\n",
       "    </tr>\n",
       "    <tr>\n",
       "      <th>4078316</th>\n",
       "      <td>31703</td>\n",
       "      <td>Newark, NJ</td>\n",
       "    </tr>\n",
       "    <tr>\n",
       "      <th>4078317</th>\n",
       "      <td>31703</td>\n",
       "      <td>Newark, NJ</td>\n",
       "    </tr>\n",
       "  </tbody>\n",
       "</table>\n",
       "<p>4078318 rows × 2 columns</p>\n",
       "</div>"
      ],
      "text/plain": [
       "         OriginCityMarketID            OriginCityName\n",
       "0                     31921        Grand Junction, CO\n",
       "1                     32206  Harlingen/San Benito, TX\n",
       "2                     30285               Durango, CO\n",
       "3                     31453               Houston, TX\n",
       "4                     30285               Durango, CO\n",
       "...                     ...                       ...\n",
       "4078313               33495           New Orleans, LA\n",
       "4078314               31057             Charlotte, NC\n",
       "4078315               30257                Albany, NY\n",
       "4078316               31703                Newark, NJ\n",
       "4078317               31703                Newark, NJ\n",
       "\n",
       "[4078318 rows x 2 columns]"
      ]
     },
     "execution_count": 34,
     "metadata": {},
     "output_type": "execute_result"
    }
   ],
   "source": [
    "dt[[\"OriginCityMarketID\", \"OriginCityName\"]]"
   ]
  },
  {
   "cell_type": "code",
   "execution_count": 35,
   "metadata": {},
   "outputs": [],
   "source": [
    "counts = {\"OriginCityMarketID\": [], \"NameCount\": []}\n",
    "for code in dt[\"OriginCityMarketID\"].unique():\n",
    "    mask = dt[\"OriginCityMarketID\"] == code\n",
    "    name_count = len(dt[\"OriginCityName\"][mask].unique())\n",
    "    counts[\"OriginCityMarketID\"].append(code)\n",
    "    counts[\"NameCount\"].append(name_count)\n",
    "counts = pd.DataFrame(counts)"
   ]
  },
  {
   "cell_type": "code",
   "execution_count": 36,
   "metadata": {},
   "outputs": [
    {
     "data": {
      "text/html": [
       "<div>\n",
       "<style scoped>\n",
       "    .dataframe tbody tr th:only-of-type {\n",
       "        vertical-align: middle;\n",
       "    }\n",
       "\n",
       "    .dataframe tbody tr th {\n",
       "        vertical-align: top;\n",
       "    }\n",
       "\n",
       "    .dataframe thead th {\n",
       "        text-align: right;\n",
       "    }\n",
       "</style>\n",
       "<table border=\"1\" class=\"dataframe\">\n",
       "  <thead>\n",
       "    <tr style=\"text-align: right;\">\n",
       "      <th></th>\n",
       "      <th>OriginCityMarketID</th>\n",
       "      <th>NameCount</th>\n",
       "    </tr>\n",
       "  </thead>\n",
       "  <tbody>\n",
       "    <tr>\n",
       "      <th>count</th>\n",
       "      <td>351.000000</td>\n",
       "      <td>351.000000</td>\n",
       "    </tr>\n",
       "    <tr>\n",
       "      <th>mean</th>\n",
       "      <td>32458.350427</td>\n",
       "      <td>1.051282</td>\n",
       "    </tr>\n",
       "    <tr>\n",
       "      <th>std</th>\n",
       "      <td>1634.084756</td>\n",
       "      <td>0.358875</td>\n",
       "    </tr>\n",
       "    <tr>\n",
       "      <th>min</th>\n",
       "      <td>30070.000000</td>\n",
       "      <td>1.000000</td>\n",
       "    </tr>\n",
       "    <tr>\n",
       "      <th>25%</th>\n",
       "      <td>31038.000000</td>\n",
       "      <td>1.000000</td>\n",
       "    </tr>\n",
       "    <tr>\n",
       "      <th>50%</th>\n",
       "      <td>32177.000000</td>\n",
       "      <td>1.000000</td>\n",
       "    </tr>\n",
       "    <tr>\n",
       "      <th>75%</th>\n",
       "      <td>33976.500000</td>\n",
       "      <td>1.000000</td>\n",
       "    </tr>\n",
       "    <tr>\n",
       "      <th>max</th>\n",
       "      <td>36101.000000</td>\n",
       "      <td>5.000000</td>\n",
       "    </tr>\n",
       "  </tbody>\n",
       "</table>\n",
       "</div>"
      ],
      "text/plain": [
       "       OriginCityMarketID   NameCount\n",
       "count          351.000000  351.000000\n",
       "mean         32458.350427    1.051282\n",
       "std           1634.084756    0.358875\n",
       "min          30070.000000    1.000000\n",
       "25%          31038.000000    1.000000\n",
       "50%          32177.000000    1.000000\n",
       "75%          33976.500000    1.000000\n",
       "max          36101.000000    5.000000"
      ]
     },
     "execution_count": 36,
     "metadata": {},
     "output_type": "execute_result"
    }
   ],
   "source": [
    "counts.describe()"
   ]
  },
  {
   "cell_type": "code",
   "execution_count": 37,
   "metadata": {},
   "outputs": [
    {
     "data": {
      "text/plain": [
       "(351, 2)"
      ]
     },
     "execution_count": 37,
     "metadata": {},
     "output_type": "execute_result"
    }
   ],
   "source": [
    "counts.shape"
   ]
  },
  {
   "cell_type": "code",
   "execution_count": 38,
   "metadata": {},
   "outputs": [
    {
     "data": {
      "text/html": [
       "<div>\n",
       "<style scoped>\n",
       "    .dataframe tbody tr th:only-of-type {\n",
       "        vertical-align: middle;\n",
       "    }\n",
       "\n",
       "    .dataframe tbody tr th {\n",
       "        vertical-align: top;\n",
       "    }\n",
       "\n",
       "    .dataframe thead th {\n",
       "        text-align: right;\n",
       "    }\n",
       "</style>\n",
       "<table border=\"1\" class=\"dataframe\">\n",
       "  <thead>\n",
       "    <tr style=\"text-align: right;\">\n",
       "      <th></th>\n",
       "      <th>OriginCityMarketID</th>\n",
       "      <th>NameCount</th>\n",
       "    </tr>\n",
       "  </thead>\n",
       "  <tbody>\n",
       "    <tr>\n",
       "      <th>9</th>\n",
       "      <td>30852</td>\n",
       "      <td>2</td>\n",
       "    </tr>\n",
       "    <tr>\n",
       "      <th>21</th>\n",
       "      <td>31703</td>\n",
       "      <td>5</td>\n",
       "    </tr>\n",
       "    <tr>\n",
       "      <th>25</th>\n",
       "      <td>30721</td>\n",
       "      <td>3</td>\n",
       "    </tr>\n",
       "    <tr>\n",
       "      <th>32</th>\n",
       "      <td>30647</td>\n",
       "      <td>2</td>\n",
       "    </tr>\n",
       "    <tr>\n",
       "      <th>79</th>\n",
       "      <td>33667</td>\n",
       "      <td>2</td>\n",
       "    </tr>\n",
       "    <tr>\n",
       "      <th>104</th>\n",
       "      <td>32575</td>\n",
       "      <td>5</td>\n",
       "    </tr>\n",
       "    <tr>\n",
       "      <th>107</th>\n",
       "      <td>30194</td>\n",
       "      <td>2</td>\n",
       "    </tr>\n",
       "    <tr>\n",
       "      <th>111</th>\n",
       "      <td>32467</td>\n",
       "      <td>2</td>\n",
       "    </tr>\n",
       "    <tr>\n",
       "      <th>125</th>\n",
       "      <td>32457</td>\n",
       "      <td>3</td>\n",
       "    </tr>\n",
       "    <tr>\n",
       "      <th>141</th>\n",
       "      <td>33195</td>\n",
       "      <td>2</td>\n",
       "    </tr>\n",
       "  </tbody>\n",
       "</table>\n",
       "</div>"
      ],
      "text/plain": [
       "     OriginCityMarketID  NameCount\n",
       "9                 30852          2\n",
       "21                31703          5\n",
       "25                30721          3\n",
       "32                30647          2\n",
       "79                33667          2\n",
       "104               32575          5\n",
       "107               30194          2\n",
       "111               32467          2\n",
       "125               32457          3\n",
       "141               33195          2"
      ]
     },
     "execution_count": 38,
     "metadata": {},
     "output_type": "execute_result"
    }
   ],
   "source": [
    "counts[counts[\"NameCount\"] > 1]"
   ]
  },
  {
   "cell_type": "markdown",
   "metadata": {},
   "source": [
    "Признак `OriginCityMarketID` является по сути группирующим по отношению к `OriginCityName`, пэтому по факту несёт меньше информации. К тому же, в большинстве случае, оба признака имеют взаимнооднозначное соответствие. Поэтому признак `OriginCityMarketID` можно удалить.\n",
    "\n",
    "Аналогично с `DestCityMarketID`."
   ]
  },
  {
   "cell_type": "markdown",
   "metadata": {},
   "source": [
    "### States"
   ]
  },
  {
   "cell_type": "markdown",
   "metadata": {},
   "source": [
    "Признаки `OriginState`, `OriginStateFips`, `OriginStateName` по сути означают одно и то же. Убедимся в этом:"
   ]
  },
  {
   "cell_type": "code",
   "execution_count": 39,
   "metadata": {},
   "outputs": [
    {
     "data": {
      "text/html": [
       "<div>\n",
       "<style scoped>\n",
       "    .dataframe tbody tr th:only-of-type {\n",
       "        vertical-align: middle;\n",
       "    }\n",
       "\n",
       "    .dataframe tbody tr th {\n",
       "        vertical-align: top;\n",
       "    }\n",
       "\n",
       "    .dataframe thead th {\n",
       "        text-align: right;\n",
       "    }\n",
       "</style>\n",
       "<table border=\"1\" class=\"dataframe\">\n",
       "  <thead>\n",
       "    <tr style=\"text-align: right;\">\n",
       "      <th></th>\n",
       "      <th>OriginState</th>\n",
       "      <th>OriginStateFips</th>\n",
       "      <th>OriginStateName</th>\n",
       "    </tr>\n",
       "  </thead>\n",
       "  <tbody>\n",
       "    <tr>\n",
       "      <th>0</th>\n",
       "      <td>CO</td>\n",
       "      <td>8</td>\n",
       "      <td>Colorado</td>\n",
       "    </tr>\n",
       "    <tr>\n",
       "      <th>1</th>\n",
       "      <td>TX</td>\n",
       "      <td>48</td>\n",
       "      <td>Texas</td>\n",
       "    </tr>\n",
       "    <tr>\n",
       "      <th>2</th>\n",
       "      <td>CO</td>\n",
       "      <td>8</td>\n",
       "      <td>Colorado</td>\n",
       "    </tr>\n",
       "    <tr>\n",
       "      <th>3</th>\n",
       "      <td>TX</td>\n",
       "      <td>48</td>\n",
       "      <td>Texas</td>\n",
       "    </tr>\n",
       "    <tr>\n",
       "      <th>4</th>\n",
       "      <td>CO</td>\n",
       "      <td>8</td>\n",
       "      <td>Colorado</td>\n",
       "    </tr>\n",
       "  </tbody>\n",
       "</table>\n",
       "</div>"
      ],
      "text/plain": [
       "  OriginState  OriginStateFips OriginStateName\n",
       "0          CO                8        Colorado\n",
       "1          TX               48           Texas\n",
       "2          CO                8        Colorado\n",
       "3          TX               48           Texas\n",
       "4          CO                8        Colorado"
      ]
     },
     "execution_count": 39,
     "metadata": {},
     "output_type": "execute_result"
    }
   ],
   "source": [
    "dt[[\"OriginState\", \"OriginStateFips\", \"OriginStateName\"]].head(5)"
   ]
  },
  {
   "cell_type": "code",
   "execution_count": 40,
   "metadata": {},
   "outputs": [
    {
     "data": {
      "text/plain": [
       "OriginState        53\n",
       "OriginStateFips    53\n",
       "OriginStateName    53\n",
       "dtype: int64"
      ]
     },
     "execution_count": 40,
     "metadata": {},
     "output_type": "execute_result"
    }
   ],
   "source": [
    "dt[[\"OriginState\", \"OriginStateFips\", \"OriginStateName\"]].nunique()"
   ]
  },
  {
   "cell_type": "markdown",
   "metadata": {},
   "source": [
    "Поэтому можно удалить `OriginStateFips` и `OriginStateName`. Аналогично с `DestStateFips` и `DestStateName`."
   ]
  },
  {
   "cell_type": "markdown",
   "metadata": {},
   "source": [
    "### Tale Number"
   ]
  },
  {
   "cell_type": "markdown",
   "metadata": {},
   "source": [
    "Номер самолёта полезен при анализе данных, однако для наших целей не несёт особо никакой информации. Поэтому разумнее будет его удалить."
   ]
  },
  {
   "cell_type": "markdown",
   "metadata": {},
   "source": [
    "### Result"
   ]
  },
  {
   "cell_type": "markdown",
   "metadata": {},
   "source": [
    "Удалим все найденные выше признаки:"
   ]
  },
  {
   "cell_type": "code",
   "execution_count": 41,
   "metadata": {},
   "outputs": [
    {
     "name": "stdout",
     "output_type": "stream",
     "text": [
      "Количество бесполезных признаков: 36\n"
     ]
    }
   ],
   "source": [
    "useless_features = [\"Year\", \"FlightDate\", \"Quarter\", \"AirTime\", \"WheelsOff\", \"WheelsOn\",\n",
    "                    \"DepTimeBlk\", \"ArrTimeBlk\", \"ActualElapsedTime\", \"DepTime\", \"ArrTime\",\n",
    "                    \"DepDelayMinutes\", \"ArrDelayMinutes\",  \"DepDel15\", \"ArrDel15\", \n",
    "                    \"DepartureDelayGroups\", \"ArrivalDelayGroups\",\n",
    "                    \"DistanceGroup\", \"Distance\", \"Airline\", \n",
    "                    \"DOT_ID_Marketing_Airline\", \"DOT_ID_Operating_Airline\",\n",
    "                    \"IATA_Code_Marketing_Airline\", \"IATA_Code_Operating_Airline\",\n",
    "                    \"Flight_Number_Marketing_Airline\",\n",
    "                    \"OriginAirportSeqID\", \"DestAirportSeqID\",\n",
    "                    \"Origin\", \"Dest\",\n",
    "                    \"OriginCityMarketID\", \"DestCityMarketID\",\n",
    "                    \"OriginStateFips\", \"DestStateFips\",\n",
    "                    \"OriginStateName\", \"DestStateName\", \"Tail_Number\"]\n",
    "print(f\"Количество бесполезных признаков: {len(useless_features)}\")"
   ]
  },
  {
   "cell_type": "code",
   "execution_count": 42,
   "metadata": {},
   "outputs": [],
   "source": [
    "prepared_dt = dt.drop(columns=useless_features)"
   ]
  },
  {
   "cell_type": "code",
   "execution_count": 43,
   "metadata": {},
   "outputs": [
    {
     "data": {
      "text/html": [
       "<div>\n",
       "<style scoped>\n",
       "    .dataframe tbody tr th:only-of-type {\n",
       "        vertical-align: middle;\n",
       "    }\n",
       "\n",
       "    .dataframe tbody tr th {\n",
       "        vertical-align: top;\n",
       "    }\n",
       "\n",
       "    .dataframe thead th {\n",
       "        text-align: right;\n",
       "    }\n",
       "</style>\n",
       "<table border=\"1\" class=\"dataframe\">\n",
       "  <thead>\n",
       "    <tr style=\"text-align: right;\">\n",
       "      <th></th>\n",
       "      <th>Cancelled</th>\n",
       "      <th>Diverted</th>\n",
       "      <th>CRSDepTime</th>\n",
       "      <th>DepDelay</th>\n",
       "      <th>CRSElapsedTime</th>\n",
       "      <th>Month</th>\n",
       "      <th>DayofMonth</th>\n",
       "      <th>DayOfWeek</th>\n",
       "      <th>Marketing_Airline_Network</th>\n",
       "      <th>Operated_or_Branded_Code_Share_Partners</th>\n",
       "      <th>...</th>\n",
       "      <th>OriginWac</th>\n",
       "      <th>DestAirportID</th>\n",
       "      <th>DestCityName</th>\n",
       "      <th>DestState</th>\n",
       "      <th>DestWac</th>\n",
       "      <th>TaxiOut</th>\n",
       "      <th>TaxiIn</th>\n",
       "      <th>CRSArrTime</th>\n",
       "      <th>ArrDelay</th>\n",
       "      <th>DivAirportLandings</th>\n",
       "    </tr>\n",
       "  </thead>\n",
       "  <tbody>\n",
       "    <tr>\n",
       "      <th>0</th>\n",
       "      <td>False</td>\n",
       "      <td>False</td>\n",
       "      <td>1133</td>\n",
       "      <td>-10.0</td>\n",
       "      <td>72.0</td>\n",
       "      <td>4</td>\n",
       "      <td>4</td>\n",
       "      <td>1</td>\n",
       "      <td>UA</td>\n",
       "      <td>UA_CODESHARE</td>\n",
       "      <td>...</td>\n",
       "      <td>82</td>\n",
       "      <td>11292</td>\n",
       "      <td>Denver, CO</td>\n",
       "      <td>CO</td>\n",
       "      <td>82</td>\n",
       "      <td>17.0</td>\n",
       "      <td>8.0</td>\n",
       "      <td>1245</td>\n",
       "      <td>-17.0</td>\n",
       "      <td>0</td>\n",
       "    </tr>\n",
       "    <tr>\n",
       "      <th>1</th>\n",
       "      <td>False</td>\n",
       "      <td>False</td>\n",
       "      <td>732</td>\n",
       "      <td>-4.0</td>\n",
       "      <td>77.0</td>\n",
       "      <td>4</td>\n",
       "      <td>4</td>\n",
       "      <td>1</td>\n",
       "      <td>UA</td>\n",
       "      <td>UA_CODESHARE</td>\n",
       "      <td>...</td>\n",
       "      <td>74</td>\n",
       "      <td>12266</td>\n",
       "      <td>Houston, TX</td>\n",
       "      <td>TX</td>\n",
       "      <td>74</td>\n",
       "      <td>16.0</td>\n",
       "      <td>9.0</td>\n",
       "      <td>849</td>\n",
       "      <td>-1.0</td>\n",
       "      <td>0</td>\n",
       "    </tr>\n",
       "    <tr>\n",
       "      <th>2</th>\n",
       "      <td>False</td>\n",
       "      <td>False</td>\n",
       "      <td>1529</td>\n",
       "      <td>-15.0</td>\n",
       "      <td>70.0</td>\n",
       "      <td>4</td>\n",
       "      <td>4</td>\n",
       "      <td>1</td>\n",
       "      <td>UA</td>\n",
       "      <td>UA_CODESHARE</td>\n",
       "      <td>...</td>\n",
       "      <td>82</td>\n",
       "      <td>11292</td>\n",
       "      <td>Denver, CO</td>\n",
       "      <td>CO</td>\n",
       "      <td>82</td>\n",
       "      <td>21.0</td>\n",
       "      <td>14.0</td>\n",
       "      <td>1639</td>\n",
       "      <td>-3.0</td>\n",
       "      <td>0</td>\n",
       "    </tr>\n",
       "    <tr>\n",
       "      <th>3</th>\n",
       "      <td>False</td>\n",
       "      <td>False</td>\n",
       "      <td>1435</td>\n",
       "      <td>-5.0</td>\n",
       "      <td>90.0</td>\n",
       "      <td>4</td>\n",
       "      <td>4</td>\n",
       "      <td>1</td>\n",
       "      <td>UA</td>\n",
       "      <td>UA_CODESHARE</td>\n",
       "      <td>...</td>\n",
       "      <td>74</td>\n",
       "      <td>11973</td>\n",
       "      <td>Gulfport/Biloxi, MS</td>\n",
       "      <td>MS</td>\n",
       "      <td>53</td>\n",
       "      <td>16.0</td>\n",
       "      <td>4.0</td>\n",
       "      <td>1605</td>\n",
       "      <td>-18.0</td>\n",
       "      <td>0</td>\n",
       "    </tr>\n",
       "    <tr>\n",
       "      <th>4</th>\n",
       "      <td>False</td>\n",
       "      <td>False</td>\n",
       "      <td>1135</td>\n",
       "      <td>0.0</td>\n",
       "      <td>70.0</td>\n",
       "      <td>4</td>\n",
       "      <td>4</td>\n",
       "      <td>1</td>\n",
       "      <td>UA</td>\n",
       "      <td>UA_CODESHARE</td>\n",
       "      <td>...</td>\n",
       "      <td>82</td>\n",
       "      <td>11292</td>\n",
       "      <td>Denver, CO</td>\n",
       "      <td>CO</td>\n",
       "      <td>82</td>\n",
       "      <td>19.0</td>\n",
       "      <td>8.0</td>\n",
       "      <td>1245</td>\n",
       "      <td>6.0</td>\n",
       "      <td>0</td>\n",
       "    </tr>\n",
       "  </tbody>\n",
       "</table>\n",
       "<p>5 rows × 25 columns</p>\n",
       "</div>"
      ],
      "text/plain": [
       "   Cancelled  Diverted  CRSDepTime  DepDelay  CRSElapsedTime  Month  \\\n",
       "0      False     False        1133     -10.0            72.0      4   \n",
       "1      False     False         732      -4.0            77.0      4   \n",
       "2      False     False        1529     -15.0            70.0      4   \n",
       "3      False     False        1435      -5.0            90.0      4   \n",
       "4      False     False        1135       0.0            70.0      4   \n",
       "\n",
       "   DayofMonth  DayOfWeek Marketing_Airline_Network  \\\n",
       "0           4          1                        UA   \n",
       "1           4          1                        UA   \n",
       "2           4          1                        UA   \n",
       "3           4          1                        UA   \n",
       "4           4          1                        UA   \n",
       "\n",
       "  Operated_or_Branded_Code_Share_Partners  ... OriginWac  DestAirportID  \\\n",
       "0                            UA_CODESHARE  ...        82          11292   \n",
       "1                            UA_CODESHARE  ...        74          12266   \n",
       "2                            UA_CODESHARE  ...        82          11292   \n",
       "3                            UA_CODESHARE  ...        74          11973   \n",
       "4                            UA_CODESHARE  ...        82          11292   \n",
       "\n",
       "          DestCityName DestState DestWac  TaxiOut  TaxiIn CRSArrTime ArrDelay  \\\n",
       "0           Denver, CO        CO      82     17.0     8.0       1245    -17.0   \n",
       "1          Houston, TX        TX      74     16.0     9.0        849     -1.0   \n",
       "2           Denver, CO        CO      82     21.0    14.0       1639     -3.0   \n",
       "3  Gulfport/Biloxi, MS        MS      53     16.0     4.0       1605    -18.0   \n",
       "4           Denver, CO        CO      82     19.0     8.0       1245      6.0   \n",
       "\n",
       "   DivAirportLandings  \n",
       "0                   0  \n",
       "1                   0  \n",
       "2                   0  \n",
       "3                   0  \n",
       "4                   0  \n",
       "\n",
       "[5 rows x 25 columns]"
      ]
     },
     "execution_count": 43,
     "metadata": {},
     "output_type": "execute_result"
    }
   ],
   "source": [
    "prepared_dt.head(5)"
   ]
  },
  {
   "cell_type": "markdown",
   "metadata": {},
   "source": [
    "Итого, осталось 24 признаков (`Cancelled` - класс)"
   ]
  },
  {
   "cell_type": "markdown",
   "metadata": {},
   "source": [
    "## Missing values"
   ]
  },
  {
   "cell_type": "code",
   "execution_count": 44,
   "metadata": {},
   "outputs": [],
   "source": [
    "def nan_report(data):\n",
    "    N = data.shape[0]\n",
    "    with_na = data.columns[data.isna().any()].tolist()\n",
    "    if len(with_na) == 0:\n",
    "        return None\n",
    "    nan_count = data[with_na].isna().sum()\n",
    "    nan_count = pd.DataFrame(nan_count, columns=[\"Count\"])\n",
    "    nan_count[\"Percent\"] = round(nan_count[\"Count\"] / N * 100, 2)\n",
    "    return nan_count"
   ]
  },
  {
   "cell_type": "code",
   "execution_count": 45,
   "metadata": {},
   "outputs": [
    {
     "name": "stdout",
     "output_type": "stream",
     "text": [
      "<class 'pandas.core.frame.DataFrame'>\n",
      "RangeIndex: 4078318 entries, 0 to 4078317\n",
      "Data columns (total 25 columns):\n",
      " #   Column                                   Non-Null Count    Dtype  \n",
      "---  ------                                   --------------    -----  \n",
      " 0   Cancelled                                4078318 non-null  bool   \n",
      " 1   Diverted                                 4078318 non-null  bool   \n",
      " 2   CRSDepTime                               4078318 non-null  int64  \n",
      " 3   DepDelay                                 3957823 non-null  float64\n",
      " 4   CRSElapsedTime                           4078318 non-null  float64\n",
      " 5   Month                                    4078318 non-null  int64  \n",
      " 6   DayofMonth                               4078318 non-null  int64  \n",
      " 7   DayOfWeek                                4078318 non-null  int64  \n",
      " 8   Marketing_Airline_Network                4078318 non-null  object \n",
      " 9   Operated_or_Branded_Code_Share_Partners  4078318 non-null  object \n",
      " 10  Operating_Airline                        4078318 non-null  object \n",
      " 11  Flight_Number_Operating_Airline          4078318 non-null  int64  \n",
      " 12  OriginAirportID                          4078318 non-null  int64  \n",
      " 13  OriginCityName                           4078318 non-null  object \n",
      " 14  OriginState                              4078318 non-null  object \n",
      " 15  OriginWac                                4078318 non-null  int64  \n",
      " 16  DestAirportID                            4078318 non-null  int64  \n",
      " 17  DestCityName                             4078318 non-null  object \n",
      " 18  DestState                                4078318 non-null  object \n",
      " 19  DestWac                                  4078318 non-null  int64  \n",
      " 20  TaxiOut                                  3955652 non-null  float64\n",
      " 21  TaxiIn                                   3954076 non-null  float64\n",
      " 22  CRSArrTime                               4078318 non-null  int64  \n",
      " 23  ArrDelay                                 3944916 non-null  float64\n",
      " 24  DivAirportLandings                       4078318 non-null  int64  \n",
      "dtypes: bool(2), float64(5), int64(11), object(7)\n",
      "memory usage: 723.4+ MB\n"
     ]
    }
   ],
   "source": [
    "prepared_dt.info(show_counts=True)"
   ]
  },
  {
   "cell_type": "code",
   "execution_count": 46,
   "metadata": {},
   "outputs": [
    {
     "data": {
      "text/html": [
       "<div>\n",
       "<style scoped>\n",
       "    .dataframe tbody tr th:only-of-type {\n",
       "        vertical-align: middle;\n",
       "    }\n",
       "\n",
       "    .dataframe tbody tr th {\n",
       "        vertical-align: top;\n",
       "    }\n",
       "\n",
       "    .dataframe thead th {\n",
       "        text-align: right;\n",
       "    }\n",
       "</style>\n",
       "<table border=\"1\" class=\"dataframe\">\n",
       "  <thead>\n",
       "    <tr style=\"text-align: right;\">\n",
       "      <th></th>\n",
       "      <th>Count</th>\n",
       "      <th>Percent</th>\n",
       "    </tr>\n",
       "  </thead>\n",
       "  <tbody>\n",
       "    <tr>\n",
       "      <th>DepDelay</th>\n",
       "      <td>120495</td>\n",
       "      <td>2.95</td>\n",
       "    </tr>\n",
       "    <tr>\n",
       "      <th>TaxiOut</th>\n",
       "      <td>122666</td>\n",
       "      <td>3.01</td>\n",
       "    </tr>\n",
       "    <tr>\n",
       "      <th>TaxiIn</th>\n",
       "      <td>124242</td>\n",
       "      <td>3.05</td>\n",
       "    </tr>\n",
       "    <tr>\n",
       "      <th>ArrDelay</th>\n",
       "      <td>133402</td>\n",
       "      <td>3.27</td>\n",
       "    </tr>\n",
       "  </tbody>\n",
       "</table>\n",
       "</div>"
      ],
      "text/plain": [
       "           Count  Percent\n",
       "DepDelay  120495     2.95\n",
       "TaxiOut   122666     3.01\n",
       "TaxiIn    124242     3.05\n",
       "ArrDelay  133402     3.27"
      ]
     },
     "execution_count": 46,
     "metadata": {},
     "output_type": "execute_result"
    }
   ],
   "source": [
    "nan_report(prepared_dt)"
   ]
  },
  {
   "cell_type": "markdown",
   "metadata": {},
   "source": [
    "Признаки `DepDelay`, `ArrDelay`, `TaxiOut`, `TaxiIn` заполним их медианными значениями."
   ]
  },
  {
   "cell_type": "code",
   "execution_count": 47,
   "metadata": {},
   "outputs": [
    {
     "data": {
      "text/plain": [
       "{'DepDelay': np.float64(-2.0),\n",
       " 'ArrDelay': np.float64(-5.0),\n",
       " 'TaxiOut': np.float64(15.0),\n",
       " 'TaxiIn': np.float64(6.0)}"
      ]
     },
     "execution_count": 47,
     "metadata": {},
     "output_type": "execute_result"
    }
   ],
   "source": [
    "for_median = [\"DepDelay\", \"ArrDelay\", \"TaxiOut\", \"TaxiIn\"]\n",
    "values = {\n",
    "    col: prepared_dt[col].median() for col in for_median\n",
    "}\n",
    "values"
   ]
  },
  {
   "cell_type": "code",
   "execution_count": 48,
   "metadata": {},
   "outputs": [],
   "source": [
    "prepared_dt = prepared_dt.fillna(values)"
   ]
  },
  {
   "cell_type": "code",
   "execution_count": 49,
   "metadata": {},
   "outputs": [],
   "source": [
    "nan_report(prepared_dt)"
   ]
  },
  {
   "cell_type": "markdown",
   "metadata": {},
   "source": [
    "## Numerical features"
   ]
  },
  {
   "cell_type": "code",
   "execution_count": 50,
   "metadata": {},
   "outputs": [],
   "source": [
    "def time_to_minutes(time):\n",
    "    return time // 100 * 60 + time % 100"
   ]
  },
  {
   "cell_type": "markdown",
   "metadata": {},
   "source": [
    "Найдём все числовые столбцы"
   ]
  },
  {
   "cell_type": "code",
   "execution_count": 51,
   "metadata": {},
   "outputs": [
    {
     "data": {
      "text/plain": [
       "['CRSDepTime',\n",
       " 'DepDelay',\n",
       " 'CRSElapsedTime',\n",
       " 'Month',\n",
       " 'DayofMonth',\n",
       " 'DayOfWeek',\n",
       " 'Flight_Number_Operating_Airline',\n",
       " 'OriginAirportID',\n",
       " 'OriginWac',\n",
       " 'DestAirportID',\n",
       " 'DestWac',\n",
       " 'TaxiOut',\n",
       " 'TaxiIn',\n",
       " 'CRSArrTime',\n",
       " 'ArrDelay',\n",
       " 'DivAirportLandings']"
      ]
     },
     "execution_count": 51,
     "metadata": {},
     "output_type": "execute_result"
    }
   ],
   "source": [
    "num_fts = prepared_dt.select_dtypes(include=[\"int\", \"float\"]).columns.to_list()\n",
    "num_fts"
   ]
  },
  {
   "cell_type": "markdown",
   "metadata": {},
   "source": [
    "`OriginAirportID` и `DestAirportID` пусть и являются числами, по смыслу больше относятся к категориальным признакам, поэтому здесь рассматриваться не будут. "
   ]
  },
  {
   "cell_type": "code",
   "execution_count": 52,
   "metadata": {},
   "outputs": [],
   "source": [
    "ids_features = [\"OriginAirportID\", \"DestAirportID\"]"
   ]
  },
  {
   "cell_type": "code",
   "execution_count": 53,
   "metadata": {},
   "outputs": [],
   "source": [
    "num_fts = [col for col in num_fts if col not in ids_features]"
   ]
  },
  {
   "cell_type": "markdown",
   "metadata": {},
   "source": [
    "### Time"
   ]
  },
  {
   "cell_type": "markdown",
   "metadata": {},
   "source": [
    "Некоторые признаки (такие как `CRSDepTime`) являются временем в формате (ччмм), поэтому их разумнее будет перевести в минуты (кол-во минут с 00:00)"
   ]
  },
  {
   "cell_type": "code",
   "execution_count": 54,
   "metadata": {},
   "outputs": [],
   "source": [
    "time_features = [\"CRSDepTime\", \"CRSArrTime\"]\n",
    "prepared_dt[time_features] = prepared_dt[time_features].apply(np.vectorize(time_to_minutes))"
   ]
  },
  {
   "cell_type": "markdown",
   "metadata": {},
   "source": [
    "### Stats"
   ]
  },
  {
   "cell_type": "code",
   "execution_count": 55,
   "metadata": {},
   "outputs": [],
   "source": [
    "desc = prepared_dt[num_fts].describe()"
   ]
  },
  {
   "cell_type": "code",
   "execution_count": 56,
   "metadata": {},
   "outputs": [
    {
     "data": {
      "text/html": [
       "<div>\n",
       "<style scoped>\n",
       "    .dataframe tbody tr th:only-of-type {\n",
       "        vertical-align: middle;\n",
       "    }\n",
       "\n",
       "    .dataframe tbody tr th {\n",
       "        vertical-align: top;\n",
       "    }\n",
       "\n",
       "    .dataframe thead th {\n",
       "        text-align: right;\n",
       "    }\n",
       "</style>\n",
       "<table border=\"1\" class=\"dataframe\">\n",
       "  <thead>\n",
       "    <tr style=\"text-align: right;\">\n",
       "      <th></th>\n",
       "      <th>CRSDepTime</th>\n",
       "      <th>DepDelay</th>\n",
       "      <th>CRSElapsedTime</th>\n",
       "      <th>Month</th>\n",
       "      <th>DayofMonth</th>\n",
       "      <th>DayOfWeek</th>\n",
       "      <th>Flight_Number_Operating_Airline</th>\n",
       "      <th>OriginWac</th>\n",
       "      <th>DestWac</th>\n",
       "      <th>TaxiOut</th>\n",
       "      <th>TaxiIn</th>\n",
       "      <th>CRSArrTime</th>\n",
       "      <th>ArrDelay</th>\n",
       "      <th>DivAirportLandings</th>\n",
       "    </tr>\n",
       "  </thead>\n",
       "  <tbody>\n",
       "    <tr>\n",
       "      <th>mean</th>\n",
       "      <td>808.574542</td>\n",
       "      <td>12.644634</td>\n",
       "      <td>141.321078</td>\n",
       "      <td>4.083803</td>\n",
       "      <td>15.711308</td>\n",
       "      <td>4.005566</td>\n",
       "      <td>2562.14542</td>\n",
       "      <td>53.993681</td>\n",
       "      <td>53.993381</td>\n",
       "      <td>16.914385</td>\n",
       "      <td>7.836676</td>\n",
       "      <td>903.471230</td>\n",
       "      <td>7.118679</td>\n",
       "      <td>0.003685</td>\n",
       "    </tr>\n",
       "    <tr>\n",
       "      <th>std</th>\n",
       "      <td>295.470825</td>\n",
       "      <td>52.588694</td>\n",
       "      <td>71.796350</td>\n",
       "      <td>1.998918</td>\n",
       "      <td>8.760122</td>\n",
       "      <td>2.007050</td>\n",
       "      <td>1745.87337</td>\n",
       "      <td>26.648197</td>\n",
       "      <td>26.648491</td>\n",
       "      <td>9.357592</td>\n",
       "      <td>6.568913</td>\n",
       "      <td>311.455321</td>\n",
       "      <td>54.380868</td>\n",
       "      <td>0.114133</td>\n",
       "    </tr>\n",
       "    <tr>\n",
       "      <th>min</th>\n",
       "      <td>1.000000</td>\n",
       "      <td>-78.000000</td>\n",
       "      <td>-48.000000</td>\n",
       "      <td>1.000000</td>\n",
       "      <td>1.000000</td>\n",
       "      <td>1.000000</td>\n",
       "      <td>1.00000</td>\n",
       "      <td>1.000000</td>\n",
       "      <td>1.000000</td>\n",
       "      <td>1.000000</td>\n",
       "      <td>1.000000</td>\n",
       "      <td>1.000000</td>\n",
       "      <td>-100.000000</td>\n",
       "      <td>0.000000</td>\n",
       "    </tr>\n",
       "    <tr>\n",
       "      <th>25%</th>\n",
       "      <td>554.000000</td>\n",
       "      <td>-5.000000</td>\n",
       "      <td>89.000000</td>\n",
       "      <td>2.000000</td>\n",
       "      <td>8.000000</td>\n",
       "      <td>2.000000</td>\n",
       "      <td>1105.00000</td>\n",
       "      <td>33.000000</td>\n",
       "      <td>33.000000</td>\n",
       "      <td>12.000000</td>\n",
       "      <td>4.000000</td>\n",
       "      <td>663.000000</td>\n",
       "      <td>-14.000000</td>\n",
       "      <td>0.000000</td>\n",
       "    </tr>\n",
       "    <tr>\n",
       "      <th>50%</th>\n",
       "      <td>800.000000</td>\n",
       "      <td>-2.000000</td>\n",
       "      <td>124.000000</td>\n",
       "      <td>4.000000</td>\n",
       "      <td>16.000000</td>\n",
       "      <td>4.000000</td>\n",
       "      <td>2228.00000</td>\n",
       "      <td>44.000000</td>\n",
       "      <td>44.000000</td>\n",
       "      <td>15.000000</td>\n",
       "      <td>6.000000</td>\n",
       "      <td>913.000000</td>\n",
       "      <td>-5.000000</td>\n",
       "      <td>0.000000</td>\n",
       "    </tr>\n",
       "    <tr>\n",
       "      <th>75%</th>\n",
       "      <td>1055.000000</td>\n",
       "      <td>10.000000</td>\n",
       "      <td>171.000000</td>\n",
       "      <td>6.000000</td>\n",
       "      <td>23.000000</td>\n",
       "      <td>6.000000</td>\n",
       "      <td>3877.00000</td>\n",
       "      <td>81.000000</td>\n",
       "      <td>81.000000</td>\n",
       "      <td>19.000000</td>\n",
       "      <td>9.000000</td>\n",
       "      <td>1160.000000</td>\n",
       "      <td>10.000000</td>\n",
       "      <td>0.000000</td>\n",
       "    </tr>\n",
       "    <tr>\n",
       "      <th>max</th>\n",
       "      <td>1439.000000</td>\n",
       "      <td>7223.000000</td>\n",
       "      <td>690.000000</td>\n",
       "      <td>7.000000</td>\n",
       "      <td>31.000000</td>\n",
       "      <td>7.000000</td>\n",
       "      <td>9680.00000</td>\n",
       "      <td>93.000000</td>\n",
       "      <td>93.000000</td>\n",
       "      <td>221.000000</td>\n",
       "      <td>290.000000</td>\n",
       "      <td>1439.000000</td>\n",
       "      <td>7232.000000</td>\n",
       "      <td>9.000000</td>\n",
       "    </tr>\n",
       "  </tbody>\n",
       "</table>\n",
       "</div>"
      ],
      "text/plain": [
       "       CRSDepTime     DepDelay  CRSElapsedTime     Month  DayofMonth  \\\n",
       "mean   808.574542    12.644634      141.321078  4.083803   15.711308   \n",
       "std    295.470825    52.588694       71.796350  1.998918    8.760122   \n",
       "min      1.000000   -78.000000      -48.000000  1.000000    1.000000   \n",
       "25%    554.000000    -5.000000       89.000000  2.000000    8.000000   \n",
       "50%    800.000000    -2.000000      124.000000  4.000000   16.000000   \n",
       "75%   1055.000000    10.000000      171.000000  6.000000   23.000000   \n",
       "max   1439.000000  7223.000000      690.000000  7.000000   31.000000   \n",
       "\n",
       "      DayOfWeek  Flight_Number_Operating_Airline  OriginWac    DestWac  \\\n",
       "mean   4.005566                       2562.14542  53.993681  53.993381   \n",
       "std    2.007050                       1745.87337  26.648197  26.648491   \n",
       "min    1.000000                          1.00000   1.000000   1.000000   \n",
       "25%    2.000000                       1105.00000  33.000000  33.000000   \n",
       "50%    4.000000                       2228.00000  44.000000  44.000000   \n",
       "75%    6.000000                       3877.00000  81.000000  81.000000   \n",
       "max    7.000000                       9680.00000  93.000000  93.000000   \n",
       "\n",
       "         TaxiOut      TaxiIn   CRSArrTime     ArrDelay  DivAirportLandings  \n",
       "mean   16.914385    7.836676   903.471230     7.118679            0.003685  \n",
       "std     9.357592    6.568913   311.455321    54.380868            0.114133  \n",
       "min     1.000000    1.000000     1.000000  -100.000000            0.000000  \n",
       "25%    12.000000    4.000000   663.000000   -14.000000            0.000000  \n",
       "50%    15.000000    6.000000   913.000000    -5.000000            0.000000  \n",
       "75%    19.000000    9.000000  1160.000000    10.000000            0.000000  \n",
       "max   221.000000  290.000000  1439.000000  7232.000000            9.000000  "
      ]
     },
     "execution_count": 56,
     "metadata": {},
     "output_type": "execute_result"
    }
   ],
   "source": [
    "desc.drop(index=[\"count\"])"
   ]
  },
  {
   "cell_type": "code",
   "execution_count": 57,
   "metadata": {},
   "outputs": [],
   "source": [
    "corr_mtx = prepared_dt[num_fts].corr()"
   ]
  },
  {
   "cell_type": "code",
   "execution_count": 58,
   "metadata": {},
   "outputs": [
    {
     "data": {
      "text/html": [
       "<style type=\"text/css\">\n",
       "#T_08e74_row0_col0, #T_08e74_row1_col1, #T_08e74_row2_col2, #T_08e74_row3_col3, #T_08e74_row4_col4, #T_08e74_row5_col5, #T_08e74_row6_col6, #T_08e74_row7_col7, #T_08e74_row8_col8, #T_08e74_row9_col9, #T_08e74_row10_col10, #T_08e74_row11_col11, #T_08e74_row12_col12, #T_08e74_row13_col13 {\n",
       "  background-color: #b40426;\n",
       "  color: #f1f1f1;\n",
       "}\n",
       "#T_08e74_row0_col1, #T_08e74_row1_col0, #T_08e74_row12_col0, #T_08e74_row13_col9 {\n",
       "  background-color: #5f7fe8;\n",
       "  color: #f1f1f1;\n",
       "}\n",
       "#T_08e74_row0_col2 {\n",
       "  background-color: #8caffe;\n",
       "  color: #000000;\n",
       "}\n",
       "#T_08e74_row0_col3, #T_08e74_row7_col3, #T_08e74_row8_col3, #T_08e74_row9_col11, #T_08e74_row13_col1 {\n",
       "  background-color: #445acc;\n",
       "  color: #f1f1f1;\n",
       "}\n",
       "#T_08e74_row0_col4, #T_08e74_row0_col5, #T_08e74_row2_col4, #T_08e74_row2_col13, #T_08e74_row4_col11, #T_08e74_row5_col13, #T_08e74_row6_col3, #T_08e74_row7_col5, #T_08e74_row8_col5, #T_08e74_row9_col4, #T_08e74_row9_col5, #T_08e74_row10_col13, #T_08e74_row11_col4, #T_08e74_row11_col5, #T_08e74_row13_col4, #T_08e74_row13_col5 {\n",
       "  background-color: #3d50c3;\n",
       "  color: #f1f1f1;\n",
       "}\n",
       "#T_08e74_row0_col6, #T_08e74_row4_col6 {\n",
       "  background-color: #8db0fe;\n",
       "  color: #000000;\n",
       "}\n",
       "#T_08e74_row0_col7 {\n",
       "  background-color: #5a78e4;\n",
       "  color: #f1f1f1;\n",
       "}\n",
       "#T_08e74_row0_col8, #T_08e74_row11_col8 {\n",
       "  background-color: #536edd;\n",
       "  color: #f1f1f1;\n",
       "}\n",
       "#T_08e74_row0_col9, #T_08e74_row4_col9, #T_08e74_row11_col12, #T_08e74_row13_col7 {\n",
       "  background-color: #5b7ae5;\n",
       "  color: #f1f1f1;\n",
       "}\n",
       "#T_08e74_row0_col10, #T_08e74_row4_col3, #T_08e74_row5_col3 {\n",
       "  background-color: #465ecf;\n",
       "  color: #f1f1f1;\n",
       "}\n",
       "#T_08e74_row0_col11 {\n",
       "  background-color: #f7b093;\n",
       "  color: #000000;\n",
       "}\n",
       "#T_08e74_row0_col12, #T_08e74_row10_col9, #T_08e74_row11_col9 {\n",
       "  background-color: #6282ea;\n",
       "  color: #f1f1f1;\n",
       "}\n",
       "#T_08e74_row0_col13, #T_08e74_row4_col1, #T_08e74_row6_col0, #T_08e74_row6_col13, #T_08e74_row7_col0, #T_08e74_row7_col4, #T_08e74_row7_col10, #T_08e74_row7_col11, #T_08e74_row8_col4, #T_08e74_row11_col3, #T_08e74_row11_col13 {\n",
       "  background-color: #3e51c5;\n",
       "  color: #f1f1f1;\n",
       "}\n",
       "#T_08e74_row1_col2, #T_08e74_row11_col2 {\n",
       "  background-color: #96b7ff;\n",
       "  color: #000000;\n",
       "}\n",
       "#T_08e74_row1_col3 {\n",
       "  background-color: #4b64d5;\n",
       "  color: #f1f1f1;\n",
       "}\n",
       "#T_08e74_row1_col4, #T_08e74_row2_col3, #T_08e74_row2_col6, #T_08e74_row3_col11, #T_08e74_row4_col5, #T_08e74_row6_col1, #T_08e74_row6_col2, #T_08e74_row6_col4, #T_08e74_row7_col1, #T_08e74_row7_col9, #T_08e74_row8_col1, #T_08e74_row8_col10, #T_08e74_row8_col12, #T_08e74_row8_col13, #T_08e74_row9_col3, #T_08e74_row9_col7, #T_08e74_row9_col8, #T_08e74_row10_col0, #T_08e74_row12_col4, #T_08e74_row12_col13 {\n",
       "  background-color: #3b4cc0;\n",
       "  color: #f1f1f1;\n",
       "}\n",
       "#T_08e74_row1_col5, #T_08e74_row2_col11, #T_08e74_row8_col0, #T_08e74_row10_col1, #T_08e74_row10_col3, #T_08e74_row12_col5, #T_08e74_row12_col8 {\n",
       "  background-color: #455cce;\n",
       "  color: #f1f1f1;\n",
       "}\n",
       "#T_08e74_row1_col6, #T_08e74_row3_col2 {\n",
       "  background-color: #89acfd;\n",
       "  color: #000000;\n",
       "}\n",
       "#T_08e74_row1_col7, #T_08e74_row1_col11, #T_08e74_row12_col11 {\n",
       "  background-color: #5572df;\n",
       "  color: #f1f1f1;\n",
       "}\n",
       "#T_08e74_row1_col8, #T_08e74_row2_col1, #T_08e74_row8_col9 {\n",
       "  background-color: #485fd1;\n",
       "  color: #f1f1f1;\n",
       "}\n",
       "#T_08e74_row1_col9 {\n",
       "  background-color: #6a8bef;\n",
       "  color: #f1f1f1;\n",
       "}\n",
       "#T_08e74_row1_col10, #T_08e74_row2_col7, #T_08e74_row3_col10, #T_08e74_row5_col10 {\n",
       "  background-color: #506bda;\n",
       "  color: #f1f1f1;\n",
       "}\n",
       "#T_08e74_row1_col12, #T_08e74_row12_col1 {\n",
       "  background-color: #c12b30;\n",
       "  color: #f1f1f1;\n",
       "}\n",
       "#T_08e74_row1_col13, #T_08e74_row2_col5, #T_08e74_row5_col11, #T_08e74_row6_col11, #T_08e74_row6_col12, #T_08e74_row9_col13, #T_08e74_row10_col11, #T_08e74_row13_col11 {\n",
       "  background-color: #3f53c6;\n",
       "  color: #f1f1f1;\n",
       "}\n",
       "#T_08e74_row2_col0, #T_08e74_row3_col13, #T_08e74_row4_col13, #T_08e74_row5_col4, #T_08e74_row7_col12, #T_08e74_row7_col13, #T_08e74_row10_col4, #T_08e74_row10_col8 {\n",
       "  background-color: #3c4ec2;\n",
       "  color: #f1f1f1;\n",
       "}\n",
       "#T_08e74_row2_col8, #T_08e74_row3_col7 {\n",
       "  background-color: #5e7de7;\n",
       "  color: #f1f1f1;\n",
       "}\n",
       "#T_08e74_row2_col9 {\n",
       "  background-color: #7295f4;\n",
       "  color: #f1f1f1;\n",
       "}\n",
       "#T_08e74_row2_col10 {\n",
       "  background-color: #688aef;\n",
       "  color: #f1f1f1;\n",
       "}\n",
       "#T_08e74_row2_col12, #T_08e74_row3_col4, #T_08e74_row5_col0, #T_08e74_row8_col11, #T_08e74_row13_col0, #T_08e74_row13_col3, #T_08e74_row13_col12 {\n",
       "  background-color: #4257c9;\n",
       "  color: #f1f1f1;\n",
       "}\n",
       "#T_08e74_row3_col0, #T_08e74_row6_col8 {\n",
       "  background-color: #4358cb;\n",
       "  color: #f1f1f1;\n",
       "}\n",
       "#T_08e74_row3_col1, #T_08e74_row4_col10, #T_08e74_row5_col1 {\n",
       "  background-color: #4a63d3;\n",
       "  color: #f1f1f1;\n",
       "}\n",
       "#T_08e74_row3_col5, #T_08e74_row4_col0, #T_08e74_row4_col12, #T_08e74_row6_col5, #T_08e74_row9_col0, #T_08e74_row10_col5 {\n",
       "  background-color: #4055c8;\n",
       "  color: #f1f1f1;\n",
       "}\n",
       "#T_08e74_row3_col6, #T_08e74_row12_col6 {\n",
       "  background-color: #8badfd;\n",
       "  color: #000000;\n",
       "}\n",
       "#T_08e74_row3_col8, #T_08e74_row6_col7, #T_08e74_row9_col10 {\n",
       "  background-color: #516ddb;\n",
       "  color: #f1f1f1;\n",
       "}\n",
       "#T_08e74_row3_col9, #T_08e74_row12_col7 {\n",
       "  background-color: #5470de;\n",
       "  color: #f1f1f1;\n",
       "}\n",
       "#T_08e74_row3_col12, #T_08e74_row4_col8, #T_08e74_row5_col8, #T_08e74_row6_col10, #T_08e74_row9_col1 {\n",
       "  background-color: #4f69d9;\n",
       "  color: #f1f1f1;\n",
       "}\n",
       "#T_08e74_row4_col2, #T_08e74_row12_col2 {\n",
       "  background-color: #8fb1fe;\n",
       "  color: #000000;\n",
       "}\n",
       "#T_08e74_row4_col7, #T_08e74_row5_col7, #T_08e74_row5_col9, #T_08e74_row11_col7 {\n",
       "  background-color: #5d7ce6;\n",
       "  color: #f1f1f1;\n",
       "}\n",
       "#T_08e74_row5_col2, #T_08e74_row10_col6 {\n",
       "  background-color: #92b4fe;\n",
       "  color: #000000;\n",
       "}\n",
       "#T_08e74_row5_col6 {\n",
       "  background-color: #93b5fe;\n",
       "  color: #000000;\n",
       "}\n",
       "#T_08e74_row5_col12 {\n",
       "  background-color: #4c66d6;\n",
       "  color: #f1f1f1;\n",
       "}\n",
       "#T_08e74_row6_col9 {\n",
       "  background-color: #81a4fb;\n",
       "  color: #f1f1f1;\n",
       "}\n",
       "#T_08e74_row7_col2, #T_08e74_row7_col6, #T_08e74_row8_col6 {\n",
       "  background-color: #85a8fc;\n",
       "  color: #f1f1f1;\n",
       "}\n",
       "#T_08e74_row7_col8 {\n",
       "  background-color: #dedcdb;\n",
       "  color: #000000;\n",
       "}\n",
       "#T_08e74_row8_col2 {\n",
       "  background-color: #9dbdff;\n",
       "  color: #000000;\n",
       "}\n",
       "#T_08e74_row8_col7 {\n",
       "  background-color: #e4d9d2;\n",
       "  color: #000000;\n",
       "}\n",
       "#T_08e74_row9_col2 {\n",
       "  background-color: #a2c1ff;\n",
       "  color: #000000;\n",
       "}\n",
       "#T_08e74_row9_col6 {\n",
       "  background-color: #aec9fc;\n",
       "  color: #000000;\n",
       "}\n",
       "#T_08e74_row9_col12 {\n",
       "  background-color: #7da0f9;\n",
       "  color: #f1f1f1;\n",
       "}\n",
       "#T_08e74_row10_col2 {\n",
       "  background-color: #a7c5fe;\n",
       "  color: #000000;\n",
       "}\n",
       "#T_08e74_row10_col7, #T_08e74_row11_col10, #T_08e74_row12_col3, #T_08e74_row13_col8, #T_08e74_row13_col10 {\n",
       "  background-color: #4e68d8;\n",
       "  color: #f1f1f1;\n",
       "}\n",
       "#T_08e74_row10_col12 {\n",
       "  background-color: #6485ec;\n",
       "  color: #f1f1f1;\n",
       "}\n",
       "#T_08e74_row11_col0 {\n",
       "  background-color: #f7af91;\n",
       "  color: #000000;\n",
       "}\n",
       "#T_08e74_row11_col1 {\n",
       "  background-color: #5875e1;\n",
       "  color: #f1f1f1;\n",
       "}\n",
       "#T_08e74_row11_col6, #T_08e74_row13_col2, #T_08e74_row13_col6 {\n",
       "  background-color: #90b2fe;\n",
       "  color: #000000;\n",
       "}\n",
       "#T_08e74_row12_col9 {\n",
       "  background-color: #94b6ff;\n",
       "  color: #000000;\n",
       "}\n",
       "#T_08e74_row12_col10 {\n",
       "  background-color: #6e90f2;\n",
       "  color: #f1f1f1;\n",
       "}\n",
       "</style>\n",
       "<table id=\"T_08e74\">\n",
       "  <thead>\n",
       "    <tr>\n",
       "      <th class=\"blank level0\" >&nbsp;</th>\n",
       "      <th id=\"T_08e74_level0_col0\" class=\"col_heading level0 col0\" >CRSDepTime</th>\n",
       "      <th id=\"T_08e74_level0_col1\" class=\"col_heading level0 col1\" >DepDelay</th>\n",
       "      <th id=\"T_08e74_level0_col2\" class=\"col_heading level0 col2\" >CRSElapsedTime</th>\n",
       "      <th id=\"T_08e74_level0_col3\" class=\"col_heading level0 col3\" >Month</th>\n",
       "      <th id=\"T_08e74_level0_col4\" class=\"col_heading level0 col4\" >DayofMonth</th>\n",
       "      <th id=\"T_08e74_level0_col5\" class=\"col_heading level0 col5\" >DayOfWeek</th>\n",
       "      <th id=\"T_08e74_level0_col6\" class=\"col_heading level0 col6\" >Flight_Number_Operating_Airline</th>\n",
       "      <th id=\"T_08e74_level0_col7\" class=\"col_heading level0 col7\" >OriginWac</th>\n",
       "      <th id=\"T_08e74_level0_col8\" class=\"col_heading level0 col8\" >DestWac</th>\n",
       "      <th id=\"T_08e74_level0_col9\" class=\"col_heading level0 col9\" >TaxiOut</th>\n",
       "      <th id=\"T_08e74_level0_col10\" class=\"col_heading level0 col10\" >TaxiIn</th>\n",
       "      <th id=\"T_08e74_level0_col11\" class=\"col_heading level0 col11\" >CRSArrTime</th>\n",
       "      <th id=\"T_08e74_level0_col12\" class=\"col_heading level0 col12\" >ArrDelay</th>\n",
       "      <th id=\"T_08e74_level0_col13\" class=\"col_heading level0 col13\" >DivAirportLandings</th>\n",
       "    </tr>\n",
       "  </thead>\n",
       "  <tbody>\n",
       "    <tr>\n",
       "      <th id=\"T_08e74_level0_row0\" class=\"row_heading level0 row0\" >CRSDepTime</th>\n",
       "      <td id=\"T_08e74_row0_col0\" class=\"data row0 col0\" >1.000000</td>\n",
       "      <td id=\"T_08e74_row0_col1\" class=\"data row0 col1\" >0.098289</td>\n",
       "      <td id=\"T_08e74_row0_col2\" class=\"data row0 col2\" >-0.015146</td>\n",
       "      <td id=\"T_08e74_row0_col3\" class=\"data row0 col3\" >0.006614</td>\n",
       "      <td id=\"T_08e74_row0_col4\" class=\"data row0 col4\" >0.000219</td>\n",
       "      <td id=\"T_08e74_row0_col5\" class=\"data row0 col5\" >0.003765</td>\n",
       "      <td id=\"T_08e74_row0_col6\" class=\"data row0 col6\" >-0.008339</td>\n",
       "      <td id=\"T_08e74_row0_col7\" class=\"data row0 col7\" >-0.007461</td>\n",
       "      <td id=\"T_08e74_row0_col8\" class=\"data row0 col8\" >0.016055</td>\n",
       "      <td id=\"T_08e74_row0_col9\" class=\"data row0 col9\" >-0.001663</td>\n",
       "      <td id=\"T_08e74_row0_col10\" class=\"data row0 col10\" >-0.021670</td>\n",
       "      <td id=\"T_08e74_row0_col11\" class=\"data row0 col11\" >0.686880</td>\n",
       "      <td id=\"T_08e74_row0_col12\" class=\"data row0 col12\" >0.098499</td>\n",
       "      <td id=\"T_08e74_row0_col13\" class=\"data row0 col13\" >0.005327</td>\n",
       "    </tr>\n",
       "    <tr>\n",
       "      <th id=\"T_08e74_level0_row1\" class=\"row_heading level0 row1\" >DepDelay</th>\n",
       "      <td id=\"T_08e74_row1_col0\" class=\"data row1 col0\" >0.098289</td>\n",
       "      <td id=\"T_08e74_row1_col1\" class=\"data row1 col1\" >1.000000</td>\n",
       "      <td id=\"T_08e74_row1_col2\" class=\"data row1 col2\" >0.023484</td>\n",
       "      <td id=\"T_08e74_row1_col3\" class=\"data row1 col3\" >0.029270</td>\n",
       "      <td id=\"T_08e74_row1_col4\" class=\"data row1 col4\" >-0.009968</td>\n",
       "      <td id=\"T_08e74_row1_col5\" class=\"data row1 col5\" >0.029806</td>\n",
       "      <td id=\"T_08e74_row1_col6\" class=\"data row1 col6\" >-0.022280</td>\n",
       "      <td id=\"T_08e74_row1_col7\" class=\"data row1 col7\" >-0.023867</td>\n",
       "      <td id=\"T_08e74_row1_col8\" class=\"data row1 col8\" >-0.022289</td>\n",
       "      <td id=\"T_08e74_row1_col9\" class=\"data row1 col9\" >0.045916</td>\n",
       "      <td id=\"T_08e74_row1_col10\" class=\"data row1 col10\" >0.013126</td>\n",
       "      <td id=\"T_08e74_row1_col11\" class=\"data row1 col11\" >0.074825</td>\n",
       "      <td id=\"T_08e74_row1_col12\" class=\"data row1 col12\" >0.963605</td>\n",
       "      <td id=\"T_08e74_row1_col13\" class=\"data row1 col13\" >0.011277</td>\n",
       "    </tr>\n",
       "    <tr>\n",
       "      <th id=\"T_08e74_level0_row2\" class=\"row_heading level0 row2\" >CRSElapsedTime</th>\n",
       "      <td id=\"T_08e74_row2_col0\" class=\"data row2 col0\" >-0.015146</td>\n",
       "      <td id=\"T_08e74_row2_col1\" class=\"data row2 col1\" >0.023484</td>\n",
       "      <td id=\"T_08e74_row2_col2\" class=\"data row2 col2\" >1.000000</td>\n",
       "      <td id=\"T_08e74_row2_col3\" class=\"data row2 col3\" >-0.025815</td>\n",
       "      <td id=\"T_08e74_row2_col4\" class=\"data row2 col4\" >-0.003160</td>\n",
       "      <td id=\"T_08e74_row2_col5\" class=\"data row2 col5\" >0.009362</td>\n",
       "      <td id=\"T_08e74_row2_col6\" class=\"data row2 col6\" >-0.346821</td>\n",
       "      <td id=\"T_08e74_row2_col7\" class=\"data row2 col7\" >-0.039525</td>\n",
       "      <td id=\"T_08e74_row2_col8\" class=\"data row2 col8\" >0.051887</td>\n",
       "      <td id=\"T_08e74_row2_col9\" class=\"data row2 col9\" >0.071661</td>\n",
       "      <td id=\"T_08e74_row2_col10\" class=\"data row2 col10\" >0.092760</td>\n",
       "      <td id=\"T_08e74_row2_col11\" class=\"data row2 col11\" >0.022915</td>\n",
       "      <td id=\"T_08e74_row2_col12\" class=\"data row2 col12\" >-0.003978</td>\n",
       "      <td id=\"T_08e74_row2_col13\" class=\"data row2 col13\" >0.001361</td>\n",
       "    </tr>\n",
       "    <tr>\n",
       "      <th id=\"T_08e74_level0_row3\" class=\"row_heading level0 row3\" >Month</th>\n",
       "      <td id=\"T_08e74_row3_col0\" class=\"data row3 col0\" >0.006614</td>\n",
       "      <td id=\"T_08e74_row3_col1\" class=\"data row3 col1\" >0.029270</td>\n",
       "      <td id=\"T_08e74_row3_col2\" class=\"data row3 col2\" >-0.025815</td>\n",
       "      <td id=\"T_08e74_row3_col3\" class=\"data row3 col3\" >1.000000</td>\n",
       "      <td id=\"T_08e74_row3_col4\" class=\"data row3 col4\" >0.015422</td>\n",
       "      <td id=\"T_08e74_row3_col5\" class=\"data row3 col5\" >0.013086</td>\n",
       "      <td id=\"T_08e74_row3_col6\" class=\"data row3 col6\" >-0.016167</td>\n",
       "      <td id=\"T_08e74_row3_col7\" class=\"data row3 col7\" >0.008400</td>\n",
       "      <td id=\"T_08e74_row3_col8\" class=\"data row3 col8\" >0.008428</td>\n",
       "      <td id=\"T_08e74_row3_col9\" class=\"data row3 col9\" >-0.027170</td>\n",
       "      <td id=\"T_08e74_row3_col10\" class=\"data row3 col10\" >0.012913</td>\n",
       "      <td id=\"T_08e74_row3_col11\" class=\"data row3 col11\" >-0.012851</td>\n",
       "      <td id=\"T_08e74_row3_col12\" class=\"data row3 col12\" >0.037518</td>\n",
       "      <td id=\"T_08e74_row3_col13\" class=\"data row3 col13\" >-0.000186</td>\n",
       "    </tr>\n",
       "    <tr>\n",
       "      <th id=\"T_08e74_level0_row4\" class=\"row_heading level0 row4\" >DayofMonth</th>\n",
       "      <td id=\"T_08e74_row4_col0\" class=\"data row4 col0\" >0.000219</td>\n",
       "      <td id=\"T_08e74_row4_col1\" class=\"data row4 col1\" >-0.009968</td>\n",
       "      <td id=\"T_08e74_row4_col2\" class=\"data row4 col2\" >-0.003160</td>\n",
       "      <td id=\"T_08e74_row4_col3\" class=\"data row4 col3\" >0.015422</td>\n",
       "      <td id=\"T_08e74_row4_col4\" class=\"data row4 col4\" >1.000000</td>\n",
       "      <td id=\"T_08e74_row4_col5\" class=\"data row4 col5\" >-0.007139</td>\n",
       "      <td id=\"T_08e74_row4_col6\" class=\"data row4 col6\" >-0.007848</td>\n",
       "      <td id=\"T_08e74_row4_col7\" class=\"data row4 col7\" >0.001567</td>\n",
       "      <td id=\"T_08e74_row4_col8\" class=\"data row4 col8\" >0.001576</td>\n",
       "      <td id=\"T_08e74_row4_col9\" class=\"data row4 col9\" >-0.002276</td>\n",
       "      <td id=\"T_08e74_row4_col10\" class=\"data row4 col10\" >-0.006451</td>\n",
       "      <td id=\"T_08e74_row4_col11\" class=\"data row4 col11\" >-0.001553</td>\n",
       "      <td id=\"T_08e74_row4_col12\" class=\"data row4 col12\" >-0.011145</td>\n",
       "      <td id=\"T_08e74_row4_col13\" class=\"data row4 col13\" >-0.000900</td>\n",
       "    </tr>\n",
       "    <tr>\n",
       "      <th id=\"T_08e74_level0_row5\" class=\"row_heading level0 row5\" >DayOfWeek</th>\n",
       "      <td id=\"T_08e74_row5_col0\" class=\"data row5 col0\" >0.003765</td>\n",
       "      <td id=\"T_08e74_row5_col1\" class=\"data row5 col1\" >0.029806</td>\n",
       "      <td id=\"T_08e74_row5_col2\" class=\"data row5 col2\" >0.009362</td>\n",
       "      <td id=\"T_08e74_row5_col3\" class=\"data row5 col3\" >0.013086</td>\n",
       "      <td id=\"T_08e74_row5_col4\" class=\"data row5 col4\" >-0.007139</td>\n",
       "      <td id=\"T_08e74_row5_col5\" class=\"data row5 col5\" >1.000000</td>\n",
       "      <td id=\"T_08e74_row5_col6\" class=\"data row5 col6\" >0.013868</td>\n",
       "      <td id=\"T_08e74_row5_col7\" class=\"data row5 col7\" >0.001699</td>\n",
       "      <td id=\"T_08e74_row5_col8\" class=\"data row5 col8\" >0.001545</td>\n",
       "      <td id=\"T_08e74_row5_col9\" class=\"data row5 col9\" >0.004514</td>\n",
       "      <td id=\"T_08e74_row5_col10\" class=\"data row5 col10\" >0.012924</td>\n",
       "      <td id=\"T_08e74_row5_col11\" class=\"data row5 col11\" >0.003233</td>\n",
       "      <td id=\"T_08e74_row5_col12\" class=\"data row5 col12\" >0.031257</td>\n",
       "      <td id=\"T_08e74_row5_col13\" class=\"data row5 col13\" >0.001409</td>\n",
       "    </tr>\n",
       "    <tr>\n",
       "      <th id=\"T_08e74_level0_row6\" class=\"row_heading level0 row6\" >Flight_Number_Operating_Airline</th>\n",
       "      <td id=\"T_08e74_row6_col0\" class=\"data row6 col0\" >-0.008339</td>\n",
       "      <td id=\"T_08e74_row6_col1\" class=\"data row6 col1\" >-0.022280</td>\n",
       "      <td id=\"T_08e74_row6_col2\" class=\"data row6 col2\" >-0.346821</td>\n",
       "      <td id=\"T_08e74_row6_col3\" class=\"data row6 col3\" >-0.016167</td>\n",
       "      <td id=\"T_08e74_row6_col4\" class=\"data row6 col4\" >-0.007848</td>\n",
       "      <td id=\"T_08e74_row6_col5\" class=\"data row6 col5\" >0.013868</td>\n",
       "      <td id=\"T_08e74_row6_col6\" class=\"data row6 col6\" >1.000000</td>\n",
       "      <td id=\"T_08e74_row6_col7\" class=\"data row6 col7\" >-0.037787</td>\n",
       "      <td id=\"T_08e74_row6_col8\" class=\"data row6 col8\" >-0.040267</td>\n",
       "      <td id=\"T_08e74_row6_col9\" class=\"data row6 col9\" >0.121235</td>\n",
       "      <td id=\"T_08e74_row6_col10\" class=\"data row6 col10\" >0.007883</td>\n",
       "      <td id=\"T_08e74_row6_col11\" class=\"data row6 col11\" >0.003416</td>\n",
       "      <td id=\"T_08e74_row6_col12\" class=\"data row6 col12\" >-0.015645</td>\n",
       "      <td id=\"T_08e74_row6_col13\" class=\"data row6 col13\" >0.005654</td>\n",
       "    </tr>\n",
       "    <tr>\n",
       "      <th id=\"T_08e74_level0_row7\" class=\"row_heading level0 row7\" >OriginWac</th>\n",
       "      <td id=\"T_08e74_row7_col0\" class=\"data row7 col0\" >-0.007461</td>\n",
       "      <td id=\"T_08e74_row7_col1\" class=\"data row7 col1\" >-0.023867</td>\n",
       "      <td id=\"T_08e74_row7_col2\" class=\"data row7 col2\" >-0.039525</td>\n",
       "      <td id=\"T_08e74_row7_col3\" class=\"data row7 col3\" >0.008400</td>\n",
       "      <td id=\"T_08e74_row7_col4\" class=\"data row7 col4\" >0.001567</td>\n",
       "      <td id=\"T_08e74_row7_col5\" class=\"data row7 col5\" >0.001699</td>\n",
       "      <td id=\"T_08e74_row7_col6\" class=\"data row7 col6\" >-0.037787</td>\n",
       "      <td id=\"T_08e74_row7_col7\" class=\"data row7 col7\" >1.000000</td>\n",
       "      <td id=\"T_08e74_row7_col8\" class=\"data row7 col8\" >0.470608</td>\n",
       "      <td id=\"T_08e74_row7_col9\" class=\"data row7 col9\" >-0.122523</td>\n",
       "      <td id=\"T_08e74_row7_col10\" class=\"data row7 col10\" >-0.049639</td>\n",
       "      <td id=\"T_08e74_row7_col11\" class=\"data row7 col11\" >0.000322</td>\n",
       "      <td id=\"T_08e74_row7_col12\" class=\"data row7 col12\" >-0.027017</td>\n",
       "      <td id=\"T_08e74_row7_col13\" class=\"data row7 col13\" >-0.001418</td>\n",
       "    </tr>\n",
       "    <tr>\n",
       "      <th id=\"T_08e74_level0_row8\" class=\"row_heading level0 row8\" >DestWac</th>\n",
       "      <td id=\"T_08e74_row8_col0\" class=\"data row8 col0\" >0.016055</td>\n",
       "      <td id=\"T_08e74_row8_col1\" class=\"data row8 col1\" >-0.022289</td>\n",
       "      <td id=\"T_08e74_row8_col2\" class=\"data row8 col2\" >0.051887</td>\n",
       "      <td id=\"T_08e74_row8_col3\" class=\"data row8 col3\" >0.008428</td>\n",
       "      <td id=\"T_08e74_row8_col4\" class=\"data row8 col4\" >0.001576</td>\n",
       "      <td id=\"T_08e74_row8_col5\" class=\"data row8 col5\" >0.001545</td>\n",
       "      <td id=\"T_08e74_row8_col6\" class=\"data row8 col6\" >-0.040267</td>\n",
       "      <td id=\"T_08e74_row8_col7\" class=\"data row8 col7\" >0.470608</td>\n",
       "      <td id=\"T_08e74_row8_col8\" class=\"data row8 col8\" >1.000000</td>\n",
       "      <td id=\"T_08e74_row8_col9\" class=\"data row8 col9\" >-0.071072</td>\n",
       "      <td id=\"T_08e74_row8_col10\" class=\"data row8 col10\" >-0.064292</td>\n",
       "      <td id=\"T_08e74_row8_col11\" class=\"data row8 col11\" >0.014536</td>\n",
       "      <td id=\"T_08e74_row8_col12\" class=\"data row8 col12\" >-0.032150</td>\n",
       "      <td id=\"T_08e74_row8_col13\" class=\"data row8 col13\" >-0.003612</td>\n",
       "    </tr>\n",
       "    <tr>\n",
       "      <th id=\"T_08e74_level0_row9\" class=\"row_heading level0 row9\" >TaxiOut</th>\n",
       "      <td id=\"T_08e74_row9_col0\" class=\"data row9 col0\" >-0.001663</td>\n",
       "      <td id=\"T_08e74_row9_col1\" class=\"data row9 col1\" >0.045916</td>\n",
       "      <td id=\"T_08e74_row9_col2\" class=\"data row9 col2\" >0.071661</td>\n",
       "      <td id=\"T_08e74_row9_col3\" class=\"data row9 col3\" >-0.027170</td>\n",
       "      <td id=\"T_08e74_row9_col4\" class=\"data row9 col4\" >-0.002276</td>\n",
       "      <td id=\"T_08e74_row9_col5\" class=\"data row9 col5\" >0.004514</td>\n",
       "      <td id=\"T_08e74_row9_col6\" class=\"data row9 col6\" >0.121235</td>\n",
       "      <td id=\"T_08e74_row9_col7\" class=\"data row9 col7\" >-0.122523</td>\n",
       "      <td id=\"T_08e74_row9_col8\" class=\"data row9 col8\" >-0.071072</td>\n",
       "      <td id=\"T_08e74_row9_col9\" class=\"data row9 col9\" >1.000000</td>\n",
       "      <td id=\"T_08e74_row9_col10\" class=\"data row9 col10\" >0.017996</td>\n",
       "      <td id=\"T_08e74_row9_col11\" class=\"data row9 col11\" >0.020569</td>\n",
       "      <td id=\"T_08e74_row9_col12\" class=\"data row9 col12\" >0.181436</td>\n",
       "      <td id=\"T_08e74_row9_col13\" class=\"data row9 col13\" >0.011832</td>\n",
       "    </tr>\n",
       "    <tr>\n",
       "      <th id=\"T_08e74_level0_row10\" class=\"row_heading level0 row10\" >TaxiIn</th>\n",
       "      <td id=\"T_08e74_row10_col0\" class=\"data row10 col0\" >-0.021670</td>\n",
       "      <td id=\"T_08e74_row10_col1\" class=\"data row10 col1\" >0.013126</td>\n",
       "      <td id=\"T_08e74_row10_col2\" class=\"data row10 col2\" >0.092760</td>\n",
       "      <td id=\"T_08e74_row10_col3\" class=\"data row10 col3\" >0.012913</td>\n",
       "      <td id=\"T_08e74_row10_col4\" class=\"data row10 col4\" >-0.006451</td>\n",
       "      <td id=\"T_08e74_row10_col5\" class=\"data row10 col5\" >0.012924</td>\n",
       "      <td id=\"T_08e74_row10_col6\" class=\"data row10 col6\" >0.007883</td>\n",
       "      <td id=\"T_08e74_row10_col7\" class=\"data row10 col7\" >-0.049639</td>\n",
       "      <td id=\"T_08e74_row10_col8\" class=\"data row10 col8\" >-0.064292</td>\n",
       "      <td id=\"T_08e74_row10_col9\" class=\"data row10 col9\" >0.017996</td>\n",
       "      <td id=\"T_08e74_row10_col10\" class=\"data row10 col10\" >1.000000</td>\n",
       "      <td id=\"T_08e74_row10_col11\" class=\"data row10 col11\" >0.005531</td>\n",
       "      <td id=\"T_08e74_row10_col12\" class=\"data row10 col12\" >0.108307</td>\n",
       "      <td id=\"T_08e74_row10_col13\" class=\"data row10 col13\" >0.004452</td>\n",
       "    </tr>\n",
       "    <tr>\n",
       "      <th id=\"T_08e74_level0_row11\" class=\"row_heading level0 row11\" >CRSArrTime</th>\n",
       "      <td id=\"T_08e74_row11_col0\" class=\"data row11 col0\" >0.686880</td>\n",
       "      <td id=\"T_08e74_row11_col1\" class=\"data row11 col1\" >0.074825</td>\n",
       "      <td id=\"T_08e74_row11_col2\" class=\"data row11 col2\" >0.022915</td>\n",
       "      <td id=\"T_08e74_row11_col3\" class=\"data row11 col3\" >-0.012851</td>\n",
       "      <td id=\"T_08e74_row11_col4\" class=\"data row11 col4\" >-0.001553</td>\n",
       "      <td id=\"T_08e74_row11_col5\" class=\"data row11 col5\" >0.003233</td>\n",
       "      <td id=\"T_08e74_row11_col6\" class=\"data row11 col6\" >0.003416</td>\n",
       "      <td id=\"T_08e74_row11_col7\" class=\"data row11 col7\" >0.000322</td>\n",
       "      <td id=\"T_08e74_row11_col8\" class=\"data row11 col8\" >0.014536</td>\n",
       "      <td id=\"T_08e74_row11_col9\" class=\"data row11 col9\" >0.020569</td>\n",
       "      <td id=\"T_08e74_row11_col10\" class=\"data row11 col10\" >0.005531</td>\n",
       "      <td id=\"T_08e74_row11_col11\" class=\"data row11 col11\" >1.000000</td>\n",
       "      <td id=\"T_08e74_row11_col12\" class=\"data row11 col12\" >0.078075</td>\n",
       "      <td id=\"T_08e74_row11_col13\" class=\"data row11 col13\" >0.006741</td>\n",
       "    </tr>\n",
       "    <tr>\n",
       "      <th id=\"T_08e74_level0_row12\" class=\"row_heading level0 row12\" >ArrDelay</th>\n",
       "      <td id=\"T_08e74_row12_col0\" class=\"data row12 col0\" >0.098499</td>\n",
       "      <td id=\"T_08e74_row12_col1\" class=\"data row12 col1\" >0.963605</td>\n",
       "      <td id=\"T_08e74_row12_col2\" class=\"data row12 col2\" >-0.003978</td>\n",
       "      <td id=\"T_08e74_row12_col3\" class=\"data row12 col3\" >0.037518</td>\n",
       "      <td id=\"T_08e74_row12_col4\" class=\"data row12 col4\" >-0.011145</td>\n",
       "      <td id=\"T_08e74_row12_col5\" class=\"data row12 col5\" >0.031257</td>\n",
       "      <td id=\"T_08e74_row12_col6\" class=\"data row12 col6\" >-0.015645</td>\n",
       "      <td id=\"T_08e74_row12_col7\" class=\"data row12 col7\" >-0.027017</td>\n",
       "      <td id=\"T_08e74_row12_col8\" class=\"data row12 col8\" >-0.032150</td>\n",
       "      <td id=\"T_08e74_row12_col9\" class=\"data row12 col9\" >0.181436</td>\n",
       "      <td id=\"T_08e74_row12_col10\" class=\"data row12 col10\" >0.108307</td>\n",
       "      <td id=\"T_08e74_row12_col11\" class=\"data row12 col11\" >0.078075</td>\n",
       "      <td id=\"T_08e74_row12_col12\" class=\"data row12 col12\" >1.000000</td>\n",
       "      <td id=\"T_08e74_row12_col13\" class=\"data row12 col13\" >-0.007122</td>\n",
       "    </tr>\n",
       "    <tr>\n",
       "      <th id=\"T_08e74_level0_row13\" class=\"row_heading level0 row13\" >DivAirportLandings</th>\n",
       "      <td id=\"T_08e74_row13_col0\" class=\"data row13 col0\" >0.005327</td>\n",
       "      <td id=\"T_08e74_row13_col1\" class=\"data row13 col1\" >0.011277</td>\n",
       "      <td id=\"T_08e74_row13_col2\" class=\"data row13 col2\" >0.001361</td>\n",
       "      <td id=\"T_08e74_row13_col3\" class=\"data row13 col3\" >-0.000186</td>\n",
       "      <td id=\"T_08e74_row13_col4\" class=\"data row13 col4\" >-0.000900</td>\n",
       "      <td id=\"T_08e74_row13_col5\" class=\"data row13 col5\" >0.001409</td>\n",
       "      <td id=\"T_08e74_row13_col6\" class=\"data row13 col6\" >0.005654</td>\n",
       "      <td id=\"T_08e74_row13_col7\" class=\"data row13 col7\" >-0.001418</td>\n",
       "      <td id=\"T_08e74_row13_col8\" class=\"data row13 col8\" >-0.003612</td>\n",
       "      <td id=\"T_08e74_row13_col9\" class=\"data row13 col9\" >0.011832</td>\n",
       "      <td id=\"T_08e74_row13_col10\" class=\"data row13 col10\" >0.004452</td>\n",
       "      <td id=\"T_08e74_row13_col11\" class=\"data row13 col11\" >0.006741</td>\n",
       "      <td id=\"T_08e74_row13_col12\" class=\"data row13 col12\" >-0.007122</td>\n",
       "      <td id=\"T_08e74_row13_col13\" class=\"data row13 col13\" >1.000000</td>\n",
       "    </tr>\n",
       "  </tbody>\n",
       "</table>\n"
      ],
      "text/plain": [
       "<pandas.io.formats.style.Styler at 0x19b2dae7b50>"
      ]
     },
     "execution_count": 58,
     "metadata": {},
     "output_type": "execute_result"
    }
   ],
   "source": [
    "corr_mtx.style.background_gradient(cmap='coolwarm')"
   ]
  },
  {
   "cell_type": "code",
   "execution_count": 59,
   "metadata": {},
   "outputs": [
    {
     "data": {
      "image/png": "[encoded data removed]",
      "text/plain": [
       "<Figure size 1900x1500 with 2 Axes>"
      ]
     },
     "metadata": {},
     "output_type": "display_data"
    }
   ],
   "source": [
    "f = plt.figure(figsize=(19, 15))\n",
    "plt.matshow(corr_mtx, fignum=f.number)\n",
    "plt.xticks(range(len(num_fts)), num_fts, fontsize=14, rotation=90)\n",
    "plt.yticks(range(len(num_fts)), num_fts, fontsize=14)\n",
    "cb = plt.colorbar()\n",
    "cb.ax.tick_params(labelsize=14)\n",
    "plt.title('Correlation Matrix', fontsize=16)\n",
    "pass"
   ]
  },
  {
   "cell_type": "markdown",
   "metadata": {},
   "source": [
    "Видно, что признаки в целом не сильно кореллированы, за исключением `DepDelay` и `ArrDelay`. Это довольно логично, т.к. если рейс задержался при отбытии, то, скорее всего, время прибытия тоже будет отличаться от запланированного. Однако, удалив один из них мы потеряем часть информации о рейсе, которую никак не выразить через другие признаки, поэтому данные признаки оставим без изменений. "
   ]
  },
  {
   "cell_type": "markdown",
   "metadata": {},
   "source": [
    "Есть также небольшая корреляция между временем отправления и прибытия и координатами пунктов отправления и назначения. Но эти корреляции незначительны, да и терять информацию об отправлении\\прибытии не хотелось бы, поэтому данные признаки также оставим без изменений."
   ]
  },
  {
   "cell_type": "markdown",
   "metadata": {},
   "source": [
    "### Outliers"
   ]
  },
  {
   "cell_type": "markdown",
   "metadata": {},
   "source": [
    "Построим boxplot графики для определения подозрительных на выбросы объектов. "
   ]
  },
  {
   "cell_type": "code",
   "execution_count": 60,
   "metadata": {},
   "outputs": [
    {
     "data": {
      "image/png": "[encoded data removed]",
      "text/plain": [
       "<Figure size 2000x1000 with 14 Axes>"
      ]
     },
     "metadata": {},
     "output_type": "display_data"
    }
   ],
   "source": [
    "sns.set_palette('coolwarm')\n",
    "fig, axs = plt.subplots(2, len(num_fts)//2, figsize=(20, 10))\n",
    "fig.suptitle(\"Boxplots for numerical features\")\n",
    "for idx, numerical in enumerate(num_fts):\n",
    "    idx_row = idx // 7\n",
    "    idx_col = idx % 7\n",
    "    axs[idx_row, idx_col].title.set_text(numerical)\n",
    "    axs[idx_row, idx_col].set_ylabel(\"Values\")\n",
    "    axs[idx_row, idx_col].get_xaxis().set_visible(False)\n",
    "    axs[idx_row, idx_col].boxplot(prepared_dt[numerical])\n",
    "plt.tight_layout()\n",
    "plt.show()"
   ]
  },
  {
   "cell_type": "code",
   "execution_count": 61,
   "metadata": {},
   "outputs": [
    {
     "data": {
      "image/png": "[encoded data removed]",
      "text/plain": [
       "<Figure size 2000x1000 with 14 Axes>"
      ]
     },
     "metadata": {},
     "output_type": "display_data"
    }
   ],
   "source": [
    "sns.set_palette('coolwarm')\n",
    "fig, axs = plt.subplots(2, len(num_fts)//2, figsize=(20, 10))\n",
    "fig.suptitle(\"Histograms for numerical features\")\n",
    "for idx, numerical in enumerate(num_fts):\n",
    "    idx_row = idx // 7\n",
    "    idx_col = idx % 7\n",
    "    axs[idx_row, idx_col].title.set_text(numerical)\n",
    "    axs[idx_row, idx_col].set_xlabel(\"Values\")\n",
    "    axs[idx_row, idx_col].set_ylabel(\"Count\")\n",
    "    axs[idx_row, idx_col].hist(prepared_dt[numerical])\n",
    "plt.tight_layout()\n",
    "plt.show()"
   ]
  },
  {
   "cell_type": "markdown",
   "metadata": {},
   "source": [
    "Вычислим границы и количество выбросов более точно"
   ]
  },
  {
   "cell_type": "code",
   "execution_count": 62,
   "metadata": {},
   "outputs": [],
   "source": [
    "quantiles = prepared_dt[num_fts].quantile([.25, .75])\n",
    "iqr = quantiles.loc[0.75] - quantiles.loc[0.25]\n",
    "bounds = quantiles.copy()\n",
    "bounds.loc[0.25] = bounds.loc[0.25] - 1.5*iqr\n",
    "bounds.loc[0.75] = bounds.loc[0.75] + 1.5*iqr\n",
    "bounds = bounds.rename({0.25: \"Lower\", 0.75: \"Upper\"})"
   ]
  },
  {
   "cell_type": "code",
   "execution_count": 63,
   "metadata": {},
   "outputs": [
    {
     "data": {
      "text/html": [
       "<div>\n",
       "<style scoped>\n",
       "    .dataframe tbody tr th:only-of-type {\n",
       "        vertical-align: middle;\n",
       "    }\n",
       "\n",
       "    .dataframe tbody tr th {\n",
       "        vertical-align: top;\n",
       "    }\n",
       "\n",
       "    .dataframe thead th {\n",
       "        text-align: right;\n",
       "    }\n",
       "</style>\n",
       "<table border=\"1\" class=\"dataframe\">\n",
       "  <thead>\n",
       "    <tr style=\"text-align: right;\">\n",
       "      <th></th>\n",
       "      <th>Lower</th>\n",
       "      <th>Upper</th>\n",
       "    </tr>\n",
       "  </thead>\n",
       "  <tbody>\n",
       "    <tr>\n",
       "      <th>CRSDepTime</th>\n",
       "      <td>-197.5</td>\n",
       "      <td>1806.5</td>\n",
       "    </tr>\n",
       "    <tr>\n",
       "      <th>DepDelay</th>\n",
       "      <td>-27.5</td>\n",
       "      <td>32.5</td>\n",
       "    </tr>\n",
       "    <tr>\n",
       "      <th>CRSElapsedTime</th>\n",
       "      <td>-34.0</td>\n",
       "      <td>294.0</td>\n",
       "    </tr>\n",
       "    <tr>\n",
       "      <th>Month</th>\n",
       "      <td>-4.0</td>\n",
       "      <td>12.0</td>\n",
       "    </tr>\n",
       "    <tr>\n",
       "      <th>DayofMonth</th>\n",
       "      <td>-14.5</td>\n",
       "      <td>45.5</td>\n",
       "    </tr>\n",
       "    <tr>\n",
       "      <th>DayOfWeek</th>\n",
       "      <td>-4.0</td>\n",
       "      <td>12.0</td>\n",
       "    </tr>\n",
       "    <tr>\n",
       "      <th>Flight_Number_Operating_Airline</th>\n",
       "      <td>-3053.0</td>\n",
       "      <td>8035.0</td>\n",
       "    </tr>\n",
       "    <tr>\n",
       "      <th>OriginWac</th>\n",
       "      <td>-39.0</td>\n",
       "      <td>153.0</td>\n",
       "    </tr>\n",
       "    <tr>\n",
       "      <th>DestWac</th>\n",
       "      <td>-39.0</td>\n",
       "      <td>153.0</td>\n",
       "    </tr>\n",
       "    <tr>\n",
       "      <th>TaxiOut</th>\n",
       "      <td>1.5</td>\n",
       "      <td>29.5</td>\n",
       "    </tr>\n",
       "    <tr>\n",
       "      <th>TaxiIn</th>\n",
       "      <td>-3.5</td>\n",
       "      <td>16.5</td>\n",
       "    </tr>\n",
       "    <tr>\n",
       "      <th>CRSArrTime</th>\n",
       "      <td>-82.5</td>\n",
       "      <td>1905.5</td>\n",
       "    </tr>\n",
       "    <tr>\n",
       "      <th>ArrDelay</th>\n",
       "      <td>-50.0</td>\n",
       "      <td>46.0</td>\n",
       "    </tr>\n",
       "    <tr>\n",
       "      <th>DivAirportLandings</th>\n",
       "      <td>0.0</td>\n",
       "      <td>0.0</td>\n",
       "    </tr>\n",
       "  </tbody>\n",
       "</table>\n",
       "</div>"
      ],
      "text/plain": [
       "                                  Lower   Upper\n",
       "CRSDepTime                       -197.5  1806.5\n",
       "DepDelay                          -27.5    32.5\n",
       "CRSElapsedTime                    -34.0   294.0\n",
       "Month                              -4.0    12.0\n",
       "DayofMonth                        -14.5    45.5\n",
       "DayOfWeek                          -4.0    12.0\n",
       "Flight_Number_Operating_Airline -3053.0  8035.0\n",
       "OriginWac                         -39.0   153.0\n",
       "DestWac                           -39.0   153.0\n",
       "TaxiOut                             1.5    29.5\n",
       "TaxiIn                             -3.5    16.5\n",
       "CRSArrTime                        -82.5  1905.5\n",
       "ArrDelay                          -50.0    46.0\n",
       "DivAirportLandings                  0.0     0.0"
      ]
     },
     "execution_count": 63,
     "metadata": {},
     "output_type": "execute_result"
    }
   ],
   "source": [
    "bounds.T"
   ]
  },
  {
   "cell_type": "code",
   "execution_count": 64,
   "metadata": {},
   "outputs": [],
   "source": [
    "outliers_mask = (prepared_dt[num_fts] < bounds.loc[\"Lower\"]) | (prepared_dt[num_fts] > bounds.loc[\"Upper\"])"
   ]
  },
  {
   "cell_type": "code",
   "execution_count": 65,
   "metadata": {},
   "outputs": [
    {
     "data": {
      "text/html": [
       "<div>\n",
       "<style scoped>\n",
       "    .dataframe tbody tr th:only-of-type {\n",
       "        vertical-align: middle;\n",
       "    }\n",
       "\n",
       "    .dataframe tbody tr th {\n",
       "        vertical-align: top;\n",
       "    }\n",
       "\n",
       "    .dataframe thead th {\n",
       "        text-align: right;\n",
       "    }\n",
       "</style>\n",
       "<table border=\"1\" class=\"dataframe\">\n",
       "  <thead>\n",
       "    <tr style=\"text-align: right;\">\n",
       "      <th></th>\n",
       "      <th>Count</th>\n",
       "      <th>Percentage</th>\n",
       "    </tr>\n",
       "  </thead>\n",
       "  <tbody>\n",
       "    <tr>\n",
       "      <th>CRSDepTime</th>\n",
       "      <td>0</td>\n",
       "      <td>0.000000</td>\n",
       "    </tr>\n",
       "    <tr>\n",
       "      <th>DepDelay</th>\n",
       "      <td>522564</td>\n",
       "      <td>12.813223</td>\n",
       "    </tr>\n",
       "    <tr>\n",
       "      <th>CRSElapsedTime</th>\n",
       "      <td>217491</td>\n",
       "      <td>5.332860</td>\n",
       "    </tr>\n",
       "    <tr>\n",
       "      <th>Month</th>\n",
       "      <td>0</td>\n",
       "      <td>0.000000</td>\n",
       "    </tr>\n",
       "    <tr>\n",
       "      <th>DayofMonth</th>\n",
       "      <td>0</td>\n",
       "      <td>0.000000</td>\n",
       "    </tr>\n",
       "    <tr>\n",
       "      <th>DayOfWeek</th>\n",
       "      <td>0</td>\n",
       "      <td>0.000000</td>\n",
       "    </tr>\n",
       "    <tr>\n",
       "      <th>Flight_Number_Operating_Airline</th>\n",
       "      <td>411</td>\n",
       "      <td>0.010078</td>\n",
       "    </tr>\n",
       "    <tr>\n",
       "      <th>OriginWac</th>\n",
       "      <td>0</td>\n",
       "      <td>0.000000</td>\n",
       "    </tr>\n",
       "    <tr>\n",
       "      <th>DestWac</th>\n",
       "      <td>0</td>\n",
       "      <td>0.000000</td>\n",
       "    </tr>\n",
       "    <tr>\n",
       "      <th>TaxiOut</th>\n",
       "      <td>294394</td>\n",
       "      <td>7.218515</td>\n",
       "    </tr>\n",
       "    <tr>\n",
       "      <th>TaxiIn</th>\n",
       "      <td>259829</td>\n",
       "      <td>6.370984</td>\n",
       "    </tr>\n",
       "    <tr>\n",
       "      <th>CRSArrTime</th>\n",
       "      <td>0</td>\n",
       "      <td>0.000000</td>\n",
       "    </tr>\n",
       "    <tr>\n",
       "      <th>ArrDelay</th>\n",
       "      <td>377729</td>\n",
       "      <td>9.261882</td>\n",
       "    </tr>\n",
       "    <tr>\n",
       "      <th>DivAirportLandings</th>\n",
       "      <td>10738</td>\n",
       "      <td>0.263295</td>\n",
       "    </tr>\n",
       "  </tbody>\n",
       "</table>\n",
       "</div>"
      ],
      "text/plain": [
       "                                  Count  Percentage\n",
       "CRSDepTime                            0    0.000000\n",
       "DepDelay                         522564   12.813223\n",
       "CRSElapsedTime                   217491    5.332860\n",
       "Month                                 0    0.000000\n",
       "DayofMonth                            0    0.000000\n",
       "DayOfWeek                             0    0.000000\n",
       "Flight_Number_Operating_Airline     411    0.010078\n",
       "OriginWac                             0    0.000000\n",
       "DestWac                               0    0.000000\n",
       "TaxiOut                          294394    7.218515\n",
       "TaxiIn                           259829    6.370984\n",
       "CRSArrTime                            0    0.000000\n",
       "ArrDelay                         377729    9.261882\n",
       "DivAirportLandings                10738    0.263295"
      ]
     },
     "execution_count": 65,
     "metadata": {},
     "output_type": "execute_result"
    }
   ],
   "source": [
    "outliers_count = pd.DataFrame(outliers_mask.sum(), columns=[\"Count\"])\n",
    "outliers_count[\"Percentage\"] = outliers_count[\"Count\"] / prepared_dt.shape[0] * 100\n",
    "outliers_count[\"Percentage\"] = outliers_count[\"Percentage\"]\n",
    "outliers_count"
   ]
  },
  {
   "cell_type": "code",
   "execution_count": 66,
   "metadata": {},
   "outputs": [
    {
     "data": {
      "text/html": [
       "<div>\n",
       "<style scoped>\n",
       "    .dataframe tbody tr th:only-of-type {\n",
       "        vertical-align: middle;\n",
       "    }\n",
       "\n",
       "    .dataframe tbody tr th {\n",
       "        vertical-align: top;\n",
       "    }\n",
       "\n",
       "    .dataframe thead th {\n",
       "        text-align: right;\n",
       "    }\n",
       "</style>\n",
       "<table border=\"1\" class=\"dataframe\">\n",
       "  <thead>\n",
       "    <tr style=\"text-align: right;\">\n",
       "      <th></th>\n",
       "      <th>DepDelay</th>\n",
       "      <th>CRSElapsedTime</th>\n",
       "      <th>Flight_Number_Operating_Airline</th>\n",
       "      <th>TaxiOut</th>\n",
       "      <th>TaxiIn</th>\n",
       "      <th>ArrDelay</th>\n",
       "      <th>DivAirportLandings</th>\n",
       "    </tr>\n",
       "  </thead>\n",
       "  <tbody>\n",
       "    <tr>\n",
       "      <th>Lower</th>\n",
       "      <td>-27.500000</td>\n",
       "      <td>-34.00000</td>\n",
       "      <td>-3053.000000</td>\n",
       "      <td>1.500000</td>\n",
       "      <td>-3.500000</td>\n",
       "      <td>-50.000000</td>\n",
       "      <td>0.000000</td>\n",
       "    </tr>\n",
       "    <tr>\n",
       "      <th>Upper</th>\n",
       "      <td>32.500000</td>\n",
       "      <td>294.00000</td>\n",
       "      <td>8035.000000</td>\n",
       "      <td>29.500000</td>\n",
       "      <td>16.500000</td>\n",
       "      <td>46.000000</td>\n",
       "      <td>0.000000</td>\n",
       "    </tr>\n",
       "    <tr>\n",
       "      <th>Count</th>\n",
       "      <td>522564.000000</td>\n",
       "      <td>217491.00000</td>\n",
       "      <td>411.000000</td>\n",
       "      <td>294394.000000</td>\n",
       "      <td>259829.000000</td>\n",
       "      <td>377729.000000</td>\n",
       "      <td>10738.000000</td>\n",
       "    </tr>\n",
       "    <tr>\n",
       "      <th>Percentage</th>\n",
       "      <td>12.813223</td>\n",
       "      <td>5.33286</td>\n",
       "      <td>0.010078</td>\n",
       "      <td>7.218515</td>\n",
       "      <td>6.370984</td>\n",
       "      <td>9.261882</td>\n",
       "      <td>0.263295</td>\n",
       "    </tr>\n",
       "  </tbody>\n",
       "</table>\n",
       "</div>"
      ],
      "text/plain": [
       "                 DepDelay  CRSElapsedTime  Flight_Number_Operating_Airline  \\\n",
       "Lower          -27.500000       -34.00000                     -3053.000000   \n",
       "Upper           32.500000       294.00000                      8035.000000   \n",
       "Count       522564.000000    217491.00000                       411.000000   \n",
       "Percentage      12.813223         5.33286                         0.010078   \n",
       "\n",
       "                  TaxiOut         TaxiIn       ArrDelay  DivAirportLandings  \n",
       "Lower            1.500000      -3.500000     -50.000000            0.000000  \n",
       "Upper           29.500000      16.500000      46.000000            0.000000  \n",
       "Count       294394.000000  259829.000000  377729.000000        10738.000000  \n",
       "Percentage       7.218515       6.370984       9.261882            0.263295  "
      ]
     },
     "execution_count": 66,
     "metadata": {},
     "output_type": "execute_result"
    }
   ],
   "source": [
    "bad_cols = outliers_count[outliers_count[\"Count\"] > 0].index.to_list()\n",
    "pd.concat([bounds[bad_cols], outliers_count.T[bad_cols]])"
   ]
  },
  {
   "cell_type": "markdown",
   "metadata": {},
   "source": [
    "Разберём результаты"
   ]
  },
  {
   "cell_type": "markdown",
   "metadata": {},
   "source": [
    "`Flight_Number_Operating_Airline` - это номер рейса в компании. Нет никаких особых причин удалять слишком большие значения данного признака, однако количество выбросов крайне мало, поэтому можно их удалить для надёжности. \n",
    "\n",
    "`DivAirportLandings` - выбросами считаются редкие значения отличные от 0. Если их удалить, то в целом, можно удалять и сам признак, ибо информации в нём не останется. В таком случае модель не будет учитывать количество промежуточных остановок (ремонт, заправка и т.д.) самолёта во время рейса, однако количество таких объектов составляет лишь 0.2% от всех данных, поэтому, возможно, модель и так не особо учтёт их. С учётом этого, данный признак можно удалить полностью."
   ]
  },
  {
   "cell_type": "markdown",
   "metadata": {},
   "source": [
    "Остальные признаки связаны со временем и про них в целом сложно что-то сказать. Возможно, в датасете просто относительно мало данных о длительных поездках и\\или о рейсах с большой задержкой отбытия\\прибытия. "
   ]
  },
  {
   "cell_type": "markdown",
   "metadata": {},
   "source": [
    "Посмотрим на процент объектов, которые останутся после удаления любых выбросов:"
   ]
  },
  {
   "cell_type": "code",
   "execution_count": 67,
   "metadata": {},
   "outputs": [
    {
     "data": {
      "text/plain": [
       "71.9296288322784"
      ]
     },
     "execution_count": 67,
     "metadata": {},
     "output_type": "execute_result"
    }
   ],
   "source": [
    "N = prepared_dt.shape[0]\n",
    "truncated_dt = prepared_dt[~outliers_mask.any(axis=1)]\n",
    "truncated_dt = truncated_dt.drop(columns=\"DivAirportLandings\")\n",
    "truncated_dt.shape[0] / N * 100"
   ]
  },
  {
   "cell_type": "markdown",
   "metadata": {},
   "source": [
    "То есть примерно 30% датасета так или иначе содержит выбросы. Это довольно существенная часть, так что данные значения может и не являются выбросами в целом, но для лучшей работы модели, всё-таки удалим выбросы из рассмотрения"
   ]
  },
  {
   "cell_type": "code",
   "execution_count": 68,
   "metadata": {},
   "outputs": [],
   "source": [
    "num_fts = [col for col in num_fts if col != \"DivAirportLandings\"]"
   ]
  },
  {
   "cell_type": "code",
   "execution_count": 69,
   "metadata": {},
   "outputs": [
    {
     "data": {
      "image/png": "[encoded data removed]",
      "text/plain": [
       "<Figure size 2000x1000 with 13 Axes>"
      ]
     },
     "metadata": {},
     "output_type": "display_data"
    }
   ],
   "source": [
    "sns.set_palette('coolwarm')\n",
    "fig = plt.figure(figsize=(20, 10))\n",
    "for idx, numerical in enumerate(num_fts):\n",
    "    idx_row = idx // 6\n",
    "    idx_col = idx % 6\n",
    "    if idx == len(num_fts) - 1:\n",
    "        ax = plt.subplot(3, 6, (idx + 1, 18))\n",
    "    else: \n",
    "        ax = plt.subplot(3, 6, idx + 1)\n",
    "    ax.title.set_text(numerical)\n",
    "    ax.set_xlabel(\"Values\")\n",
    "    ax.set_ylabel(\"Count\")\n",
    "    ax.hist(truncated_dt[numerical])\n",
    "plt.tight_layout()\n",
    "plt.show()"
   ]
  },
  {
   "cell_type": "markdown",
   "metadata": {},
   "source": [
    "## Categorical features"
   ]
  },
  {
   "cell_type": "code",
   "execution_count": 70,
   "metadata": {},
   "outputs": [
    {
     "data": {
      "text/plain": [
       "['Marketing_Airline_Network',\n",
       " 'Operated_or_Branded_Code_Share_Partners',\n",
       " 'Operating_Airline',\n",
       " 'OriginCityName',\n",
       " 'OriginState',\n",
       " 'DestCityName',\n",
       " 'DestState']"
      ]
     },
     "execution_count": 70,
     "metadata": {},
     "output_type": "execute_result"
    }
   ],
   "source": [
    "cat_ft = truncated_dt.select_dtypes(exclude=[\"int\", \"float\", \"bool\"]).columns.to_list()\n",
    "cat_ft"
   ]
  },
  {
   "cell_type": "markdown",
   "metadata": {},
   "source": [
    "`Cancelled` - класс, его не рассматриваем в данном разделе."
   ]
  },
  {
   "cell_type": "code",
   "execution_count": 71,
   "metadata": {},
   "outputs": [
    {
     "data": {
      "text/plain": [
       "Marketing_Airline_Network                   10\n",
       "Operated_or_Branded_Code_Share_Partners     14\n",
       "Operating_Airline                           21\n",
       "OriginCityName                             368\n",
       "OriginState                                 53\n",
       "DestCityName                               367\n",
       "DestState                                   53\n",
       "dtype: int64"
      ]
     },
     "execution_count": 71,
     "metadata": {},
     "output_type": "execute_result"
    }
   ],
   "source": [
    "truncated_dt[cat_ft].nunique()"
   ]
  },
  {
   "cell_type": "markdown",
   "metadata": {},
   "source": [
    "### Origin vs Dest"
   ]
  },
  {
   "cell_type": "markdown",
   "metadata": {},
   "source": [
    "Можно заметить, что в парах (`OriginCityName`, `DestCityName`) и (`OriginState`, `DestState`) одинаковое (или почти) количество категорий. Рассмотрим их более детально."
   ]
  },
  {
   "cell_type": "code",
   "execution_count": 72,
   "metadata": {},
   "outputs": [
    {
     "data": {
      "text/plain": [
       "{'Watertown, SD'}"
      ]
     },
     "execution_count": 72,
     "metadata": {},
     "output_type": "execute_result"
    }
   ],
   "source": [
    "set(truncated_dt[\"OriginCityName\"].unique()) ^ set(truncated_dt[\"DestCityName\"].unique())"
   ]
  },
  {
   "cell_type": "code",
   "execution_count": 73,
   "metadata": {},
   "outputs": [
    {
     "data": {
      "text/plain": [
       "1"
      ]
     },
     "execution_count": 73,
     "metadata": {},
     "output_type": "execute_result"
    }
   ],
   "source": [
    "sum(truncated_dt[\"OriginCityName\"] == \"Watertown, SD\")"
   ]
  },
  {
   "cell_type": "code",
   "execution_count": 74,
   "metadata": {},
   "outputs": [
    {
     "data": {
      "text/plain": [
       "set()"
      ]
     },
     "execution_count": 74,
     "metadata": {},
     "output_type": "execute_result"
    }
   ],
   "source": [
    "set(truncated_dt[\"OriginState\"].unique()) ^ set(truncated_dt[\"DestState\"].unique())"
   ]
  },
  {
   "cell_type": "code",
   "execution_count": 75,
   "metadata": {},
   "outputs": [
    {
     "data": {
      "text/html": [
       "<div>\n",
       "<style scoped>\n",
       "    .dataframe tbody tr th:only-of-type {\n",
       "        vertical-align: middle;\n",
       "    }\n",
       "\n",
       "    .dataframe tbody tr th {\n",
       "        vertical-align: top;\n",
       "    }\n",
       "\n",
       "    .dataframe thead th {\n",
       "        text-align: right;\n",
       "    }\n",
       "</style>\n",
       "<table border=\"1\" class=\"dataframe\">\n",
       "  <thead>\n",
       "    <tr style=\"text-align: right;\">\n",
       "      <th></th>\n",
       "      <th>Marketing_Airline_Network</th>\n",
       "      <th>Operated_or_Branded_Code_Share_Partners</th>\n",
       "      <th>Operating_Airline</th>\n",
       "      <th>OriginCityName</th>\n",
       "      <th>OriginState</th>\n",
       "      <th>DestCityName</th>\n",
       "      <th>DestState</th>\n",
       "    </tr>\n",
       "  </thead>\n",
       "  <tbody>\n",
       "    <tr>\n",
       "      <th>3407657</th>\n",
       "      <td>UA</td>\n",
       "      <td>UA_CODESHARE</td>\n",
       "      <td>OO</td>\n",
       "      <td>Watertown, SD</td>\n",
       "      <td>SD</td>\n",
       "      <td>Denver, CO</td>\n",
       "      <td>CO</td>\n",
       "    </tr>\n",
       "  </tbody>\n",
       "</table>\n",
       "</div>"
      ],
      "text/plain": [
       "        Marketing_Airline_Network Operated_or_Branded_Code_Share_Partners  \\\n",
       "3407657                        UA                            UA_CODESHARE   \n",
       "\n",
       "        Operating_Airline OriginCityName OriginState DestCityName DestState  \n",
       "3407657                OO  Watertown, SD          SD   Denver, CO        CO  "
      ]
     },
     "execution_count": 75,
     "metadata": {},
     "output_type": "execute_result"
    }
   ],
   "source": [
    "truncated_dt[cat_ft][truncated_dt[\"OriginCityName\"] == \"Watertown, SD\"]"
   ]
  },
  {
   "cell_type": "markdown",
   "metadata": {},
   "source": [
    "Удалим этот объект, тогда в перечисленных выше парах будут абсолютно одинаковые категории."
   ]
  },
  {
   "cell_type": "code",
   "execution_count": 76,
   "metadata": {},
   "outputs": [],
   "source": [
    "idx_to_del = truncated_dt[cat_ft][truncated_dt[\"OriginCityName\"] == \"Watertown, SD\"].index\n",
    "truncated_dt = truncated_dt.drop(index=idx_to_del).reset_index(drop=True)"
   ]
  },
  {
   "cell_type": "code",
   "execution_count": 77,
   "metadata": {},
   "outputs": [
    {
     "data": {
      "text/plain": [
       "Marketing_Airline_Network                   10\n",
       "Operated_or_Branded_Code_Share_Partners     14\n",
       "Operating_Airline                           21\n",
       "OriginCityName                             367\n",
       "OriginState                                 53\n",
       "DestCityName                               367\n",
       "DestState                                   53\n",
       "dtype: int64"
      ]
     },
     "execution_count": 77,
     "metadata": {},
     "output_type": "execute_result"
    }
   ],
   "source": [
    "truncated_dt[cat_ft].nunique()"
   ]
  },
  {
   "cell_type": "markdown",
   "metadata": {},
   "source": [
    "## Target"
   ]
  },
  {
   "cell_type": "code",
   "execution_count": 78,
   "metadata": {},
   "outputs": [],
   "source": [
    "target = truncated_dt[\"Cancelled\"]"
   ]
  },
  {
   "cell_type": "code",
   "execution_count": 79,
   "metadata": {},
   "outputs": [
    {
     "data": {
      "image/png": "[encoded data removed]",
      "text/plain": [
       "<Figure size 640x480 with 1 Axes>"
      ]
     },
     "metadata": {},
     "output_type": "display_data"
    }
   ],
   "source": [
    "sns.set_palette(\"icefire\")\n",
    "ax = sns.histplot(target, bins=len(target.unique()), discrete=True, \n",
    "                  stat=\"percent\")\n",
    "ax.set_xticks(np.arange(len(target.unique())))\n",
    "ax.set_yticks([*ax.get_yticks(), 5])\n",
    "for p in ax.patches:\n",
    "    text = f\"{round(p.get_height())}%\"\n",
    "    ax.text(p.get_x() + p.get_width() / 2., p.get_height(), text,\n",
    "    fontsize=10, ha='center', va='bottom')\n",
    "    ax.set_xlabel(\"Class\")\n",
    "    plt.title(\"Percentage of classes\")\n",
    "pass"
   ]
  },
  {
   "cell_type": "markdown",
   "metadata": {},
   "source": [
    "## Naming"
   ]
  },
  {
   "cell_type": "code",
   "execution_count": 80,
   "metadata": {},
   "outputs": [
    {
     "data": {
      "text/plain": [
       "['Cancelled',\n",
       " 'Diverted',\n",
       " 'CRSDepTime',\n",
       " 'DepDelay',\n",
       " 'CRSElapsedTime',\n",
       " 'Month',\n",
       " 'DayofMonth',\n",
       " 'DayOfWeek',\n",
       " 'Marketing_Airline_Network',\n",
       " 'Operated_or_Branded_Code_Share_Partners',\n",
       " 'Operating_Airline',\n",
       " 'Flight_Number_Operating_Airline',\n",
       " 'OriginAirportID',\n",
       " 'OriginCityName',\n",
       " 'OriginState',\n",
       " 'OriginWac',\n",
       " 'DestAirportID',\n",
       " 'DestCityName',\n",
       " 'DestState',\n",
       " 'DestWac',\n",
       " 'TaxiOut',\n",
       " 'TaxiIn',\n",
       " 'CRSArrTime',\n",
       " 'ArrDelay']"
      ]
     },
     "execution_count": 80,
     "metadata": {},
     "output_type": "execute_result"
    }
   ],
   "source": [
    "truncated_dt.columns.to_list()"
   ]
  },
  {
   "cell_type": "code",
   "execution_count": 81,
   "metadata": {},
   "outputs": [],
   "source": [
    "rename_map = {\n",
    "    \"Marketing_Airline_Network\": \"Mark_Airline\",\n",
    "    \"Operated_or_Branded_Code_Share_Partners\": \"Partners_Airline\",\n",
    "    \"Operating_Airline\": \"Op_Airline\",\n",
    "    \"Flight_Number_Operating_Airline\": \"Flight\",\n",
    "\n",
    "}\n",
    "final_dt = truncated_dt.rename(columns=rename_map)"
   ]
  },
  {
   "cell_type": "markdown",
   "metadata": {},
   "source": [
    "## Split"
   ]
  },
  {
   "cell_type": "code",
   "execution_count": 82,
   "metadata": {},
   "outputs": [],
   "source": [
    "features = final_dt.drop(columns=\"Cancelled\")\n",
    "target = final_dt[\"Cancelled\"].astype(\"int\")"
   ]
  },
  {
   "cell_type": "code",
   "execution_count": 83,
   "metadata": {},
   "outputs": [],
   "source": [
    "features[\"Diverted\"] = features[\"Diverted\"].astype(\"int\")"
   ]
  },
  {
   "cell_type": "code",
   "execution_count": 84,
   "metadata": {},
   "outputs": [],
   "source": [
    "X_train, X_test, y_train, y_test = train_test_split(\n",
    "    features, target, test_size=0.2, stratify=target,\n",
    "    shuffle=True, random_state=2024\n",
    ")"
   ]
  },
  {
   "cell_type": "code",
   "execution_count": 85,
   "metadata": {},
   "outputs": [
    {
     "name": "stdout",
     "output_type": "stream",
     "text": [
      "Train: 2346814\n",
      "Test:  586704\n"
     ]
    }
   ],
   "source": [
    "print(f\"Train: {X_train.shape[0]}\")\n",
    "print(f\"Test:  {X_test.shape[0]}\")"
   ]
  },
  {
   "cell_type": "markdown",
   "metadata": {},
   "source": [
    "## Encoding"
   ]
  },
  {
   "cell_type": "code",
   "execution_count": 86,
   "metadata": {},
   "outputs": [],
   "source": [
    "class CustomEncoder:\n",
    "    def __init__(self, to_te, to_ohe):\n",
    "        self.__to_te = to_te\n",
    "        self.__to_ohe = to_ohe\n",
    "        self.te = TargetEncoder()\n",
    "        self.ohe = OneHotEncoder(sparse_output=False, handle_unknown=\"ignore\",\n",
    "                                 max_categories=100, dtype=np.int8)\n",
    "\n",
    "    @staticmethod\n",
    "    def to_df(data, encoder, cols):\n",
    "        tf = encoder.transform(data[cols])\n",
    "        out_cols = encoder.get_feature_names_out(cols)\n",
    "        return pd.DataFrame(tf, columns=out_cols, index=data.index)\n",
    "\n",
    "    def fit(self, X, y):\n",
    "        self.te.fit(X[self.__to_te], y)\n",
    "        self.ohe.fit(X[self.__to_ohe])\n",
    "        return self\n",
    "    \n",
    "    def transform(self, X):\n",
    "        te_tf = self.to_df(X, self.te, self.__to_te)\n",
    "        ohe_tf = self.to_df(X, self.ohe, self.__to_ohe)\n",
    "\n",
    "        other = X.drop(columns=[*self.__to_te, *self.__to_ohe])\n",
    "        return pd.concat([other, te_tf, ohe_tf], axis=1)\n",
    "    \n",
    "    def fit_transform(self, X, y):\n",
    "        self.fit(X, y)\n",
    "        return self.transform(X)"
   ]
  },
  {
   "cell_type": "code",
   "execution_count": 87,
   "metadata": {},
   "outputs": [
    {
     "data": {
      "text/plain": [
       "Mark_Airline         10\n",
       "Partners_Airline     14\n",
       "Op_Airline           21\n",
       "OriginCityName      367\n",
       "OriginState          53\n",
       "DestCityName        367\n",
       "DestState            53\n",
       "dtype: int64"
      ]
     },
     "execution_count": 87,
     "metadata": {},
     "output_type": "execute_result"
    }
   ],
   "source": [
    "X_train.select_dtypes(exclude=[\"int\", \"float\"]).nunique()"
   ]
  },
  {
   "cell_type": "markdown",
   "metadata": {},
   "source": [
    "Признаки `OriginCityName` и `DestCityName` имеют довольно большое количество категорий, поэтому закодируем их с помощью TargetEncoder'a"
   ]
  },
  {
   "cell_type": "code",
   "execution_count": 88,
   "metadata": {},
   "outputs": [],
   "source": [
    "cat_ft = X_train.select_dtypes(exclude=[\"int\", \"float\"]).columns.to_list()\n",
    "to_te = [\"OriginCityName\", \"DestCityName\", \"OriginState\", \"DestState\"]\n",
    "to_ohe = [col for col in cat_ft if col not in to_te]"
   ]
  },
  {
   "cell_type": "code",
   "execution_count": 89,
   "metadata": {},
   "outputs": [],
   "source": [
    "encoder = CustomEncoder(to_te=to_te, to_ohe=to_ohe)\n",
    "X_train = encoder.fit_transform(X_train, y_train)\n",
    "X_test = encoder.transform(X_test)"
   ]
  },
  {
   "cell_type": "code",
   "execution_count": 90,
   "metadata": {},
   "outputs": [
    {
     "data": {
      "text/html": [
       "<div>\n",
       "<style scoped>\n",
       "    .dataframe tbody tr th:only-of-type {\n",
       "        vertical-align: middle;\n",
       "    }\n",
       "\n",
       "    .dataframe tbody tr th {\n",
       "        vertical-align: top;\n",
       "    }\n",
       "\n",
       "    .dataframe thead th {\n",
       "        text-align: right;\n",
       "    }\n",
       "</style>\n",
       "<table border=\"1\" class=\"dataframe\">\n",
       "  <thead>\n",
       "    <tr style=\"text-align: right;\">\n",
       "      <th></th>\n",
       "      <th>Diverted</th>\n",
       "      <th>CRSDepTime</th>\n",
       "      <th>DepDelay</th>\n",
       "      <th>CRSElapsedTime</th>\n",
       "      <th>Month</th>\n",
       "      <th>DayofMonth</th>\n",
       "      <th>DayOfWeek</th>\n",
       "      <th>Flight</th>\n",
       "      <th>OriginAirportID</th>\n",
       "      <th>OriginWac</th>\n",
       "      <th>...</th>\n",
       "      <th>Op_Airline_NK</th>\n",
       "      <th>Op_Airline_OH</th>\n",
       "      <th>Op_Airline_OO</th>\n",
       "      <th>Op_Airline_PT</th>\n",
       "      <th>Op_Airline_QX</th>\n",
       "      <th>Op_Airline_UA</th>\n",
       "      <th>Op_Airline_WN</th>\n",
       "      <th>Op_Airline_YV</th>\n",
       "      <th>Op_Airline_YX</th>\n",
       "      <th>Op_Airline_ZW</th>\n",
       "    </tr>\n",
       "  </thead>\n",
       "  <tbody>\n",
       "    <tr>\n",
       "      <th>1171327</th>\n",
       "      <td>0</td>\n",
       "      <td>640</td>\n",
       "      <td>3.0</td>\n",
       "      <td>75.0</td>\n",
       "      <td>7</td>\n",
       "      <td>6</td>\n",
       "      <td>3</td>\n",
       "      <td>2012</td>\n",
       "      <td>13796</td>\n",
       "      <td>91</td>\n",
       "      <td>...</td>\n",
       "      <td>0</td>\n",
       "      <td>0</td>\n",
       "      <td>0</td>\n",
       "      <td>0</td>\n",
       "      <td>0</td>\n",
       "      <td>0</td>\n",
       "      <td>1</td>\n",
       "      <td>0</td>\n",
       "      <td>0</td>\n",
       "      <td>0</td>\n",
       "    </tr>\n",
       "    <tr>\n",
       "      <th>2219406</th>\n",
       "      <td>0</td>\n",
       "      <td>970</td>\n",
       "      <td>-2.0</td>\n",
       "      <td>150.0</td>\n",
       "      <td>1</td>\n",
       "      <td>1</td>\n",
       "      <td>6</td>\n",
       "      <td>2860</td>\n",
       "      <td>13930</td>\n",
       "      <td>41</td>\n",
       "      <td>...</td>\n",
       "      <td>0</td>\n",
       "      <td>0</td>\n",
       "      <td>0</td>\n",
       "      <td>0</td>\n",
       "      <td>0</td>\n",
       "      <td>0</td>\n",
       "      <td>1</td>\n",
       "      <td>0</td>\n",
       "      <td>0</td>\n",
       "      <td>0</td>\n",
       "    </tr>\n",
       "    <tr>\n",
       "      <th>1348992</th>\n",
       "      <td>0</td>\n",
       "      <td>740</td>\n",
       "      <td>-5.0</td>\n",
       "      <td>75.0</td>\n",
       "      <td>5</td>\n",
       "      <td>20</td>\n",
       "      <td>5</td>\n",
       "      <td>4825</td>\n",
       "      <td>10731</td>\n",
       "      <td>34</td>\n",
       "      <td>...</td>\n",
       "      <td>0</td>\n",
       "      <td>0</td>\n",
       "      <td>0</td>\n",
       "      <td>0</td>\n",
       "      <td>0</td>\n",
       "      <td>0</td>\n",
       "      <td>0</td>\n",
       "      <td>0</td>\n",
       "      <td>0</td>\n",
       "      <td>0</td>\n",
       "    </tr>\n",
       "    <tr>\n",
       "      <th>2021570</th>\n",
       "      <td>0</td>\n",
       "      <td>942</td>\n",
       "      <td>-5.0</td>\n",
       "      <td>93.0</td>\n",
       "      <td>6</td>\n",
       "      <td>2</td>\n",
       "      <td>4</td>\n",
       "      <td>5425</td>\n",
       "      <td>10577</td>\n",
       "      <td>22</td>\n",
       "      <td>...</td>\n",
       "      <td>0</td>\n",
       "      <td>0</td>\n",
       "      <td>0</td>\n",
       "      <td>0</td>\n",
       "      <td>0</td>\n",
       "      <td>0</td>\n",
       "      <td>0</td>\n",
       "      <td>0</td>\n",
       "      <td>0</td>\n",
       "      <td>0</td>\n",
       "    </tr>\n",
       "    <tr>\n",
       "      <th>2731015</th>\n",
       "      <td>0</td>\n",
       "      <td>300</td>\n",
       "      <td>-7.0</td>\n",
       "      <td>109.0</td>\n",
       "      <td>3</td>\n",
       "      <td>10</td>\n",
       "      <td>4</td>\n",
       "      <td>3177</td>\n",
       "      <td>11111</td>\n",
       "      <td>64</td>\n",
       "      <td>...</td>\n",
       "      <td>0</td>\n",
       "      <td>0</td>\n",
       "      <td>1</td>\n",
       "      <td>0</td>\n",
       "      <td>0</td>\n",
       "      <td>0</td>\n",
       "      <td>0</td>\n",
       "      <td>0</td>\n",
       "      <td>0</td>\n",
       "      <td>0</td>\n",
       "    </tr>\n",
       "  </tbody>\n",
       "</table>\n",
       "<p>5 rows × 65 columns</p>\n",
       "</div>"
      ],
      "text/plain": [
       "         Diverted  CRSDepTime  DepDelay  CRSElapsedTime  Month  DayofMonth  \\\n",
       "1171327         0         640       3.0            75.0      7           6   \n",
       "2219406         0         970      -2.0           150.0      1           1   \n",
       "1348992         0         740      -5.0            75.0      5          20   \n",
       "2021570         0         942      -5.0            93.0      6           2   \n",
       "2731015         0         300      -7.0           109.0      3          10   \n",
       "\n",
       "         DayOfWeek  Flight  OriginAirportID  OriginWac  ...  Op_Airline_NK  \\\n",
       "1171327          3    2012            13796         91  ...              0   \n",
       "2219406          6    2860            13930         41  ...              0   \n",
       "1348992          5    4825            10731         34  ...              0   \n",
       "2021570          4    5425            10577         22  ...              0   \n",
       "2731015          4    3177            11111         64  ...              0   \n",
       "\n",
       "         Op_Airline_OH  Op_Airline_OO  Op_Airline_PT  Op_Airline_QX  \\\n",
       "1171327              0              0              0              0   \n",
       "2219406              0              0              0              0   \n",
       "1348992              0              0              0              0   \n",
       "2021570              0              0              0              0   \n",
       "2731015              0              1              0              0   \n",
       "\n",
       "         Op_Airline_UA  Op_Airline_WN  Op_Airline_YV  Op_Airline_YX  \\\n",
       "1171327              0              1              0              0   \n",
       "2219406              0              1              0              0   \n",
       "1348992              0              0              0              0   \n",
       "2021570              0              0              0              0   \n",
       "2731015              0              0              0              0   \n",
       "\n",
       "         Op_Airline_ZW  \n",
       "1171327              0  \n",
       "2219406              0  \n",
       "1348992              0  \n",
       "2021570              0  \n",
       "2731015              0  \n",
       "\n",
       "[5 rows x 65 columns]"
      ]
     },
     "execution_count": 90,
     "metadata": {},
     "output_type": "execute_result"
    }
   ],
   "source": [
    "X_train.head(5)"
   ]
  },
  {
   "cell_type": "markdown",
   "metadata": {},
   "source": [
    "## Normalization"
   ]
  },
  {
   "cell_type": "markdown",
   "metadata": {},
   "source": [
    "Так как kNN основан на расстоянии между объектами, он чувствителен к \"масштабу\" признаков. Поэтому нормализуем их."
   ]
  },
  {
   "cell_type": "code",
   "execution_count": 91,
   "metadata": {},
   "outputs": [],
   "source": [
    "ss = StandardScaler()\n",
    "X_train = pd.DataFrame(ss.fit_transform(X_train), columns=X_train.columns, index=X_train.index)\n",
    "X_test = pd.DataFrame(ss.transform(X_test), columns=X_test.columns, index=X_test.index)"
   ]
  },
  {
   "cell_type": "markdown",
   "metadata": {},
   "source": [
    "# Models"
   ]
  },
  {
   "cell_type": "code",
   "execution_count": 172,
   "metadata": {},
   "outputs": [],
   "source": [
    "def evaluate(estimator, x_data):\n",
    "    y_pred = estimator.predict(x_data)\n",
    "    y_proba = estimator.predict_proba(x_data)[:, 1]\n",
    "    return y_pred, y_proba"
   ]
  },
  {
   "cell_type": "code",
   "execution_count": 171,
   "metadata": {},
   "outputs": [],
   "source": [
    "def custom_metric(estimator, x_data, y_data):\n",
    "    y_pred, y_proba = evaluate(estimator, x_data)\n",
    "    result = {\n",
    "        \"f1\": f1_score(y_data, y_pred),\n",
    "        \"precision\": precision_score(y_data, y_pred),\n",
    "        \"recall\": recall_score(y_data, y_pred),\n",
    "        \"roc_auc\": roc_auc_score(y_data, y_proba)\n",
    "    }\n",
    "    return result"
   ]
  },
  {
   "cell_type": "code",
   "execution_count": 170,
   "metadata": {},
   "outputs": [],
   "source": [
    "def train(estimator, param_grid, x_train, y_train):\n",
    "    gs = GridSearchCV(estimator, param_grid, scoring=custom_metric, refit=\"f1\")\n",
    "    gs.fit(x_train, y_train)\n",
    "    return gs"
   ]
  },
  {
   "cell_type": "code",
   "execution_count": 169,
   "metadata": {},
   "outputs": [],
   "source": [
    "def cv_res_prepare(cv_results):\n",
    "    cv_results = pd.DataFrame(cv_results)\n",
    "    columns = []\n",
    "    for col in cv_results:\n",
    "        if col.startswith((\"param_\", \"mean_\", \"rank_\")):\n",
    "            columns.append(col)\n",
    "    return cv_results[columns]"
   ]
  },
  {
   "cell_type": "code",
   "execution_count": 168,
   "metadata": {},
   "outputs": [],
   "source": [
    "def plot_graphs(display_cls, y_true, y_proba, title=None):\n",
    "    if title:\n",
    "        plt.title(title)\n",
    "    plt.figure(figsize=(15, 15))\n",
    "    display_cls.from_predictions(y_true, y_proba)"
   ]
  },
  {
   "cell_type": "code",
   "execution_count": 167,
   "metadata": {},
   "outputs": [],
   "source": [
    "def report(grid_search, x_test, y_test):\n",
    "    cv_results = cv_res_prepare(grid_search.cv_results_)\n",
    "    \n",
    "    estimator = grid_search.best_estimator_\n",
    "    test_results = custom_metric(estimator, x_test, y_test)\n",
    "    test_results = pd.DataFrame({key: [value] for key, value in test_results.items()})\n",
    "    \n",
    "    y_pred, y_proba = evaluate(estimator, x_test)\n",
    "    \n",
    "    print(\"CV RESULTS\")\n",
    "    display(cv_results)\n",
    "    print(\"TEST RESULTS\")\n",
    "    display(test_results)\n",
    "    \n",
    "    disp = ConfusionMatrixDisplay.from_predictions(y_test, y_pred)\n",
    "    disp.ax_.set_title(\"Confusion Matrix\")\n",
    "    plot_graphs(RocCurveDisplay, y_test, y_proba, title=\"Roc Curve\")\n",
    "        \n",
    "    return cv_results, test_results"
   ]
  },
  {
   "cell_type": "markdown",
   "metadata": {},
   "source": [
    "## kNN"
   ]
  },
  {
   "cell_type": "code",
   "execution_count": null,
   "metadata": {},
   "outputs": [],
   "source": [
    "param_grid = {\n",
    "    \"n_neighbors\": np.arange(1, 10, 3)\n",
    "}\n",
    "knn_gs = train(KNeighborsClassifier(n_jobs=-1), param_grid, X_train, y_train)"
   ]
  },
  {
   "cell_type": "code",
   "execution_count": null,
   "metadata": {},
   "outputs": [
    {
     "name": "stdout",
     "output_type": "stream",
     "text": [
      "CV RESULTS\n"
     ]
    },
    {
     "data": {
      "text/html": [
       "<div>\n",
       "<style scoped>\n",
       "    .dataframe tbody tr th:only-of-type {\n",
       "        vertical-align: middle;\n",
       "    }\n",
       "\n",
       "    .dataframe tbody tr th {\n",
       "        vertical-align: top;\n",
       "    }\n",
       "\n",
       "    .dataframe thead th {\n",
       "        text-align: right;\n",
       "    }\n",
       "</style>\n",
       "<table border=\"1\" class=\"dataframe\">\n",
       "  <thead>\n",
       "    <tr style=\"text-align: right;\">\n",
       "      <th></th>\n",
       "      <th>mean_fit_time</th>\n",
       "      <th>mean_score_time</th>\n",
       "      <th>param_n_estimators</th>\n",
       "      <th>mean_test_f1</th>\n",
       "      <th>rank_test_f1</th>\n",
       "      <th>mean_test_precision</th>\n",
       "      <th>rank_test_precision</th>\n",
       "      <th>mean_test_recall</th>\n",
       "      <th>rank_test_recall</th>\n",
       "      <th>mean_test_roc_auc</th>\n",
       "      <th>rank_test_roc_auc</th>\n",
       "    </tr>\n",
       "  </thead>\n",
       "  <tbody>\n",
       "    <tr>\n",
       "      <th>0</th>\n",
       "      <td>3.394628</td>\n",
       "      <td>0.413802</td>\n",
       "      <td>1</td>\n",
       "      <td>0.968364</td>\n",
       "      <td>2</td>\n",
       "      <td>0.968152</td>\n",
       "      <td>2</td>\n",
       "      <td>0.968578</td>\n",
       "      <td>1</td>\n",
       "      <td>0.983627</td>\n",
       "      <td>2</td>\n",
       "    </tr>\n",
       "    <tr>\n",
       "      <th>1</th>\n",
       "      <td>3.356428</td>\n",
       "      <td>0.417826</td>\n",
       "      <td>2</td>\n",
       "      <td>0.971006</td>\n",
       "      <td>1</td>\n",
       "      <td>0.997644</td>\n",
       "      <td>1</td>\n",
       "      <td>0.945915</td>\n",
       "      <td>2</td>\n",
       "      <td>0.998084</td>\n",
       "      <td>1</td>\n",
       "    </tr>\n",
       "  </tbody>\n",
       "</table>\n",
       "</div>"
      ],
      "text/plain": [
       "   mean_fit_time  mean_score_time  param_n_estimators  mean_test_f1  \\\n",
       "0       3.394628         0.413802                   1      0.968364   \n",
       "1       3.356428         0.417826                   2      0.971006   \n",
       "\n",
       "   rank_test_f1  mean_test_precision  rank_test_precision  mean_test_recall  \\\n",
       "0             2             0.968152                    2          0.968578   \n",
       "1             1             0.997644                    1          0.945915   \n",
       "\n",
       "   rank_test_recall  mean_test_roc_auc  rank_test_roc_auc  \n",
       "0                 1           0.983627                  2  \n",
       "1                 2           0.998084                  1  "
      ]
     },
     "metadata": {},
     "output_type": "display_data"
    },
    {
     "name": "stdout",
     "output_type": "stream",
     "text": [
      "TEST RESULTS\n"
     ]
    },
    {
     "data": {
      "text/html": [
       "<div>\n",
       "<style scoped>\n",
       "    .dataframe tbody tr th:only-of-type {\n",
       "        vertical-align: middle;\n",
       "    }\n",
       "\n",
       "    .dataframe tbody tr th {\n",
       "        vertical-align: top;\n",
       "    }\n",
       "\n",
       "    .dataframe thead th {\n",
       "        text-align: right;\n",
       "    }\n",
       "</style>\n",
       "<table border=\"1\" class=\"dataframe\">\n",
       "  <thead>\n",
       "    <tr style=\"text-align: right;\">\n",
       "      <th></th>\n",
       "      <th>f1</th>\n",
       "      <th>precision</th>\n",
       "      <th>recall</th>\n",
       "      <th>roc_auc</th>\n",
       "    </tr>\n",
       "  </thead>\n",
       "  <tbody>\n",
       "    <tr>\n",
       "      <th>0</th>\n",
       "      <td>0.978853</td>\n",
       "      <td>0.998401</td>\n",
       "      <td>0.960056</td>\n",
       "      <td>0.998608</td>\n",
       "    </tr>\n",
       "  </tbody>\n",
       "</table>\n",
       "</div>"
      ],
      "text/plain": [
       "         f1  precision    recall   roc_auc\n",
       "0  0.978853   0.998401  0.960056  0.998608"
      ]
     },
     "metadata": {},
     "output_type": "display_data"
    },
    {
     "data": {
      "image/png": "[encoded data removed]",
      "text/plain": [
       "<Figure size 640x480 with 2 Axes>"
      ]
     },
     "metadata": {},
     "output_type": "display_data"
    },
    {
     "data": {
      "text/plain": [
       "<Figure size 1500x1500 with 0 Axes>"
      ]
     },
     "metadata": {},
     "output_type": "display_data"
    },
    {
     "data": {
      "image/png": "[encoded data removed]",
      "text/plain": [
       "<Figure size 640x480 with 1 Axes>"
      ]
     },
     "metadata": {},
     "output_type": "display_data"
    }
   ],
   "source": [
    "knn_cv, knn_test = report(knn_gs, X_test, y_test)"
   ]
  },
  {
   "cell_type": "markdown",
   "metadata": {},
   "source": [
    "## Tree"
   ]
  },
  {
   "cell_type": "code",
   "execution_count": 141,
   "metadata": {},
   "outputs": [],
   "source": [
    "param_grid = {\n",
    "    \"max_depth\": np.arange(5, 41, 5)\n",
    "}\n",
    "tree_gs = train(DecisionTreeClassifier(class_weight=\"balanced\"), param_grid, X_train, y_train)"
   ]
  },
  {
   "cell_type": "code",
   "execution_count": 173,
   "metadata": {},
   "outputs": [
    {
     "name": "stdout",
     "output_type": "stream",
     "text": [
      "CV RESULTS\n"
     ]
    },
    {
     "data": {
      "text/html": [
       "<div>\n",
       "<style scoped>\n",
       "    .dataframe tbody tr th:only-of-type {\n",
       "        vertical-align: middle;\n",
       "    }\n",
       "\n",
       "    .dataframe tbody tr th {\n",
       "        vertical-align: top;\n",
       "    }\n",
       "\n",
       "    .dataframe thead th {\n",
       "        text-align: right;\n",
       "    }\n",
       "</style>\n",
       "<table border=\"1\" class=\"dataframe\">\n",
       "  <thead>\n",
       "    <tr style=\"text-align: right;\">\n",
       "      <th></th>\n",
       "      <th>mean_fit_time</th>\n",
       "      <th>mean_score_time</th>\n",
       "      <th>param_max_depth</th>\n",
       "      <th>mean_test_f1</th>\n",
       "      <th>rank_test_f1</th>\n",
       "      <th>mean_test_precision</th>\n",
       "      <th>rank_test_precision</th>\n",
       "      <th>mean_test_recall</th>\n",
       "      <th>rank_test_recall</th>\n",
       "      <th>mean_test_roc_auc</th>\n",
       "      <th>rank_test_roc_auc</th>\n",
       "    </tr>\n",
       "  </thead>\n",
       "  <tbody>\n",
       "    <tr>\n",
       "      <th>0</th>\n",
       "      <td>9.670401</td>\n",
       "      <td>0.392234</td>\n",
       "      <td>5</td>\n",
       "      <td>0.986036</td>\n",
       "      <td>2</td>\n",
       "      <td>0.972458</td>\n",
       "      <td>2</td>\n",
       "      <td>1.000000</td>\n",
       "      <td>1</td>\n",
       "      <td>0.999411</td>\n",
       "      <td>1</td>\n",
       "    </tr>\n",
       "    <tr>\n",
       "      <th>1</th>\n",
       "      <td>10.423438</td>\n",
       "      <td>0.331231</td>\n",
       "      <td>40</td>\n",
       "      <td>0.997041</td>\n",
       "      <td>1</td>\n",
       "      <td>0.997286</td>\n",
       "      <td>1</td>\n",
       "      <td>0.996796</td>\n",
       "      <td>2</td>\n",
       "      <td>0.998342</td>\n",
       "      <td>2</td>\n",
       "    </tr>\n",
       "  </tbody>\n",
       "</table>\n",
       "</div>"
      ],
      "text/plain": [
       "   mean_fit_time  mean_score_time  param_max_depth  mean_test_f1  \\\n",
       "0       9.670401         0.392234                5      0.986036   \n",
       "1      10.423438         0.331231               40      0.997041   \n",
       "\n",
       "   rank_test_f1  mean_test_precision  rank_test_precision  mean_test_recall  \\\n",
       "0             2             0.972458                    2          1.000000   \n",
       "1             1             0.997286                    1          0.996796   \n",
       "\n",
       "   rank_test_recall  mean_test_roc_auc  rank_test_roc_auc  \n",
       "0                 1           0.999411                  1  \n",
       "1                 2           0.998342                  2  "
      ]
     },
     "metadata": {},
     "output_type": "display_data"
    },
    {
     "name": "stdout",
     "output_type": "stream",
     "text": [
      "TEST RESULTS\n"
     ]
    },
    {
     "data": {
      "text/html": [
       "<div>\n",
       "<style scoped>\n",
       "    .dataframe tbody tr th:only-of-type {\n",
       "        vertical-align: middle;\n",
       "    }\n",
       "\n",
       "    .dataframe tbody tr th {\n",
       "        vertical-align: top;\n",
       "    }\n",
       "\n",
       "    .dataframe thead th {\n",
       "        text-align: right;\n",
       "    }\n",
       "</style>\n",
       "<table border=\"1\" class=\"dataframe\">\n",
       "  <thead>\n",
       "    <tr style=\"text-align: right;\">\n",
       "      <th></th>\n",
       "      <th>f1</th>\n",
       "      <th>precision</th>\n",
       "      <th>recall</th>\n",
       "      <th>roc_auc</th>\n",
       "    </tr>\n",
       "  </thead>\n",
       "  <tbody>\n",
       "    <tr>\n",
       "      <th>0</th>\n",
       "      <td>0.996944</td>\n",
       "      <td>0.997562</td>\n",
       "      <td>0.996326</td>\n",
       "      <td>0.998112</td>\n",
       "    </tr>\n",
       "  </tbody>\n",
       "</table>\n",
       "</div>"
      ],
      "text/plain": [
       "         f1  precision    recall   roc_auc\n",
       "0  0.996944   0.997562  0.996326  0.998112"
      ]
     },
     "metadata": {},
     "output_type": "display_data"
    },
    {
     "data": {
      "image/png": "[encoded data removed]",
      "text/plain": [
       "<Figure size 640x480 with 2 Axes>"
      ]
     },
     "metadata": {},
     "output_type": "display_data"
    },
    {
     "data": {
      "text/plain": [
       "<Figure size 1500x1500 with 0 Axes>"
      ]
     },
     "metadata": {},
     "output_type": "display_data"
    },
    {
     "data": {
      "image/png": "[encoded data removed]",
      "text/plain": [
       "<Figure size 640x480 with 1 Axes>"
      ]
     },
     "metadata": {},
     "output_type": "display_data"
    }
   ],
   "source": [
    "tree_cv, tree_test = report(tree_gs, X_test, y_test)"
   ]
  },
  {
   "cell_type": "markdown",
   "metadata": {},
   "source": [
    "## Forest"
   ]
  },
  {
   "cell_type": "code",
   "execution_count": 177,
   "metadata": {},
   "outputs": [],
   "source": [
    "param_grid = {\n",
    "    \"n_estimators\": np.arange(10, 111, 20),\n",
    "    \"max_depth\": np.arange(30, 51, 5)\n",
    "}\n",
    "rf_gs = train(RandomForestClassifier(class_weight=\"balanced\", n_jobs=-1), param_grid, X_train, y_train)"
   ]
  },
  {
   "cell_type": "code",
   "execution_count": 178,
   "metadata": {},
   "outputs": [
    {
     "name": "stdout",
     "output_type": "stream",
     "text": [
      "CV RESULTS\n"
     ]
    },
    {
     "data": {
      "text/html": [
       "<div>\n",
       "<style scoped>\n",
       "    .dataframe tbody tr th:only-of-type {\n",
       "        vertical-align: middle;\n",
       "    }\n",
       "\n",
       "    .dataframe tbody tr th {\n",
       "        vertical-align: top;\n",
       "    }\n",
       "\n",
       "    .dataframe thead th {\n",
       "        text-align: right;\n",
       "    }\n",
       "</style>\n",
       "<table border=\"1\" class=\"dataframe\">\n",
       "  <thead>\n",
       "    <tr style=\"text-align: right;\">\n",
       "      <th></th>\n",
       "      <th>mean_fit_time</th>\n",
       "      <th>mean_score_time</th>\n",
       "      <th>param_n_estimators</th>\n",
       "      <th>mean_test_f1</th>\n",
       "      <th>rank_test_f1</th>\n",
       "      <th>mean_test_precision</th>\n",
       "      <th>rank_test_precision</th>\n",
       "      <th>mean_test_recall</th>\n",
       "      <th>rank_test_recall</th>\n",
       "      <th>mean_test_roc_auc</th>\n",
       "      <th>rank_test_roc_auc</th>\n",
       "    </tr>\n",
       "  </thead>\n",
       "  <tbody>\n",
       "    <tr>\n",
       "      <th>0</th>\n",
       "      <td>3.394628</td>\n",
       "      <td>0.413802</td>\n",
       "      <td>1</td>\n",
       "      <td>0.968364</td>\n",
       "      <td>2</td>\n",
       "      <td>0.968152</td>\n",
       "      <td>2</td>\n",
       "      <td>0.968578</td>\n",
       "      <td>1</td>\n",
       "      <td>0.983627</td>\n",
       "      <td>2</td>\n",
       "    </tr>\n",
       "    <tr>\n",
       "      <th>1</th>\n",
       "      <td>3.356428</td>\n",
       "      <td>0.417826</td>\n",
       "      <td>2</td>\n",
       "      <td>0.971006</td>\n",
       "      <td>1</td>\n",
       "      <td>0.997644</td>\n",
       "      <td>1</td>\n",
       "      <td>0.945915</td>\n",
       "      <td>2</td>\n",
       "      <td>0.998084</td>\n",
       "      <td>1</td>\n",
       "    </tr>\n",
       "  </tbody>\n",
       "</table>\n",
       "</div>"
      ],
      "text/plain": [
       "   mean_fit_time  mean_score_time  param_n_estimators  mean_test_f1  \\\n",
       "0       3.394628         0.413802                   1      0.968364   \n",
       "1       3.356428         0.417826                   2      0.971006   \n",
       "\n",
       "   rank_test_f1  mean_test_precision  rank_test_precision  mean_test_recall  \\\n",
       "0             2             0.968152                    2          0.968578   \n",
       "1             1             0.997644                    1          0.945915   \n",
       "\n",
       "   rank_test_recall  mean_test_roc_auc  rank_test_roc_auc  \n",
       "0                 1           0.983627                  2  \n",
       "1                 2           0.998084                  1  "
      ]
     },
     "metadata": {},
     "output_type": "display_data"
    },
    {
     "name": "stdout",
     "output_type": "stream",
     "text": [
      "TEST RESULTS\n"
     ]
    },
    {
     "data": {
      "text/html": [
       "<div>\n",
       "<style scoped>\n",
       "    .dataframe tbody tr th:only-of-type {\n",
       "        vertical-align: middle;\n",
       "    }\n",
       "\n",
       "    .dataframe tbody tr th {\n",
       "        vertical-align: top;\n",
       "    }\n",
       "\n",
       "    .dataframe thead th {\n",
       "        text-align: right;\n",
       "    }\n",
       "</style>\n",
       "<table border=\"1\" class=\"dataframe\">\n",
       "  <thead>\n",
       "    <tr style=\"text-align: right;\">\n",
       "      <th></th>\n",
       "      <th>f1</th>\n",
       "      <th>precision</th>\n",
       "      <th>recall</th>\n",
       "      <th>roc_auc</th>\n",
       "    </tr>\n",
       "  </thead>\n",
       "  <tbody>\n",
       "    <tr>\n",
       "      <th>0</th>\n",
       "      <td>0.978853</td>\n",
       "      <td>0.998401</td>\n",
       "      <td>0.960056</td>\n",
       "      <td>0.998608</td>\n",
       "    </tr>\n",
       "  </tbody>\n",
       "</table>\n",
       "</div>"
      ],
      "text/plain": [
       "         f1  precision    recall   roc_auc\n",
       "0  0.978853   0.998401  0.960056  0.998608"
      ]
     },
     "metadata": {},
     "output_type": "display_data"
    },
    {
     "data": {
      "image/png": "[encoded data removed]",
      "text/plain": [
       "<Figure size 640x480 with 2 Axes>"
      ]
     },
     "metadata": {},
     "output_type": "display_data"
    },
    {
     "data": {
      "text/plain": [
       "<Figure size 1500x1500 with 0 Axes>"
      ]
     },
     "metadata": {},
     "output_type": "display_data"
    },
    {
     "data": {
      "image/png": "[encoded data removed]",
      "text/plain": [
       "<Figure size 640x480 with 1 Axes>"
      ]
     },
     "metadata": {},
     "output_type": "display_data"
    }
   ],
   "source": [
    "rf_cv, rf_test = report(rf_gs, X_test, y_test)"
   ]
  },
  {
   "cell_type": "markdown",
   "metadata": {},
   "source": [
    "# Results"
   ]
  }
 ],
 "metadata": {
  "kernelspec": {
   "display_name": "ml_env",
   "language": "python",
   "name": "python3"
  },
  "language_info": {
   "codemirror_mode": {
    "name": "ipython",
    "version": 3
   },
   "file_extension": ".py",
   "mimetype": "text/x-python",
   "name": "python",
   "nbconvert_exporter": "python",
   "pygments_lexer": "ipython3",
   "version": "3.10.0"
  }
 },
 "nbformat": 4,
 "nbformat_minor": 2
}
